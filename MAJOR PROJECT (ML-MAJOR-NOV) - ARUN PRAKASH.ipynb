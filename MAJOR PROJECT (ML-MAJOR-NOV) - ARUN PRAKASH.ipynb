{
 "cells": [
  {
   "cell_type": "markdown",
   "metadata": {},
   "source": [
    "## GOOGLE CLASSROOM NAME : ML11B2"
   ]
  },
  {
   "cell_type": "markdown",
   "metadata": {},
   "source": [
    "## Done by : Arun Prakash"
   ]
  },
  {
   "cell_type": "markdown",
   "metadata": {},
   "source": [
    "### Import Libraries"
   ]
  },
  {
   "cell_type": "code",
   "execution_count": 1,
   "metadata": {},
   "outputs": [],
   "source": [
    "import pandas as pd\n",
    "import numpy as np\n",
    "import matplotlib.pyplot as plt\n",
    "import seaborn as sns"
   ]
  },
  {
   "cell_type": "markdown",
   "metadata": {},
   "source": [
    "### Importing Data"
   ]
  },
  {
   "cell_type": "code",
   "execution_count": 2,
   "metadata": {},
   "outputs": [
    {
     "data": {
      "text/html": [
       "<div>\n",
       "<style scoped>\n",
       "    .dataframe tbody tr th:only-of-type {\n",
       "        vertical-align: middle;\n",
       "    }\n",
       "\n",
       "    .dataframe tbody tr th {\n",
       "        vertical-align: top;\n",
       "    }\n",
       "\n",
       "    .dataframe thead th {\n",
       "        text-align: right;\n",
       "    }\n",
       "</style>\n",
       "<table border=\"1\" class=\"dataframe\">\n",
       "  <thead>\n",
       "    <tr style=\"text-align: right;\">\n",
       "      <th></th>\n",
       "      <th>_unit_id</th>\n",
       "      <th>_golden</th>\n",
       "      <th>_unit_state</th>\n",
       "      <th>_trusted_judgments</th>\n",
       "      <th>_last_judgment_at</th>\n",
       "      <th>gender</th>\n",
       "      <th>gender:confidence</th>\n",
       "      <th>profile_yn</th>\n",
       "      <th>profile_yn:confidence</th>\n",
       "      <th>created</th>\n",
       "      <th>...</th>\n",
       "      <th>profileimage</th>\n",
       "      <th>retweet_count</th>\n",
       "      <th>sidebar_color</th>\n",
       "      <th>text</th>\n",
       "      <th>tweet_coord</th>\n",
       "      <th>tweet_count</th>\n",
       "      <th>tweet_created</th>\n",
       "      <th>tweet_id</th>\n",
       "      <th>tweet_location</th>\n",
       "      <th>user_timezone</th>\n",
       "    </tr>\n",
       "  </thead>\n",
       "  <tbody>\n",
       "    <tr>\n",
       "      <td>0</td>\n",
       "      <td>815719226</td>\n",
       "      <td>False</td>\n",
       "      <td>finalized</td>\n",
       "      <td>3</td>\n",
       "      <td>10/26/15 23:24</td>\n",
       "      <td>male</td>\n",
       "      <td>1.0000</td>\n",
       "      <td>yes</td>\n",
       "      <td>1.0</td>\n",
       "      <td>12/5/13 1:48</td>\n",
       "      <td>...</td>\n",
       "      <td>https://pbs.twimg.com/profile_images/414342229...</td>\n",
       "      <td>0</td>\n",
       "      <td>FFFFFF</td>\n",
       "      <td>Robbie E Responds To Critics After Win Against...</td>\n",
       "      <td>NaN</td>\n",
       "      <td>110964</td>\n",
       "      <td>10/26/15 12:40</td>\n",
       "      <td>6.587300e+17</td>\n",
       "      <td>main; @Kan1shk3</td>\n",
       "      <td>Chennai</td>\n",
       "    </tr>\n",
       "    <tr>\n",
       "      <td>1</td>\n",
       "      <td>815719227</td>\n",
       "      <td>False</td>\n",
       "      <td>finalized</td>\n",
       "      <td>3</td>\n",
       "      <td>10/26/15 23:30</td>\n",
       "      <td>male</td>\n",
       "      <td>1.0000</td>\n",
       "      <td>yes</td>\n",
       "      <td>1.0</td>\n",
       "      <td>10/1/12 13:51</td>\n",
       "      <td>...</td>\n",
       "      <td>https://pbs.twimg.com/profile_images/539604221...</td>\n",
       "      <td>0</td>\n",
       "      <td>C0DEED</td>\n",
       "      <td>ÛÏIt felt like they were my friends and I was...</td>\n",
       "      <td>NaN</td>\n",
       "      <td>7471</td>\n",
       "      <td>10/26/15 12:40</td>\n",
       "      <td>6.587300e+17</td>\n",
       "      <td>NaN</td>\n",
       "      <td>Eastern Time (US &amp; Canada)</td>\n",
       "    </tr>\n",
       "    <tr>\n",
       "      <td>2</td>\n",
       "      <td>815719228</td>\n",
       "      <td>False</td>\n",
       "      <td>finalized</td>\n",
       "      <td>3</td>\n",
       "      <td>10/26/15 23:33</td>\n",
       "      <td>male</td>\n",
       "      <td>0.6625</td>\n",
       "      <td>yes</td>\n",
       "      <td>1.0</td>\n",
       "      <td>11/28/14 11:30</td>\n",
       "      <td>...</td>\n",
       "      <td>https://pbs.twimg.com/profile_images/657330418...</td>\n",
       "      <td>1</td>\n",
       "      <td>C0DEED</td>\n",
       "      <td>i absolutely adore when louis starts the songs...</td>\n",
       "      <td>NaN</td>\n",
       "      <td>5617</td>\n",
       "      <td>10/26/15 12:40</td>\n",
       "      <td>6.587300e+17</td>\n",
       "      <td>clcncl</td>\n",
       "      <td>Belgrade</td>\n",
       "    </tr>\n",
       "    <tr>\n",
       "      <td>3</td>\n",
       "      <td>815719229</td>\n",
       "      <td>False</td>\n",
       "      <td>finalized</td>\n",
       "      <td>3</td>\n",
       "      <td>10/26/15 23:10</td>\n",
       "      <td>male</td>\n",
       "      <td>1.0000</td>\n",
       "      <td>yes</td>\n",
       "      <td>1.0</td>\n",
       "      <td>6/11/09 22:39</td>\n",
       "      <td>...</td>\n",
       "      <td>https://pbs.twimg.com/profile_images/259703936...</td>\n",
       "      <td>0</td>\n",
       "      <td>C0DEED</td>\n",
       "      <td>Hi @JordanSpieth - Looking at the url - do you...</td>\n",
       "      <td>NaN</td>\n",
       "      <td>1693</td>\n",
       "      <td>10/26/15 12:40</td>\n",
       "      <td>6.587300e+17</td>\n",
       "      <td>Palo Alto, CA</td>\n",
       "      <td>Pacific Time (US &amp; Canada)</td>\n",
       "    </tr>\n",
       "    <tr>\n",
       "      <td>4</td>\n",
       "      <td>815719230</td>\n",
       "      <td>False</td>\n",
       "      <td>finalized</td>\n",
       "      <td>3</td>\n",
       "      <td>10/27/15 1:15</td>\n",
       "      <td>female</td>\n",
       "      <td>1.0000</td>\n",
       "      <td>yes</td>\n",
       "      <td>1.0</td>\n",
       "      <td>4/16/14 13:23</td>\n",
       "      <td>...</td>\n",
       "      <td>https://pbs.twimg.com/profile_images/564094871...</td>\n",
       "      <td>0</td>\n",
       "      <td>0</td>\n",
       "      <td>Watching Neighbours on Sky+ catching up with t...</td>\n",
       "      <td>NaN</td>\n",
       "      <td>31462</td>\n",
       "      <td>10/26/15 12:40</td>\n",
       "      <td>6.587300e+17</td>\n",
       "      <td>NaN</td>\n",
       "      <td>NaN</td>\n",
       "    </tr>\n",
       "  </tbody>\n",
       "</table>\n",
       "<p>5 rows × 26 columns</p>\n",
       "</div>"
      ],
      "text/plain": [
       "    _unit_id  _golden _unit_state  _trusted_judgments _last_judgment_at  \\\n",
       "0  815719226    False   finalized                   3    10/26/15 23:24   \n",
       "1  815719227    False   finalized                   3    10/26/15 23:30   \n",
       "2  815719228    False   finalized                   3    10/26/15 23:33   \n",
       "3  815719229    False   finalized                   3    10/26/15 23:10   \n",
       "4  815719230    False   finalized                   3     10/27/15 1:15   \n",
       "\n",
       "   gender  gender:confidence profile_yn  profile_yn:confidence  \\\n",
       "0    male             1.0000        yes                    1.0   \n",
       "1    male             1.0000        yes                    1.0   \n",
       "2    male             0.6625        yes                    1.0   \n",
       "3    male             1.0000        yes                    1.0   \n",
       "4  female             1.0000        yes                    1.0   \n",
       "\n",
       "          created  ...                                       profileimage  \\\n",
       "0    12/5/13 1:48  ...  https://pbs.twimg.com/profile_images/414342229...   \n",
       "1   10/1/12 13:51  ...  https://pbs.twimg.com/profile_images/539604221...   \n",
       "2  11/28/14 11:30  ...  https://pbs.twimg.com/profile_images/657330418...   \n",
       "3   6/11/09 22:39  ...  https://pbs.twimg.com/profile_images/259703936...   \n",
       "4   4/16/14 13:23  ...  https://pbs.twimg.com/profile_images/564094871...   \n",
       "\n",
       "   retweet_count sidebar_color  \\\n",
       "0              0        FFFFFF   \n",
       "1              0        C0DEED   \n",
       "2              1        C0DEED   \n",
       "3              0        C0DEED   \n",
       "4              0             0   \n",
       "\n",
       "                                                text tweet_coord tweet_count  \\\n",
       "0  Robbie E Responds To Critics After Win Against...         NaN      110964   \n",
       "1  ÛÏIt felt like they were my friends and I was...         NaN        7471   \n",
       "2  i absolutely adore when louis starts the songs...         NaN        5617   \n",
       "3  Hi @JordanSpieth - Looking at the url - do you...         NaN        1693   \n",
       "4  Watching Neighbours on Sky+ catching up with t...         NaN       31462   \n",
       "\n",
       "    tweet_created      tweet_id   tweet_location               user_timezone  \n",
       "0  10/26/15 12:40  6.587300e+17  main; @Kan1shk3                     Chennai  \n",
       "1  10/26/15 12:40  6.587300e+17              NaN  Eastern Time (US & Canada)  \n",
       "2  10/26/15 12:40  6.587300e+17           clcncl                    Belgrade  \n",
       "3  10/26/15 12:40  6.587300e+17    Palo Alto, CA  Pacific Time (US & Canada)  \n",
       "4  10/26/15 12:40  6.587300e+17              NaN                         NaN  \n",
       "\n",
       "[5 rows x 26 columns]"
      ]
     },
     "execution_count": 2,
     "metadata": {},
     "output_type": "execute_result"
    }
   ],
   "source": [
    "df = pd.read_csv('Information.csv',encoding='latin-1')\n",
    "df.head()"
   ]
  },
  {
   "cell_type": "code",
   "execution_count": 3,
   "metadata": {},
   "outputs": [
    {
     "data": {
      "text/plain": [
       "(20050, 26)"
      ]
     },
     "execution_count": 3,
     "metadata": {},
     "output_type": "execute_result"
    }
   ],
   "source": [
    "df.shape"
   ]
  },
  {
   "cell_type": "code",
   "execution_count": 4,
   "metadata": {},
   "outputs": [
    {
     "data": {
      "text/html": [
       "<div>\n",
       "<style scoped>\n",
       "    .dataframe tbody tr th:only-of-type {\n",
       "        vertical-align: middle;\n",
       "    }\n",
       "\n",
       "    .dataframe tbody tr th {\n",
       "        vertical-align: top;\n",
       "    }\n",
       "\n",
       "    .dataframe thead th {\n",
       "        text-align: right;\n",
       "    }\n",
       "</style>\n",
       "<table border=\"1\" class=\"dataframe\">\n",
       "  <thead>\n",
       "    <tr style=\"text-align: right;\">\n",
       "      <th></th>\n",
       "      <th>_unit_id</th>\n",
       "      <th>_trusted_judgments</th>\n",
       "      <th>gender:confidence</th>\n",
       "      <th>profile_yn:confidence</th>\n",
       "      <th>fav_number</th>\n",
       "      <th>retweet_count</th>\n",
       "      <th>tweet_count</th>\n",
       "      <th>tweet_id</th>\n",
       "    </tr>\n",
       "  </thead>\n",
       "  <tbody>\n",
       "    <tr>\n",
       "      <td>count</td>\n",
       "      <td>2.005000e+04</td>\n",
       "      <td>20050.000000</td>\n",
       "      <td>20024.000000</td>\n",
       "      <td>20050.000000</td>\n",
       "      <td>20050.000000</td>\n",
       "      <td>20050.000000</td>\n",
       "      <td>2.005000e+04</td>\n",
       "      <td>2.005000e+04</td>\n",
       "    </tr>\n",
       "    <tr>\n",
       "      <td>mean</td>\n",
       "      <td>8.157294e+08</td>\n",
       "      <td>3.615711</td>\n",
       "      <td>0.882756</td>\n",
       "      <td>0.993221</td>\n",
       "      <td>4382.201646</td>\n",
       "      <td>0.079401</td>\n",
       "      <td>3.892469e+04</td>\n",
       "      <td>6.587350e+17</td>\n",
       "    </tr>\n",
       "    <tr>\n",
       "      <td>std</td>\n",
       "      <td>6.000801e+03</td>\n",
       "      <td>12.331890</td>\n",
       "      <td>0.191403</td>\n",
       "      <td>0.047168</td>\n",
       "      <td>12518.575919</td>\n",
       "      <td>2.649751</td>\n",
       "      <td>1.168371e+05</td>\n",
       "      <td>5.000124e+12</td>\n",
       "    </tr>\n",
       "    <tr>\n",
       "      <td>min</td>\n",
       "      <td>8.157192e+08</td>\n",
       "      <td>3.000000</td>\n",
       "      <td>0.000000</td>\n",
       "      <td>0.627200</td>\n",
       "      <td>0.000000</td>\n",
       "      <td>0.000000</td>\n",
       "      <td>1.000000e+00</td>\n",
       "      <td>6.587300e+17</td>\n",
       "    </tr>\n",
       "    <tr>\n",
       "      <td>25%</td>\n",
       "      <td>8.157243e+08</td>\n",
       "      <td>3.000000</td>\n",
       "      <td>0.677800</td>\n",
       "      <td>1.000000</td>\n",
       "      <td>11.000000</td>\n",
       "      <td>0.000000</td>\n",
       "      <td>2.398000e+03</td>\n",
       "      <td>6.587300e+17</td>\n",
       "    </tr>\n",
       "    <tr>\n",
       "      <td>50%</td>\n",
       "      <td>8.157294e+08</td>\n",
       "      <td>3.000000</td>\n",
       "      <td>1.000000</td>\n",
       "      <td>1.000000</td>\n",
       "      <td>456.000000</td>\n",
       "      <td>0.000000</td>\n",
       "      <td>1.144150e+04</td>\n",
       "      <td>6.587300e+17</td>\n",
       "    </tr>\n",
       "    <tr>\n",
       "      <td>75%</td>\n",
       "      <td>8.157345e+08</td>\n",
       "      <td>3.000000</td>\n",
       "      <td>1.000000</td>\n",
       "      <td>1.000000</td>\n",
       "      <td>3315.500000</td>\n",
       "      <td>0.000000</td>\n",
       "      <td>4.002750e+04</td>\n",
       "      <td>6.587400e+17</td>\n",
       "    </tr>\n",
       "    <tr>\n",
       "      <td>max</td>\n",
       "      <td>8.157580e+08</td>\n",
       "      <td>274.000000</td>\n",
       "      <td>1.000000</td>\n",
       "      <td>1.000000</td>\n",
       "      <td>341621.000000</td>\n",
       "      <td>330.000000</td>\n",
       "      <td>2.680199e+06</td>\n",
       "      <td>6.587400e+17</td>\n",
       "    </tr>\n",
       "  </tbody>\n",
       "</table>\n",
       "</div>"
      ],
      "text/plain": [
       "           _unit_id  _trusted_judgments  gender:confidence  \\\n",
       "count  2.005000e+04        20050.000000       20024.000000   \n",
       "mean   8.157294e+08            3.615711           0.882756   \n",
       "std    6.000801e+03           12.331890           0.191403   \n",
       "min    8.157192e+08            3.000000           0.000000   \n",
       "25%    8.157243e+08            3.000000           0.677800   \n",
       "50%    8.157294e+08            3.000000           1.000000   \n",
       "75%    8.157345e+08            3.000000           1.000000   \n",
       "max    8.157580e+08          274.000000           1.000000   \n",
       "\n",
       "       profile_yn:confidence     fav_number  retweet_count   tweet_count  \\\n",
       "count           20050.000000   20050.000000   20050.000000  2.005000e+04   \n",
       "mean                0.993221    4382.201646       0.079401  3.892469e+04   \n",
       "std                 0.047168   12518.575919       2.649751  1.168371e+05   \n",
       "min                 0.627200       0.000000       0.000000  1.000000e+00   \n",
       "25%                 1.000000      11.000000       0.000000  2.398000e+03   \n",
       "50%                 1.000000     456.000000       0.000000  1.144150e+04   \n",
       "75%                 1.000000    3315.500000       0.000000  4.002750e+04   \n",
       "max                 1.000000  341621.000000     330.000000  2.680199e+06   \n",
       "\n",
       "           tweet_id  \n",
       "count  2.005000e+04  \n",
       "mean   6.587350e+17  \n",
       "std    5.000124e+12  \n",
       "min    6.587300e+17  \n",
       "25%    6.587300e+17  \n",
       "50%    6.587300e+17  \n",
       "75%    6.587400e+17  \n",
       "max    6.587400e+17  "
      ]
     },
     "execution_count": 4,
     "metadata": {},
     "output_type": "execute_result"
    }
   ],
   "source": [
    "df.describe()"
   ]
  },
  {
   "cell_type": "code",
   "execution_count": 5,
   "metadata": {},
   "outputs": [
    {
     "data": {
      "text/html": [
       "<div>\n",
       "<style scoped>\n",
       "    .dataframe tbody tr th:only-of-type {\n",
       "        vertical-align: middle;\n",
       "    }\n",
       "\n",
       "    .dataframe tbody tr th {\n",
       "        vertical-align: top;\n",
       "    }\n",
       "\n",
       "    .dataframe thead th {\n",
       "        text-align: right;\n",
       "    }\n",
       "</style>\n",
       "<table border=\"1\" class=\"dataframe\">\n",
       "  <thead>\n",
       "    <tr style=\"text-align: right;\">\n",
       "      <th></th>\n",
       "      <th>_unit_id</th>\n",
       "      <th>_golden</th>\n",
       "      <th>_trusted_judgments</th>\n",
       "      <th>gender:confidence</th>\n",
       "      <th>profile_yn:confidence</th>\n",
       "      <th>fav_number</th>\n",
       "      <th>retweet_count</th>\n",
       "      <th>tweet_count</th>\n",
       "      <th>tweet_id</th>\n",
       "    </tr>\n",
       "  </thead>\n",
       "  <tbody>\n",
       "    <tr>\n",
       "      <td>_unit_id</td>\n",
       "      <td>1.000000</td>\n",
       "      <td>0.208055</td>\n",
       "      <td>0.207651</td>\n",
       "      <td>0.007918</td>\n",
       "      <td>0.015168</td>\n",
       "      <td>0.024878</td>\n",
       "      <td>-0.004337</td>\n",
       "      <td>-0.024809</td>\n",
       "      <td>0.844887</td>\n",
       "    </tr>\n",
       "    <tr>\n",
       "      <td>_golden</td>\n",
       "      <td>0.208055</td>\n",
       "      <td>1.000000</td>\n",
       "      <td>0.998592</td>\n",
       "      <td>0.008818</td>\n",
       "      <td>0.005592</td>\n",
       "      <td>0.003794</td>\n",
       "      <td>-0.000744</td>\n",
       "      <td>-0.009669</td>\n",
       "      <td>-0.005985</td>\n",
       "    </tr>\n",
       "    <tr>\n",
       "      <td>_trusted_judgments</td>\n",
       "      <td>0.207651</td>\n",
       "      <td>0.998592</td>\n",
       "      <td>1.000000</td>\n",
       "      <td>0.009550</td>\n",
       "      <td>0.005543</td>\n",
       "      <td>0.003851</td>\n",
       "      <td>-0.000765</td>\n",
       "      <td>-0.009703</td>\n",
       "      <td>-0.005781</td>\n",
       "    </tr>\n",
       "    <tr>\n",
       "      <td>gender:confidence</td>\n",
       "      <td>0.007918</td>\n",
       "      <td>0.008818</td>\n",
       "      <td>0.009550</td>\n",
       "      <td>1.000000</td>\n",
       "      <td>0.313628</td>\n",
       "      <td>-0.030889</td>\n",
       "      <td>-0.004947</td>\n",
       "      <td>-0.013558</td>\n",
       "      <td>0.027901</td>\n",
       "    </tr>\n",
       "    <tr>\n",
       "      <td>profile_yn:confidence</td>\n",
       "      <td>0.015168</td>\n",
       "      <td>0.005592</td>\n",
       "      <td>0.005543</td>\n",
       "      <td>0.313628</td>\n",
       "      <td>1.000000</td>\n",
       "      <td>-0.003256</td>\n",
       "      <td>0.001376</td>\n",
       "      <td>-0.012665</td>\n",
       "      <td>0.019044</td>\n",
       "    </tr>\n",
       "    <tr>\n",
       "      <td>fav_number</td>\n",
       "      <td>0.024878</td>\n",
       "      <td>0.003794</td>\n",
       "      <td>0.003851</td>\n",
       "      <td>-0.030889</td>\n",
       "      <td>-0.003256</td>\n",
       "      <td>1.000000</td>\n",
       "      <td>0.008274</td>\n",
       "      <td>0.066733</td>\n",
       "      <td>0.041788</td>\n",
       "    </tr>\n",
       "    <tr>\n",
       "      <td>retweet_count</td>\n",
       "      <td>-0.004337</td>\n",
       "      <td>-0.000744</td>\n",
       "      <td>-0.000765</td>\n",
       "      <td>-0.004947</td>\n",
       "      <td>0.001376</td>\n",
       "      <td>0.008274</td>\n",
       "      <td>1.000000</td>\n",
       "      <td>-0.001263</td>\n",
       "      <td>-0.006466</td>\n",
       "    </tr>\n",
       "    <tr>\n",
       "      <td>tweet_count</td>\n",
       "      <td>-0.024809</td>\n",
       "      <td>-0.009669</td>\n",
       "      <td>-0.009703</td>\n",
       "      <td>-0.013558</td>\n",
       "      <td>-0.012665</td>\n",
       "      <td>0.066733</td>\n",
       "      <td>-0.001263</td>\n",
       "      <td>1.000000</td>\n",
       "      <td>-0.037836</td>\n",
       "    </tr>\n",
       "    <tr>\n",
       "      <td>tweet_id</td>\n",
       "      <td>0.844887</td>\n",
       "      <td>-0.005985</td>\n",
       "      <td>-0.005781</td>\n",
       "      <td>0.027901</td>\n",
       "      <td>0.019044</td>\n",
       "      <td>0.041788</td>\n",
       "      <td>-0.006466</td>\n",
       "      <td>-0.037836</td>\n",
       "      <td>1.000000</td>\n",
       "    </tr>\n",
       "  </tbody>\n",
       "</table>\n",
       "</div>"
      ],
      "text/plain": [
       "                       _unit_id   _golden  _trusted_judgments  \\\n",
       "_unit_id               1.000000  0.208055            0.207651   \n",
       "_golden                0.208055  1.000000            0.998592   \n",
       "_trusted_judgments     0.207651  0.998592            1.000000   \n",
       "gender:confidence      0.007918  0.008818            0.009550   \n",
       "profile_yn:confidence  0.015168  0.005592            0.005543   \n",
       "fav_number             0.024878  0.003794            0.003851   \n",
       "retweet_count         -0.004337 -0.000744           -0.000765   \n",
       "tweet_count           -0.024809 -0.009669           -0.009703   \n",
       "tweet_id               0.844887 -0.005985           -0.005781   \n",
       "\n",
       "                       gender:confidence  profile_yn:confidence  fav_number  \\\n",
       "_unit_id                        0.007918               0.015168    0.024878   \n",
       "_golden                         0.008818               0.005592    0.003794   \n",
       "_trusted_judgments              0.009550               0.005543    0.003851   \n",
       "gender:confidence               1.000000               0.313628   -0.030889   \n",
       "profile_yn:confidence           0.313628               1.000000   -0.003256   \n",
       "fav_number                     -0.030889              -0.003256    1.000000   \n",
       "retweet_count                  -0.004947               0.001376    0.008274   \n",
       "tweet_count                    -0.013558              -0.012665    0.066733   \n",
       "tweet_id                        0.027901               0.019044    0.041788   \n",
       "\n",
       "                       retweet_count  tweet_count  tweet_id  \n",
       "_unit_id                   -0.004337    -0.024809  0.844887  \n",
       "_golden                    -0.000744    -0.009669 -0.005985  \n",
       "_trusted_judgments         -0.000765    -0.009703 -0.005781  \n",
       "gender:confidence          -0.004947    -0.013558  0.027901  \n",
       "profile_yn:confidence       0.001376    -0.012665  0.019044  \n",
       "fav_number                  0.008274     0.066733  0.041788  \n",
       "retweet_count               1.000000    -0.001263 -0.006466  \n",
       "tweet_count                -0.001263     1.000000 -0.037836  \n",
       "tweet_id                   -0.006466    -0.037836  1.000000  "
      ]
     },
     "execution_count": 5,
     "metadata": {},
     "output_type": "execute_result"
    }
   ],
   "source": [
    "df.corr()"
   ]
  },
  {
   "cell_type": "markdown",
   "metadata": {},
   "source": [
    "### Information of data"
   ]
  },
  {
   "cell_type": "code",
   "execution_count": 6,
   "metadata": {},
   "outputs": [
    {
     "name": "stdout",
     "output_type": "stream",
     "text": [
      "<class 'pandas.core.frame.DataFrame'>\n",
      "RangeIndex: 20050 entries, 0 to 20049\n",
      "Data columns (total 26 columns):\n",
      "_unit_id                 20050 non-null int64\n",
      "_golden                  20050 non-null bool\n",
      "_unit_state              20050 non-null object\n",
      "_trusted_judgments       20050 non-null int64\n",
      "_last_judgment_at        20000 non-null object\n",
      "gender                   19953 non-null object\n",
      "gender:confidence        20024 non-null float64\n",
      "profile_yn               20050 non-null object\n",
      "profile_yn:confidence    20050 non-null float64\n",
      "created                  20050 non-null object\n",
      "description              16306 non-null object\n",
      "fav_number               20050 non-null int64\n",
      "gender_gold              50 non-null object\n",
      "link_color               20050 non-null object\n",
      "name                     20050 non-null object\n",
      "profile_yn_gold          50 non-null object\n",
      "profileimage             20050 non-null object\n",
      "retweet_count            20050 non-null int64\n",
      "sidebar_color            20050 non-null object\n",
      "text                     20050 non-null object\n",
      "tweet_coord              159 non-null object\n",
      "tweet_count              20050 non-null int64\n",
      "tweet_created            20050 non-null object\n",
      "tweet_id                 20050 non-null float64\n",
      "tweet_location           12566 non-null object\n",
      "user_timezone            12252 non-null object\n",
      "dtypes: bool(1), float64(3), int64(5), object(17)\n",
      "memory usage: 3.8+ MB\n"
     ]
    }
   ],
   "source": [
    "df.info()"
   ]
  },
  {
   "cell_type": "code",
   "execution_count": 7,
   "metadata": {},
   "outputs": [
    {
     "data": {
      "text/plain": [
       "Index(['_unit_id', '_golden', '_unit_state', '_trusted_judgments',\n",
       "       '_last_judgment_at', 'gender', 'gender:confidence', 'profile_yn',\n",
       "       'profile_yn:confidence', 'created', 'description', 'fav_number',\n",
       "       'gender_gold', 'link_color', 'name', 'profile_yn_gold', 'profileimage',\n",
       "       'retweet_count', 'sidebar_color', 'text', 'tweet_coord', 'tweet_count',\n",
       "       'tweet_created', 'tweet_id', 'tweet_location', 'user_timezone'],\n",
       "      dtype='object')"
      ]
     },
     "execution_count": 7,
     "metadata": {},
     "output_type": "execute_result"
    }
   ],
   "source": [
    "df.columns"
   ]
  },
  {
   "cell_type": "markdown",
   "metadata": {},
   "source": [
    "### Dealing with missing values`"
   ]
  },
  {
   "cell_type": "code",
   "execution_count": 8,
   "metadata": {
    "scrolled": false
   },
   "outputs": [
    {
     "data": {
      "text/plain": [
       "_unit_id                     0\n",
       "_golden                      0\n",
       "_unit_state                  0\n",
       "_trusted_judgments           0\n",
       "_last_judgment_at           50\n",
       "gender                      97\n",
       "gender:confidence           26\n",
       "profile_yn                   0\n",
       "profile_yn:confidence        0\n",
       "created                      0\n",
       "description               3744\n",
       "fav_number                   0\n",
       "gender_gold              20000\n",
       "link_color                   0\n",
       "name                         0\n",
       "profile_yn_gold          20000\n",
       "profileimage                 0\n",
       "retweet_count                0\n",
       "sidebar_color                0\n",
       "text                         0\n",
       "tweet_coord              19891\n",
       "tweet_count                  0\n",
       "tweet_created                0\n",
       "tweet_id                     0\n",
       "tweet_location            7484\n",
       "user_timezone             7798\n",
       "dtype: int64"
      ]
     },
     "execution_count": 8,
     "metadata": {},
     "output_type": "execute_result"
    }
   ],
   "source": [
    "df.isna().sum()"
   ]
  },
  {
   "cell_type": "code",
   "execution_count": 9,
   "metadata": {},
   "outputs": [
    {
     "data": {
      "text/plain": [
       "<matplotlib.axes._subplots.AxesSubplot at 0x2d720198848>"
      ]
     },
     "execution_count": 9,
     "metadata": {},
     "output_type": "execute_result"
    },
    {
     "data": {
      "image/png": "[encoded data removed]",
      "text/plain": [
       "<Figure size 432x288 with 1 Axes>"
      ]
     },
     "metadata": {
      "needs_background": "light"
     },
     "output_type": "display_data"
    }
   ],
   "source": [
    "sns.heatmap(df.isna(),cmap='Spectral_r', cbar=False, yticklabels=False)"
   ]
  },
  {
   "cell_type": "code",
   "execution_count": 10,
   "metadata": {},
   "outputs": [],
   "source": [
    "# removing gender_gold,profile_yn_gold ,tweet_coord as they are largely empty\n",
    "df=df.drop(['gender_gold', 'profile_yn_gold','tweet_coord'],axis=1)"
   ]
  },
  {
   "cell_type": "code",
   "execution_count": 11,
   "metadata": {},
   "outputs": [
    {
     "data": {
      "text/plain": [
       "<matplotlib.axes._subplots.AxesSubplot at 0x2d71d415cc8>"
      ]
     },
     "execution_count": 11,
     "metadata": {},
     "output_type": "execute_result"
    },
    {
     "data": {
      "image/png": "[encoded data removed]",
      "text/plain": [
       "<Figure size 432x288 with 1 Axes>"
      ]
     },
     "metadata": {
      "needs_background": "light"
     },
     "output_type": "display_data"
    }
   ],
   "source": [
    "sns.heatmap(df.isna(),cmap='Spectral_r', cbar=False, yticklabels=False)"
   ]
  },
  {
   "cell_type": "code",
   "execution_count": 12,
   "metadata": {},
   "outputs": [],
   "source": [
    "#removing tweet_location,user_timezone\n",
    "df=df.drop(['tweet_location','user_timezone'],axis=1)"
   ]
  },
  {
   "cell_type": "code",
   "execution_count": 13,
   "metadata": {},
   "outputs": [
    {
     "data": {
      "text/plain": [
       "<matplotlib.axes._subplots.AxesSubplot at 0x2d7201446c8>"
      ]
     },
     "execution_count": 13,
     "metadata": {},
     "output_type": "execute_result"
    },
    {
     "data": {
      "image/png": "[encoded data removed]",
      "text/plain": [
       "<Figure size 432x288 with 1 Axes>"
      ]
     },
     "metadata": {
      "needs_background": "light"
     },
     "output_type": "display_data"
    }
   ],
   "source": [
    "sns.heatmap(df.isna(),cmap='Spectral_r', cbar=False, yticklabels=False)"
   ]
  },
  {
   "cell_type": "code",
   "execution_count": 14,
   "metadata": {},
   "outputs": [
    {
     "data": {
      "text/plain": [
       "_unit_id                    0\n",
       "_golden                     0\n",
       "_unit_state                 0\n",
       "_trusted_judgments          0\n",
       "_last_judgment_at          50\n",
       "gender                     97\n",
       "gender:confidence          26\n",
       "profile_yn                  0\n",
       "profile_yn:confidence       0\n",
       "created                     0\n",
       "description              3744\n",
       "fav_number                  0\n",
       "link_color                  0\n",
       "name                        0\n",
       "profileimage                0\n",
       "retweet_count               0\n",
       "sidebar_color               0\n",
       "text                        0\n",
       "tweet_count                 0\n",
       "tweet_created               0\n",
       "tweet_id                    0\n",
       "dtype: int64"
      ]
     },
     "execution_count": 14,
     "metadata": {},
     "output_type": "execute_result"
    }
   ],
   "source": [
    "df.isna().sum()"
   ]
  },
  {
   "cell_type": "code",
   "execution_count": 15,
   "metadata": {},
   "outputs": [],
   "source": [
    "#removing  _last_judgment_at,gender:confidence\n",
    "df=df.drop(['_last_judgment_at','gender:confidence'],axis=1)"
   ]
  },
  {
   "cell_type": "code",
   "execution_count": 16,
   "metadata": {},
   "outputs": [
    {
     "data": {
      "text/plain": [
       "<matplotlib.axes._subplots.AxesSubplot at 0x2d7202a1f88>"
      ]
     },
     "execution_count": 16,
     "metadata": {},
     "output_type": "execute_result"
    },
    {
     "data": {
      "image/png": "[encoded data removed]",
      "text/plain": [
       "<Figure size 432x288 with 1 Axes>"
      ]
     },
     "metadata": {
      "needs_background": "light"
     },
     "output_type": "display_data"
    }
   ],
   "source": [
    "sns.heatmap(df.isna(),cmap='Spectral_r', cbar=False, yticklabels=False)"
   ]
  },
  {
   "cell_type": "code",
   "execution_count": 17,
   "metadata": {},
   "outputs": [
    {
     "data": {
      "text/plain": [
       "_unit_id                    0\n",
       "_golden                     0\n",
       "_unit_state                 0\n",
       "_trusted_judgments          0\n",
       "gender                     97\n",
       "profile_yn                  0\n",
       "profile_yn:confidence       0\n",
       "created                     0\n",
       "description              3744\n",
       "fav_number                  0\n",
       "link_color                  0\n",
       "name                        0\n",
       "profileimage                0\n",
       "retweet_count               0\n",
       "sidebar_color               0\n",
       "text                        0\n",
       "tweet_count                 0\n",
       "tweet_created               0\n",
       "tweet_id                    0\n",
       "dtype: int64"
      ]
     },
     "execution_count": 17,
     "metadata": {},
     "output_type": "execute_result"
    }
   ],
   "source": [
    "df.isna().sum()"
   ]
  },
  {
   "cell_type": "code",
   "execution_count": 18,
   "metadata": {},
   "outputs": [],
   "source": [
    "#removing description\n",
    "df=df.drop(['description'],axis=1)"
   ]
  },
  {
   "cell_type": "markdown",
   "metadata": {},
   "source": [
    "### Displaying the rows with NaN"
   ]
  },
  {
   "cell_type": "code",
   "execution_count": 19,
   "metadata": {},
   "outputs": [
    {
     "data": {
      "text/html": [
       "<div>\n",
       "<style scoped>\n",
       "    .dataframe tbody tr th:only-of-type {\n",
       "        vertical-align: middle;\n",
       "    }\n",
       "\n",
       "    .dataframe tbody tr th {\n",
       "        vertical-align: top;\n",
       "    }\n",
       "\n",
       "    .dataframe thead th {\n",
       "        text-align: right;\n",
       "    }\n",
       "</style>\n",
       "<table border=\"1\" class=\"dataframe\">\n",
       "  <thead>\n",
       "    <tr style=\"text-align: right;\">\n",
       "      <th></th>\n",
       "      <th>_unit_id</th>\n",
       "      <th>_golden</th>\n",
       "      <th>_unit_state</th>\n",
       "      <th>_trusted_judgments</th>\n",
       "      <th>gender</th>\n",
       "      <th>profile_yn</th>\n",
       "      <th>profile_yn:confidence</th>\n",
       "      <th>created</th>\n",
       "      <th>fav_number</th>\n",
       "      <th>link_color</th>\n",
       "      <th>name</th>\n",
       "      <th>profileimage</th>\n",
       "      <th>retweet_count</th>\n",
       "      <th>sidebar_color</th>\n",
       "      <th>text</th>\n",
       "      <th>tweet_count</th>\n",
       "      <th>tweet_created</th>\n",
       "      <th>tweet_id</th>\n",
       "    </tr>\n",
       "  </thead>\n",
       "  <tbody>\n",
       "    <tr>\n",
       "      <td>109</td>\n",
       "      <td>815719335</td>\n",
       "      <td>False</td>\n",
       "      <td>finalized</td>\n",
       "      <td>3</td>\n",
       "      <td>NaN</td>\n",
       "      <td>no</td>\n",
       "      <td>0.6581</td>\n",
       "      <td>2/23/15 5:10</td>\n",
       "      <td>23</td>\n",
       "      <td>FA743E</td>\n",
       "      <td>yananaShFt</td>\n",
       "      <td>https://pbs.twimg.com/profile_images/622656047...</td>\n",
       "      <td>0</td>\n",
       "      <td>0</td>\n",
       "      <td>@jaehyunim_ ohh okay..just asking for my frien...</td>\n",
       "      <td>3818</td>\n",
       "      <td>10/26/15 12:40</td>\n",
       "      <td>6.587300e+17</td>\n",
       "    </tr>\n",
       "    <tr>\n",
       "      <td>137</td>\n",
       "      <td>815719363</td>\n",
       "      <td>False</td>\n",
       "      <td>finalized</td>\n",
       "      <td>3</td>\n",
       "      <td>NaN</td>\n",
       "      <td>no</td>\n",
       "      <td>0.6716</td>\n",
       "      <td>7/24/11 6:28</td>\n",
       "      <td>7351</td>\n",
       "      <td>38543</td>\n",
       "      <td>_Weed_BobMarley</td>\n",
       "      <td>https://pbs.twimg.com/profile_images/647125019...</td>\n",
       "      <td>0</td>\n",
       "      <td>0</td>\n",
       "      <td>La Leccion- The 5 Love</td>\n",
       "      <td>27871</td>\n",
       "      <td>10/26/15 12:40</td>\n",
       "      <td>6.587300e+17</td>\n",
       "    </tr>\n",
       "    <tr>\n",
       "      <td>496</td>\n",
       "      <td>815719723</td>\n",
       "      <td>False</td>\n",
       "      <td>finalized</td>\n",
       "      <td>3</td>\n",
       "      <td>NaN</td>\n",
       "      <td>no</td>\n",
       "      <td>1.0000</td>\n",
       "      <td>8/26/10 14:54</td>\n",
       "      <td>547</td>\n",
       "      <td>123456</td>\n",
       "      <td>lesbalren</td>\n",
       "      <td>https://pbs.twimg.com/profile_images/654407508...</td>\n",
       "      <td>0</td>\n",
       "      <td>FFFFFF</td>\n",
       "      <td>can we both say the words and forget this?</td>\n",
       "      <td>60787</td>\n",
       "      <td>10/26/15 12:40</td>\n",
       "      <td>6.587300e+17</td>\n",
       "    </tr>\n",
       "    <tr>\n",
       "      <td>582</td>\n",
       "      <td>815719810</td>\n",
       "      <td>False</td>\n",
       "      <td>finalized</td>\n",
       "      <td>3</td>\n",
       "      <td>NaN</td>\n",
       "      <td>no</td>\n",
       "      <td>0.6552</td>\n",
       "      <td>7/14/09 9:50</td>\n",
       "      <td>1</td>\n",
       "      <td>C8CF9C</td>\n",
       "      <td>uzsanjarbek</td>\n",
       "      <td>https://pbs.twimg.com/profile_images/464354128...</td>\n",
       "      <td>0</td>\n",
       "      <td>344032</td>\n",
       "      <td>Quote of the Day: \"I feel like this is my last...</td>\n",
       "      <td>692281</td>\n",
       "      <td>10/26/15 12:40</td>\n",
       "      <td>6.587300e+17</td>\n",
       "    </tr>\n",
       "    <tr>\n",
       "      <td>679</td>\n",
       "      <td>815719908</td>\n",
       "      <td>False</td>\n",
       "      <td>finalized</td>\n",
       "      <td>3</td>\n",
       "      <td>NaN</td>\n",
       "      <td>no</td>\n",
       "      <td>0.6574</td>\n",
       "      <td>5/21/14 21:29</td>\n",
       "      <td>30</td>\n",
       "      <td>0084B4</td>\n",
       "      <td>angelomike79</td>\n",
       "      <td>https://pbs.twimg.com/profile_images/582574334...</td>\n",
       "      <td>0</td>\n",
       "      <td>C0DEED</td>\n",
       "      <td>Growing and engaging with the right tweeps - g...</td>\n",
       "      <td>952</td>\n",
       "      <td>10/26/15 12:40</td>\n",
       "      <td>6.587300e+17</td>\n",
       "    </tr>\n",
       "    <tr>\n",
       "      <td>...</td>\n",
       "      <td>...</td>\n",
       "      <td>...</td>\n",
       "      <td>...</td>\n",
       "      <td>...</td>\n",
       "      <td>...</td>\n",
       "      <td>...</td>\n",
       "      <td>...</td>\n",
       "      <td>...</td>\n",
       "      <td>...</td>\n",
       "      <td>...</td>\n",
       "      <td>...</td>\n",
       "      <td>...</td>\n",
       "      <td>...</td>\n",
       "      <td>...</td>\n",
       "      <td>...</td>\n",
       "      <td>...</td>\n",
       "      <td>...</td>\n",
       "      <td>...</td>\n",
       "    </tr>\n",
       "    <tr>\n",
       "      <td>18524</td>\n",
       "      <td>815738085</td>\n",
       "      <td>False</td>\n",
       "      <td>finalized</td>\n",
       "      <td>3</td>\n",
       "      <td>NaN</td>\n",
       "      <td>no</td>\n",
       "      <td>1.0000</td>\n",
       "      <td>8/17/15 17:35</td>\n",
       "      <td>2852</td>\n",
       "      <td>0084B4</td>\n",
       "      <td>14voidlahey</td>\n",
       "      <td>https://pbs.twimg.com/profile_images/658737348...</td>\n",
       "      <td>0</td>\n",
       "      <td>C0DEED</td>\n",
       "      <td>@zquady ilysm pls pick me im so close to my go...</td>\n",
       "      <td>7894</td>\n",
       "      <td>10/26/15 13:19</td>\n",
       "      <td>6.587400e+17</td>\n",
       "    </tr>\n",
       "    <tr>\n",
       "      <td>18700</td>\n",
       "      <td>815738266</td>\n",
       "      <td>False</td>\n",
       "      <td>finalized</td>\n",
       "      <td>3</td>\n",
       "      <td>NaN</td>\n",
       "      <td>no</td>\n",
       "      <td>0.6904</td>\n",
       "      <td>10/8/09 9:06</td>\n",
       "      <td>15600</td>\n",
       "      <td>ABB8C2</td>\n",
       "      <td>Omaaaaaaar</td>\n",
       "      <td>https://pbs.twimg.com/profile_images/565856049...</td>\n",
       "      <td>0</td>\n",
       "      <td>FFFFFF</td>\n",
       "      <td>And it's just like honey when your love comes ...</td>\n",
       "      <td>103209</td>\n",
       "      <td>10/26/15 13:19</td>\n",
       "      <td>6.587400e+17</td>\n",
       "    </tr>\n",
       "    <tr>\n",
       "      <td>18840</td>\n",
       "      <td>815738408</td>\n",
       "      <td>False</td>\n",
       "      <td>finalized</td>\n",
       "      <td>3</td>\n",
       "      <td>NaN</td>\n",
       "      <td>no</td>\n",
       "      <td>1.0000</td>\n",
       "      <td>8/15/15 8:13</td>\n",
       "      <td>2371</td>\n",
       "      <td>0084B4</td>\n",
       "      <td>Fluxx_Destiny</td>\n",
       "      <td>https://pbs.twimg.com/profile_images/654772836...</td>\n",
       "      <td>0</td>\n",
       "      <td>C0DEED</td>\n",
       "      <td>@ABlaze_RN @Fluent_OE @exiLe_MonsteH who are u...</td>\n",
       "      <td>4003</td>\n",
       "      <td>10/26/15 13:19</td>\n",
       "      <td>6.587400e+17</td>\n",
       "    </tr>\n",
       "    <tr>\n",
       "      <td>19773</td>\n",
       "      <td>815739364</td>\n",
       "      <td>False</td>\n",
       "      <td>finalized</td>\n",
       "      <td>3</td>\n",
       "      <td>NaN</td>\n",
       "      <td>no</td>\n",
       "      <td>0.6637</td>\n",
       "      <td>1/10/14 15:02</td>\n",
       "      <td>89</td>\n",
       "      <td>0084B4</td>\n",
       "      <td>Babebybobu1</td>\n",
       "      <td>https://pbs.twimg.com/profile_images/542096047...</td>\n",
       "      <td>0</td>\n",
       "      <td>C0DEED</td>\n",
       "      <td>Just Pinned to Anglais: reading color words an...</td>\n",
       "      <td>508</td>\n",
       "      <td>10/26/15 13:18</td>\n",
       "      <td>6.587400e+17</td>\n",
       "    </tr>\n",
       "    <tr>\n",
       "      <td>19842</td>\n",
       "      <td>815739437</td>\n",
       "      <td>False</td>\n",
       "      <td>finalized</td>\n",
       "      <td>3</td>\n",
       "      <td>NaN</td>\n",
       "      <td>no</td>\n",
       "      <td>0.6512</td>\n",
       "      <td>9/7/15 12:04</td>\n",
       "      <td>0</td>\n",
       "      <td>0084B4</td>\n",
       "      <td>SofiaSuarez_0</td>\n",
       "      <td>https://pbs.twimg.com/profile_images/640987533...</td>\n",
       "      <td>0</td>\n",
       "      <td>C0DEED</td>\n",
       "      <td>Brothers and sisters :D</td>\n",
       "      <td>503</td>\n",
       "      <td>10/26/15 13:18</td>\n",
       "      <td>6.587400e+17</td>\n",
       "    </tr>\n",
       "  </tbody>\n",
       "</table>\n",
       "<p>97 rows × 18 columns</p>\n",
       "</div>"
      ],
      "text/plain": [
       "        _unit_id  _golden _unit_state  _trusted_judgments gender profile_yn  \\\n",
       "109    815719335    False   finalized                   3    NaN         no   \n",
       "137    815719363    False   finalized                   3    NaN         no   \n",
       "496    815719723    False   finalized                   3    NaN         no   \n",
       "582    815719810    False   finalized                   3    NaN         no   \n",
       "679    815719908    False   finalized                   3    NaN         no   \n",
       "...          ...      ...         ...                 ...    ...        ...   \n",
       "18524  815738085    False   finalized                   3    NaN         no   \n",
       "18700  815738266    False   finalized                   3    NaN         no   \n",
       "18840  815738408    False   finalized                   3    NaN         no   \n",
       "19773  815739364    False   finalized                   3    NaN         no   \n",
       "19842  815739437    False   finalized                   3    NaN         no   \n",
       "\n",
       "       profile_yn:confidence        created  fav_number link_color  \\\n",
       "109                   0.6581   2/23/15 5:10          23     FA743E   \n",
       "137                   0.6716   7/24/11 6:28        7351      38543   \n",
       "496                   1.0000  8/26/10 14:54         547     123456   \n",
       "582                   0.6552   7/14/09 9:50           1     C8CF9C   \n",
       "679                   0.6574  5/21/14 21:29          30     0084B4   \n",
       "...                      ...            ...         ...        ...   \n",
       "18524                 1.0000  8/17/15 17:35        2852     0084B4   \n",
       "18700                 0.6904   10/8/09 9:06       15600     ABB8C2   \n",
       "18840                 1.0000   8/15/15 8:13        2371     0084B4   \n",
       "19773                 0.6637  1/10/14 15:02          89     0084B4   \n",
       "19842                 0.6512   9/7/15 12:04           0     0084B4   \n",
       "\n",
       "                  name                                       profileimage  \\\n",
       "109         yananaShFt  https://pbs.twimg.com/profile_images/622656047...   \n",
       "137    _Weed_BobMarley  https://pbs.twimg.com/profile_images/647125019...   \n",
       "496          lesbalren  https://pbs.twimg.com/profile_images/654407508...   \n",
       "582        uzsanjarbek  https://pbs.twimg.com/profile_images/464354128...   \n",
       "679       angelomike79  https://pbs.twimg.com/profile_images/582574334...   \n",
       "...                ...                                                ...   \n",
       "18524      14voidlahey  https://pbs.twimg.com/profile_images/658737348...   \n",
       "18700       Omaaaaaaar  https://pbs.twimg.com/profile_images/565856049...   \n",
       "18840    Fluxx_Destiny  https://pbs.twimg.com/profile_images/654772836...   \n",
       "19773      Babebybobu1  https://pbs.twimg.com/profile_images/542096047...   \n",
       "19842    SofiaSuarez_0  https://pbs.twimg.com/profile_images/640987533...   \n",
       "\n",
       "       retweet_count sidebar_color  \\\n",
       "109                0             0   \n",
       "137                0             0   \n",
       "496                0        FFFFFF   \n",
       "582                0        344032   \n",
       "679                0        C0DEED   \n",
       "...              ...           ...   \n",
       "18524              0        C0DEED   \n",
       "18700              0        FFFFFF   \n",
       "18840              0        C0DEED   \n",
       "19773              0        C0DEED   \n",
       "19842              0        C0DEED   \n",
       "\n",
       "                                                    text  tweet_count  \\\n",
       "109    @jaehyunim_ ohh okay..just asking for my frien...         3818   \n",
       "137                               La Leccion- The 5 Love        27871   \n",
       "496           can we both say the words and forget this?        60787   \n",
       "582    Quote of the Day: \"I feel like this is my last...       692281   \n",
       "679    Growing and engaging with the right tweeps - g...          952   \n",
       "...                                                  ...          ...   \n",
       "18524  @zquady ilysm pls pick me im so close to my go...         7894   \n",
       "18700  And it's just like honey when your love comes ...       103209   \n",
       "18840  @ABlaze_RN @Fluent_OE @exiLe_MonsteH who are u...         4003   \n",
       "19773  Just Pinned to Anglais: reading color words an...          508   \n",
       "19842                            Brothers and sisters :D          503   \n",
       "\n",
       "        tweet_created      tweet_id  \n",
       "109    10/26/15 12:40  6.587300e+17  \n",
       "137    10/26/15 12:40  6.587300e+17  \n",
       "496    10/26/15 12:40  6.587300e+17  \n",
       "582    10/26/15 12:40  6.587300e+17  \n",
       "679    10/26/15 12:40  6.587300e+17  \n",
       "...               ...           ...  \n",
       "18524  10/26/15 13:19  6.587400e+17  \n",
       "18700  10/26/15 13:19  6.587400e+17  \n",
       "18840  10/26/15 13:19  6.587400e+17  \n",
       "19773  10/26/15 13:18  6.587400e+17  \n",
       "19842  10/26/15 13:18  6.587400e+17  \n",
       "\n",
       "[97 rows x 18 columns]"
      ]
     },
     "execution_count": 19,
     "metadata": {},
     "output_type": "execute_result"
    }
   ],
   "source": [
    "df[df.isnull().any(axis=1)]"
   ]
  },
  {
   "cell_type": "code",
   "execution_count": 20,
   "metadata": {},
   "outputs": [],
   "source": [
    "#removing  missing values\n",
    "df=df.dropna()"
   ]
  },
  {
   "cell_type": "code",
   "execution_count": 21,
   "metadata": {},
   "outputs": [
    {
     "data": {
      "text/plain": [
       "<matplotlib.axes._subplots.AxesSubplot at 0x2d720345ec8>"
      ]
     },
     "execution_count": 21,
     "metadata": {},
     "output_type": "execute_result"
    },
    {
     "data": {
      "image/png": "[encoded data removed]",
      "text/plain": [
       "<Figure size 432x288 with 1 Axes>"
      ]
     },
     "metadata": {
      "needs_background": "light"
     },
     "output_type": "display_data"
    }
   ],
   "source": [
    "sns.heatmap(df.isna(),cmap='Spectral_r', cbar=False, yticklabels=False)"
   ]
  },
  {
   "cell_type": "code",
   "execution_count": 22,
   "metadata": {},
   "outputs": [
    {
     "data": {
      "text/plain": [
       "_unit_id                 0\n",
       "_golden                  0\n",
       "_unit_state              0\n",
       "_trusted_judgments       0\n",
       "gender                   0\n",
       "profile_yn               0\n",
       "profile_yn:confidence    0\n",
       "created                  0\n",
       "fav_number               0\n",
       "link_color               0\n",
       "name                     0\n",
       "profileimage             0\n",
       "retweet_count            0\n",
       "sidebar_color            0\n",
       "text                     0\n",
       "tweet_count              0\n",
       "tweet_created            0\n",
       "tweet_id                 0\n",
       "dtype: int64"
      ]
     },
     "execution_count": 22,
     "metadata": {},
     "output_type": "execute_result"
    }
   ],
   "source": [
    "df.isna().sum()"
   ]
  },
  {
   "cell_type": "markdown",
   "metadata": {},
   "source": [
    " *** Dataset has been cleaned ***"
   ]
  },
  {
   "cell_type": "code",
   "execution_count": 23,
   "metadata": {},
   "outputs": [
    {
     "data": {
      "text/plain": [
       "(19953, 18)"
      ]
     },
     "execution_count": 23,
     "metadata": {},
     "output_type": "execute_result"
    }
   ],
   "source": [
    "df.shape"
   ]
  },
  {
   "cell_type": "markdown",
   "metadata": {},
   "source": [
    "### Checking for duplicated values"
   ]
  },
  {
   "cell_type": "code",
   "execution_count": 24,
   "metadata": {},
   "outputs": [
    {
     "data": {
      "text/plain": [
       "0"
      ]
     },
     "execution_count": 24,
     "metadata": {},
     "output_type": "execute_result"
    }
   ],
   "source": [
    "sum(df.duplicated())"
   ]
  },
  {
   "cell_type": "markdown",
   "metadata": {},
   "source": [
    "### Taking gender as the dependent variable"
   ]
  },
  {
   "cell_type": "code",
   "execution_count": 25,
   "metadata": {},
   "outputs": [
    {
     "data": {
      "text/plain": [
       "female     6700\n",
       "male       6194\n",
       "brand      5942\n",
       "unknown    1117\n",
       "Name: gender, dtype: int64"
      ]
     },
     "execution_count": 25,
     "metadata": {},
     "output_type": "execute_result"
    }
   ],
   "source": [
    "df['gender'].value_counts()"
   ]
  },
  {
   "cell_type": "code",
   "execution_count": 26,
   "metadata": {},
   "outputs": [
    {
     "data": {
      "text/plain": [
       "<matplotlib.axes._subplots.AxesSubplot at 0x2d7203c32c8>"
      ]
     },
     "execution_count": 26,
     "metadata": {},
     "output_type": "execute_result"
    },
    {
     "data": {
      "image/png": "[encoded data removed]",
      "text/plain": [
       "<Figure size 432x288 with 1 Axes>"
      ]
     },
     "metadata": {
      "needs_background": "light"
     },
     "output_type": "display_data"
    }
   ],
   "source": [
    "sns.countplot(df['gender'])"
   ]
  },
  {
   "cell_type": "code",
   "execution_count": 27,
   "metadata": {},
   "outputs": [
    {
     "data": {
      "text/plain": [
       "<matplotlib.axes._subplots.AxesSubplot at 0x2d720526d88>"
      ]
     },
     "execution_count": 27,
     "metadata": {},
     "output_type": "execute_result"
    },
    {
     "data": {
      "image/png": "[encoded data removed]",
      "text/plain": [
       "<Figure size 432x288 with 1 Axes>"
      ]
     },
     "metadata": {
      "needs_background": "light"
     },
     "output_type": "display_data"
    }
   ],
   "source": [
    "sns.barplot(x='gender',y='tweet_count',data=df)"
   ]
  },
  {
   "cell_type": "code",
   "execution_count": 28,
   "metadata": {},
   "outputs": [
    {
     "data": {
      "text/plain": [
       "<matplotlib.axes._subplots.AxesSubplot at 0x2d7203cda88>"
      ]
     },
     "execution_count": 28,
     "metadata": {},
     "output_type": "execute_result"
    },
    {
     "data": {
      "image/png": "[encoded data removed]",
      "text/plain": [
       "<Figure size 432x288 with 1 Axes>"
      ]
     },
     "metadata": {
      "needs_background": "light"
     },
     "output_type": "display_data"
    }
   ],
   "source": [
    "sns.barplot(x='gender',y='retweet_count',data=df)"
   ]
  },
  {
   "cell_type": "markdown",
   "metadata": {},
   "source": [
    "#### Removing brand and unknown from gender because we dont know whether they are male or female"
   ]
  },
  {
   "cell_type": "code",
   "execution_count": 29,
   "metadata": {},
   "outputs": [],
   "source": [
    "df=df[(df[\"gender\"]!=\"brand\") & (df[\"gender\"]!=\"unknown\")]"
   ]
  },
  {
   "cell_type": "code",
   "execution_count": 30,
   "metadata": {},
   "outputs": [
    {
     "data": {
      "text/plain": [
       "female    6700\n",
       "male      6194\n",
       "Name: gender, dtype: int64"
      ]
     },
     "execution_count": 30,
     "metadata": {},
     "output_type": "execute_result"
    }
   ],
   "source": [
    "df['gender'].value_counts()"
   ]
  },
  {
   "cell_type": "code",
   "execution_count": 31,
   "metadata": {},
   "outputs": [
    {
     "data": {
      "text/plain": [
       "<matplotlib.axes._subplots.AxesSubplot at 0x2d720842908>"
      ]
     },
     "execution_count": 31,
     "metadata": {},
     "output_type": "execute_result"
    },
    {
     "data": {
      "image/png": "[encoded data removed]",
      "text/plain": [
       "<Figure size 432x288 with 1 Axes>"
      ]
     },
     "metadata": {
      "needs_background": "light"
     },
     "output_type": "display_data"
    }
   ],
   "source": [
    "sns.countplot(df['gender'])"
   ]
  },
  {
   "cell_type": "code",
   "execution_count": 32,
   "metadata": {},
   "outputs": [
    {
     "data": {
      "text/plain": [
       "(12894, 18)"
      ]
     },
     "execution_count": 32,
     "metadata": {},
     "output_type": "execute_result"
    }
   ],
   "source": [
    "df.shape"
   ]
  },
  {
   "cell_type": "markdown",
   "metadata": {},
   "source": [
    "### Which gender has the third highest tweet_count and also visualization of total tweet_count of female and male?"
   ]
  },
  {
   "cell_type": "code",
   "execution_count": 33,
   "metadata": {},
   "outputs": [
    {
     "data": {
      "text/plain": [
       "<matplotlib.axes._subplots.AxesSubplot at 0x2d7206d8348>"
      ]
     },
     "execution_count": 33,
     "metadata": {},
     "output_type": "execute_result"
    },
    {
     "data": {
      "image/png": "[encoded data removed]",
      "text/plain": [
       "<Figure size 432x288 with 1 Axes>"
      ]
     },
     "metadata": {
      "needs_background": "light"
     },
     "output_type": "display_data"
    }
   ],
   "source": [
    "sns.barplot(x='gender',y='tweet_count',data=df)"
   ]
  },
  {
   "cell_type": "markdown",
   "metadata": {},
   "source": [
    "#### From the above plot we can see that male gender got the highest tweet count"
   ]
  },
  {
   "cell_type": "markdown",
   "metadata": {},
   "source": [
    "### Label Encoding"
   ]
  },
  {
   "cell_type": "code",
   "execution_count": 34,
   "metadata": {},
   "outputs": [],
   "source": [
    "from sklearn import preprocessing\n",
    "le = preprocessing.LabelEncoder() "
   ]
  },
  {
   "cell_type": "code",
   "execution_count": 35,
   "metadata": {},
   "outputs": [],
   "source": [
    "df['gender'] = le.fit_transform(df['gender'])"
   ]
  },
  {
   "cell_type": "code",
   "execution_count": 36,
   "metadata": {},
   "outputs": [
    {
     "data": {
      "text/plain": [
       "0    6700\n",
       "1    6194\n",
       "Name: gender, dtype: int64"
      ]
     },
     "execution_count": 36,
     "metadata": {},
     "output_type": "execute_result"
    }
   ],
   "source": [
    "df['gender'].value_counts()"
   ]
  },
  {
   "cell_type": "markdown",
   "metadata": {},
   "source": [
    "* 0 --> Female\n",
    "* 1 --> Male"
   ]
  },
  {
   "cell_type": "code",
   "execution_count": 37,
   "metadata": {},
   "outputs": [
    {
     "data": {
      "text/html": [
       "<div>\n",
       "<style scoped>\n",
       "    .dataframe tbody tr th:only-of-type {\n",
       "        vertical-align: middle;\n",
       "    }\n",
       "\n",
       "    .dataframe tbody tr th {\n",
       "        vertical-align: top;\n",
       "    }\n",
       "\n",
       "    .dataframe thead th {\n",
       "        text-align: right;\n",
       "    }\n",
       "</style>\n",
       "<table border=\"1\" class=\"dataframe\">\n",
       "  <thead>\n",
       "    <tr style=\"text-align: right;\">\n",
       "      <th></th>\n",
       "      <th>_unit_id</th>\n",
       "      <th>_golden</th>\n",
       "      <th>_unit_state</th>\n",
       "      <th>_trusted_judgments</th>\n",
       "      <th>gender</th>\n",
       "      <th>profile_yn</th>\n",
       "      <th>profile_yn:confidence</th>\n",
       "      <th>created</th>\n",
       "      <th>fav_number</th>\n",
       "      <th>link_color</th>\n",
       "      <th>name</th>\n",
       "      <th>profileimage</th>\n",
       "      <th>retweet_count</th>\n",
       "      <th>sidebar_color</th>\n",
       "      <th>text</th>\n",
       "      <th>tweet_count</th>\n",
       "      <th>tweet_created</th>\n",
       "      <th>tweet_id</th>\n",
       "    </tr>\n",
       "  </thead>\n",
       "  <tbody>\n",
       "    <tr>\n",
       "      <td>0</td>\n",
       "      <td>815719226</td>\n",
       "      <td>False</td>\n",
       "      <td>finalized</td>\n",
       "      <td>3</td>\n",
       "      <td>1</td>\n",
       "      <td>yes</td>\n",
       "      <td>1.0</td>\n",
       "      <td>12/5/13 1:48</td>\n",
       "      <td>0</td>\n",
       "      <td>08C2C2</td>\n",
       "      <td>sheezy0</td>\n",
       "      <td>https://pbs.twimg.com/profile_images/414342229...</td>\n",
       "      <td>0</td>\n",
       "      <td>FFFFFF</td>\n",
       "      <td>Robbie E Responds To Critics After Win Against...</td>\n",
       "      <td>110964</td>\n",
       "      <td>10/26/15 12:40</td>\n",
       "      <td>6.587300e+17</td>\n",
       "    </tr>\n",
       "    <tr>\n",
       "      <td>1</td>\n",
       "      <td>815719227</td>\n",
       "      <td>False</td>\n",
       "      <td>finalized</td>\n",
       "      <td>3</td>\n",
       "      <td>1</td>\n",
       "      <td>yes</td>\n",
       "      <td>1.0</td>\n",
       "      <td>10/1/12 13:51</td>\n",
       "      <td>68</td>\n",
       "      <td>0084B4</td>\n",
       "      <td>DavdBurnett</td>\n",
       "      <td>https://pbs.twimg.com/profile_images/539604221...</td>\n",
       "      <td>0</td>\n",
       "      <td>C0DEED</td>\n",
       "      <td>ÛÏIt felt like they were my friends and I was...</td>\n",
       "      <td>7471</td>\n",
       "      <td>10/26/15 12:40</td>\n",
       "      <td>6.587300e+17</td>\n",
       "    </tr>\n",
       "  </tbody>\n",
       "</table>\n",
       "</div>"
      ],
      "text/plain": [
       "    _unit_id  _golden _unit_state  _trusted_judgments  gender profile_yn  \\\n",
       "0  815719226    False   finalized                   3       1        yes   \n",
       "1  815719227    False   finalized                   3       1        yes   \n",
       "\n",
       "   profile_yn:confidence        created  fav_number link_color         name  \\\n",
       "0                    1.0   12/5/13 1:48           0     08C2C2      sheezy0   \n",
       "1                    1.0  10/1/12 13:51          68     0084B4  DavdBurnett   \n",
       "\n",
       "                                        profileimage  retweet_count  \\\n",
       "0  https://pbs.twimg.com/profile_images/414342229...              0   \n",
       "1  https://pbs.twimg.com/profile_images/539604221...              0   \n",
       "\n",
       "  sidebar_color                                               text  \\\n",
       "0        FFFFFF  Robbie E Responds To Critics After Win Against...   \n",
       "1        C0DEED  ÛÏIt felt like they were my friends and I was...   \n",
       "\n",
       "   tweet_count   tweet_created      tweet_id  \n",
       "0       110964  10/26/15 12:40  6.587300e+17  \n",
       "1         7471  10/26/15 12:40  6.587300e+17  "
      ]
     },
     "execution_count": 37,
     "metadata": {},
     "output_type": "execute_result"
    }
   ],
   "source": [
    "df.head(2)"
   ]
  },
  {
   "cell_type": "code",
   "execution_count": null,
   "metadata": {},
   "outputs": [],
   "source": []
  },
  {
   "cell_type": "code",
   "execution_count": 38,
   "metadata": {},
   "outputs": [
    {
     "data": {
      "text/html": [
       "<div>\n",
       "<style scoped>\n",
       "    .dataframe tbody tr th:only-of-type {\n",
       "        vertical-align: middle;\n",
       "    }\n",
       "\n",
       "    .dataframe tbody tr th {\n",
       "        vertical-align: top;\n",
       "    }\n",
       "\n",
       "    .dataframe thead th {\n",
       "        text-align: right;\n",
       "    }\n",
       "</style>\n",
       "<table border=\"1\" class=\"dataframe\">\n",
       "  <thead>\n",
       "    <tr style=\"text-align: right;\">\n",
       "      <th></th>\n",
       "      <th>gender</th>\n",
       "      <th>text</th>\n",
       "    </tr>\n",
       "  </thead>\n",
       "  <tbody>\n",
       "    <tr>\n",
       "      <td>0</td>\n",
       "      <td>1</td>\n",
       "      <td>Robbie E Responds To Critics After Win Against...</td>\n",
       "    </tr>\n",
       "    <tr>\n",
       "      <td>1</td>\n",
       "      <td>1</td>\n",
       "      <td>ÛÏIt felt like they were my friends and I was...</td>\n",
       "    </tr>\n",
       "    <tr>\n",
       "      <td>2</td>\n",
       "      <td>1</td>\n",
       "      <td>i absolutely adore when louis starts the songs...</td>\n",
       "    </tr>\n",
       "    <tr>\n",
       "      <td>3</td>\n",
       "      <td>1</td>\n",
       "      <td>Hi @JordanSpieth - Looking at the url - do you...</td>\n",
       "    </tr>\n",
       "    <tr>\n",
       "      <td>4</td>\n",
       "      <td>0</td>\n",
       "      <td>Watching Neighbours on Sky+ catching up with t...</td>\n",
       "    </tr>\n",
       "  </tbody>\n",
       "</table>\n",
       "</div>"
      ],
      "text/plain": [
       "   gender                                               text\n",
       "0       1  Robbie E Responds To Critics After Win Against...\n",
       "1       1  ÛÏIt felt like they were my friends and I was...\n",
       "2       1  i absolutely adore when louis starts the songs...\n",
       "3       1  Hi @JordanSpieth - Looking at the url - do you...\n",
       "4       0  Watching Neighbours on Sky+ catching up with t..."
      ]
     },
     "execution_count": 38,
     "metadata": {},
     "output_type": "execute_result"
    }
   ],
   "source": [
    "# New dataframe containing only gender and text columns\n",
    "df2 = df[['gender','text']]\n",
    "df2.head()"
   ]
  },
  {
   "cell_type": "markdown",
   "metadata": {},
   "source": [
    "### Text Cleaning"
   ]
  },
  {
   "cell_type": "code",
   "execution_count": 39,
   "metadata": {},
   "outputs": [
    {
     "name": "stderr",
     "output_type": "stream",
     "text": [
      "C:\\ProgramData\\Anaconda3\\lib\\site-packages\\ipykernel_launcher.py:18: SettingWithCopyWarning: \n",
      "A value is trying to be set on a copy of a slice from a DataFrame.\n",
      "Try using .loc[row_indexer,col_indexer] = value instead\n",
      "\n",
      "See the caveats in the documentation: http://pandas.pydata.org/pandas-docs/stable/user_guide/indexing.html#returning-a-view-versus-a-copy\n"
     ]
    },
    {
     "data": {
      "text/html": [
       "<div>\n",
       "<style scoped>\n",
       "    .dataframe tbody tr th:only-of-type {\n",
       "        vertical-align: middle;\n",
       "    }\n",
       "\n",
       "    .dataframe tbody tr th {\n",
       "        vertical-align: top;\n",
       "    }\n",
       "\n",
       "    .dataframe thead th {\n",
       "        text-align: right;\n",
       "    }\n",
       "</style>\n",
       "<table border=\"1\" class=\"dataframe\">\n",
       "  <thead>\n",
       "    <tr style=\"text-align: right;\">\n",
       "      <th></th>\n",
       "      <th>gender</th>\n",
       "      <th>text</th>\n",
       "    </tr>\n",
       "  </thead>\n",
       "  <tbody>\n",
       "    <tr>\n",
       "      <td>0</td>\n",
       "      <td>1</td>\n",
       "      <td>robbie e responds to critics after win against...</td>\n",
       "    </tr>\n",
       "    <tr>\n",
       "      <td>1</td>\n",
       "      <td>1</td>\n",
       "      <td>ûïit felt like they were my friends and i was...</td>\n",
       "    </tr>\n",
       "    <tr>\n",
       "      <td>2</td>\n",
       "      <td>1</td>\n",
       "      <td>i absolutely adore when louis starts the songs...</td>\n",
       "    </tr>\n",
       "    <tr>\n",
       "      <td>3</td>\n",
       "      <td>1</td>\n",
       "      <td>hi jordanspieth looking at the url do you use ...</td>\n",
       "    </tr>\n",
       "    <tr>\n",
       "      <td>4</td>\n",
       "      <td>0</td>\n",
       "      <td>watching neighbours on sky catching up with th...</td>\n",
       "    </tr>\n",
       "  </tbody>\n",
       "</table>\n",
       "</div>"
      ],
      "text/plain": [
       "   gender                                               text\n",
       "0       1  robbie e responds to critics after win against...\n",
       "1       1   ûïit felt like they were my friends and i was...\n",
       "2       1  i absolutely adore when louis starts the songs...\n",
       "3       1  hi jordanspieth looking at the url do you use ...\n",
       "4       0  watching neighbours on sky catching up with th..."
      ]
     },
     "execution_count": 39,
     "metadata": {},
     "output_type": "execute_result"
    }
   ],
   "source": [
    "# filtering extra characters in text\n",
    "import re # Regular Expression\n",
    "def cleaning(s):\n",
    "    s = str(s)\n",
    "    s = s.lower()\n",
    "    s = s.replace(\",\",\"\")\n",
    "    s = re.sub('[!@#$_]', '', s)\n",
    "    s = re.sub('\\W,\\s',' ',s)\n",
    "    s = re.sub(r'[^\\w]', ' ', s)\n",
    "    s = re.sub('\\s\\W',' ',s)\n",
    "    s = re.sub(\"\\d+\", \"\", s)\n",
    "    s = re.sub('\\s+',' ',s)\n",
    "    s = s.replace(\"co\",\"\")\n",
    "    s = s.replace(\"https\",\"\")\n",
    "    s = s.replace(\"[\\w*\",\" \")\n",
    "    return s\n",
    "\n",
    "df2['text'] = [cleaning(s) for s in df2['text']]\n",
    "df2.head()"
   ]
  },
  {
   "cell_type": "markdown",
   "metadata": {},
   "source": [
    "### NLP"
   ]
  },
  {
   "cell_type": "code",
   "execution_count": 40,
   "metadata": {},
   "outputs": [
    {
     "name": "stderr",
     "output_type": "stream",
     "text": [
      "[nltk_data] Downloading package stopwords to C:\\Users\\ARUN\n",
      "[nltk_data]     PRAKASH\\AppData\\Roaming\\nltk_data...\n",
      "[nltk_data]   Package stopwords is already up-to-date!\n"
     ]
    }
   ],
   "source": [
    "import nltk\n",
    "import nltk as nlp\n",
    "nltk.download(\"stopwords\")\n",
    "from nltk.corpus import stopwords"
   ]
  },
  {
   "cell_type": "code",
   "execution_count": 41,
   "metadata": {},
   "outputs": [],
   "source": [
    "lemma=nlp.WordNetLemmatizer() #Lemmatizer"
   ]
  },
  {
   "cell_type": "code",
   "execution_count": 42,
   "metadata": {},
   "outputs": [],
   "source": [
    "text_list=[]\n",
    "for text in df.text:\n",
    "    text=re.sub(\"[^a-zA-Z]\",\" \",text)\n",
    "    text=text.lower()\n",
    "    text=nltk.word_tokenize(text)\n",
    "    text=[lemma.lemmatize(text) for text in text]\n",
    "    text=\" \".join(text)\n",
    "    text_list.append(text)"
   ]
  },
  {
   "cell_type": "code",
   "execution_count": 43,
   "metadata": {
    "scrolled": true
   },
   "outputs": [
    {
     "data": {
      "text/plain": [
       "['robbie e responds to critic after win against eddie edward in the worldtitleseries http t co nsybbmvjkz',\n",
       " 'it felt like they were my friend and i wa living the story with them http t co arnge yhno retired ian http t co cizcanpqfz',\n",
       " 'i absolutely adore when louis start the song it hit me hard but it feel good',\n",
       " 'hi jordanspieth looking at the url do you use ifttt don t typically see an advanced user on the pgatour http t co h ou pe l',\n",
       " 'watching neighbour on sky catching up with the neighbs xxx xxx',\n",
       " 'ive seen people on the train with lamp chair tv etc http t co w zf pvm i',\n",
       " 'gala bingo club bought for m the uk s largest high street bingo operator gala is being taken over by http t co hzeeykjud',\n",
       " 'aphmau the pic defines all mcd fangirls fanboys and mcd shipper xd',\n",
       " 'evielady just how lovely is the tree this year never seen it a gorgeous a this autumn colour',\n",
       " 'just put my as on the line for you and this is how you repay me',\n",
       " 'will i even need sound effect for the diviner tonight',\n",
       " 'http t co erogwtftyo it s a glow of satisfaction re the glow http t co rdymcvpkx',\n",
       " 'giannaaa lmao dude i m hella scared for next episode bc the ending to yesterday s',\n",
       " 'coolyazzy ditto i m still learning the favourite and retweet stuff least it suck le than facebook haha p',\n",
       " 'caribbros jstsaleem i do but i don t understand how to get to the server to get it',\n",
       " 'craftyear isabelpascual thank you for the retweets',\n",
       " 'all the girl went to sleep and the guy just sat in the floor and watched u',\n",
       " 'chrisaofficial i m on the right side xxx',\n",
       " 'yall lmfaoo right when the chorus came on a tear rolled down his face http t co ayuqdptvse',\n",
       " 'james bond premier night at the everymancinema in oxted with sidiedey let s hope it life up to expectation spectre',\n",
       " 'sydniejr except once the hallmark movie start i won t get anything done',\n",
       " 'you leave the group chat for more than min and you miss made shit',\n",
       " 'a opposed to pump where it s like hi hope you like doing jump where you spread your foot across the entire stage',\n",
       " 'all the magic in hath no fury is based on real magick http t co jwpsvhau e',\n",
       " 'me the week of brandon s birthday there s no such thing a a birthday week u weirdo me november st it s my birthday month bow down to me',\n",
       " 'and got more yard and point than the jet gave up all season http t co gdfkaoxcdd',\n",
       " 'did alot up in the past ion wont back',\n",
       " 'this boy wa on the el wit his daughter and they all wa under',\n",
       " 'theriddler cnn i mean it s not like mainstream new medium is supposed to feed you the fact nowadays',\n",
       " 'how many follower do you get everyday i got in the last day growing daily with http t co jzckr ub h',\n",
       " 'onedirection artist of the year amas ho fame',\n",
       " 'kbonimtetezi mheshimiwa traveller along that stretch of the road lubao r hurting and nobody seems to be raising this issue',\n",
       " 'greenville thursday yall holla you need anything know i m the plug',\n",
       " 'markhicks i went to the wrong nandos but i found you eventually chilliesequalsfreenandos',\n",
       " 'andyrobsontips cardiff or drew with the over match goal sound good to me',\n",
       " 'those who break the rule are scum but those who abandon their friend are worse than scum',\n",
       " 'gala bingo club bought for m the uk s largest high street bingo operator gala is being taken over by http t co xprinke m',\n",
       " 'video james bond spectre world premiere after month of build up spectre the latest http t co uv wlg be uk',\n",
       " 'best thing about having an audition on the west side is being able to eat lunch at komodo',\n",
       " 'discipline is the bridge between goal and accomplishment jim rohn',\n",
       " 'in the last minute that wednesday fan ha tweeted about u time no not obsessed not even a little bit',\n",
       " 'once it is complete it will lift off and attempt to connect with the alpha point of the rift we are observing',\n",
       " 'triggered email the killer conversion app http t co obckhxkom',\n",
       " 'camerons side of the bed smell so bad',\n",
       " 'wishbonecon are u going to the one',\n",
       " 'hakeem nlt boii make the wafflw link to the reference then the word count should clear up lol',\n",
       " 'http t co nrn mgld e am i the only one who love the part with merlin and regina s face d ouat',\n",
       " 'harry style always remember never forget you re the best and the greatest in the world just being you always you till the end of time you',\n",
       " 'the politics of evidence result in international development http t co t n c ttbf look great h t duncan id rosalindeyben',\n",
       " 'please god let me get a house that ha a fireplace in the bedroom i have such great idea for such a room',\n",
       " 'that s the they have hidden umph http t co onebbsag',\n",
       " 'wigingtonlinda that s nice for this time of the year tomorrow they say it should be around',\n",
       " 'surgical enhancement are for a different part of the body and i wa kidding',\n",
       " 'i swear if she touch me one more time she piss me off it s stupid cause my friend fall for the trick a well',\n",
       " 'she is not beautiful m and i m talking beyond the superficial beauty',\n",
       " 'bad day in the office but nice to catch up with thedjbrisk so wish we had more time to catch up x',\n",
       " 'james walter invented the bolt action rifle liquor sexual intercourse and football in that order',\n",
       " 'lov rzworldwide say he is the one the eternal he doesn t have kid nor did anyone have him there is nothing like the one',\n",
       " 'now i changed i m not the same man i once yesterday it s for the better watch amp take note',\n",
       " 'amazing see igbo village in the united state of america http t co z a haqpe http t co qdq hne',\n",
       " 'r m appleyard alarm wont work a you can t time the stop in leeds too much traffic ect a min bus ride can take or min ya know',\n",
       " 'akinator the genie app just guessed that i wa thinking of katniss everdeen s daughter what how',\n",
       " 'tekifyuk i am trying to unbrick my kindle fire with a red screen i followed your youtube video and am using the unbrick tool',\n",
       " 'if you say someone like wale or meek or wiz ha gotten big in the past five year you re a moron they were big in the mixtape game',\n",
       " 'move of the week double leg stretch http t co kxkcefuxqb http t co n ptohgapq',\n",
       " 'repcomstock you are supporting the father of the sequester for speaker cut vet pension military medicare shame on you',\n",
       " 'reimagining the webdesign process by invisionapp http t co vmb ozu e http t co hflwr tfol',\n",
       " 'deptulahasrage clemson only need to stack the line against fsu then they may not even score',\n",
       " 'i can see now that there s no way i m going to resist this shattered empire business the noto cover alone http t co nlmic xdmp',\n",
       " 'cringe channel chris chan ha the fame',\n",
       " 'the accuracy though lol http t co frfforeelc',\n",
       " 'im weakkkkk tbh thats the only way to shut down girl who flex',\n",
       " 'thanks to the aca more adult are eligible for medicaid in illinois amp able to apply online younginvincible http t co cfwllqv k',\n",
       " 'ibmsocialbiz in the future there will be a narrowing of the gap of people s ability to use tool proficiently jennifermcclure h hchat',\n",
       " 'chris got on the black toe s',\n",
       " 'iampoojabalaji the day after his wedding anniversary suck to suck',\n",
       " 'when you re min early to an advising appointment but the bitch before you go over by min',\n",
       " 'http t co erogwtoizo sissy s wife loved the l choosing lingerie a very important role for sissy http t co srf oshy',\n",
       " 'paulmgardner cwellssun i knew a guy who wa in the military who used it because it doesn t show up on drug test',\n",
       " 'my mom listening to hello what s happening to the world',\n",
       " 'if ion work one job i work the other',\n",
       " 'lrt me at work allllllllllllllll the time',\n",
       " 'flexible diet plan revealed for the first time secret method for losing weight without having to give up http t co ygqyyvcyki',\n",
       " 'total loss of respect for the little twat http t co eqstpyjeck',\n",
       " 'he need his own intro for when you pick up the phone clifford elli the greatest brocker in the world lmfao',\n",
       " 'fortune favor the funny in guatemala election http t co e qa awek http t co c nvjn van',\n",
       " 'megwacha actually the uc announcement seems like it could be related to that',\n",
       " 'would the affair be easier to watch if the kid weren t such brat spoiler the showtime series the affa http t co o jpvaufdz',\n",
       " 'nbd this comet is spewing gallon of wine in space scientist have discovered that the comet lovejoy is spew http t co fa wwoa',\n",
       " 'stats for the day have arrived new unfollower stats via http t co vumdkp a',\n",
       " 'vivienleigh gone with the wind clark gable vivien leigh photo http t co yvo b jrw film actress',\n",
       " 'good seeing you tonight caspar lee enjoy the film xx',\n",
       " 'kaito s song is about chasing after an idealized version of himself but in the real world he s alone starmyu http t co tvlbxrymrk',\n",
       " 'photo the fellowship of the ring book one in the lord of the ring http t co a v wddd http t co hyosq fr e',\n",
       " 'i kept telling myself the temptation would let me in and they did',\n",
       " 'photo snow queen vlad barbe kid amp family the snow queen is a fairy tale by han christian http t co cc qqnhvjy',\n",
       " 'fool me three time fuck the peace sign load the chopper let it rain on you',\n",
       " 'the world esp eqanon island need more people like eqcompliments horseshowtutor studioonwhitney dejavueq amp athleticeq amazingladies',\n",
       " 'bentorkington nzinlandrevenue don t bother with kiwisaver until the kickstart fund is restored',\n",
       " 'no matter the result word can t express how proud i am of csunfasa all the dedication these new amp old member gave left me speechless',\n",
       " 'hello from the nah',\n",
       " 'came into the game when white rapper weren t a cliche classified spittin that truth',\n",
       " 'evinelive yep just had to wait until the next day',\n",
       " 'thacelebritea seen on the scene spotted ravensymone out and about earlier this week r p theybfdaily http t co sjnh a l',\n",
       " 'justinbieber too much swag the acoustic version you are too cool kept silent make me laughter ha the end with vibrato lol',\n",
       " 'listen to johnmdonnelly discussing his exclusive reporting on potentially fatal flaw in f ejector seat http t co rz bekby p cqnow',\n",
       " 'barcampphilly flipperpa yes would love to throw in the hat in for a couple local folk over at iqmediacorp happy to arrange a meet',\n",
       " 'coffee taster s flavor wheel from the scaa coffee http t co golukszolu http t co hjhczkaiqy',\n",
       " 'we have a chance for the first time in decade to elect someone who will not be owned by lobby group or big corporation or saudi arabia',\n",
       " 'finally realized i ll never get the answer i want',\n",
       " 'i saw and met marinasdiamonds five month ago today i m forever grateful for the opportunity i wa given http t co vlrcsnqn i',\n",
       " 'starbucks mobile ordering come to the uk mobile marketing http t co yecuganjly emarketingmkt',\n",
       " 'the little thing you do always get me heated',\n",
       " 'pennsylvania believing in yourself is the first secret to success http t co sipl vcxe',\n",
       " 'corporate welfare is the worst dark fund for the military industrial complex is another all these post with http t co awmdynzfxz',\n",
       " 'rapper tyga to appear on the next season of kuwtk and he will get k per appearance see more gt gt http t co b rw lkjhg',\n",
       " 'earth teach me quiet a the grass are still with new light',\n",
       " 'starsandglitta i m not for the fake friend good day',\n",
       " 'nothing like the midwest had a great weekend at the ruffin s wedding im glad we all came together http t co drk ukekxv',\n",
       " 'take me back to the time when your clothes took up my drawer',\n",
       " 'mentally ill woman with her two pink dyed poodle threatened to shoot someone followed by the throwing',\n",
       " 'ell morton i just face timed him like min ago and they re the airport in dallas getting a plane in hour they re okay',\n",
       " 'luv them photo http t co temknk ao for the best busty boob click here or on image bustyfriends bignaturals b http t co rsbkiea u',\n",
       " 'the woe http t co cxwhx dtgw',\n",
       " 'isi launch bizarre new weapon in war against the infidel floating condom bomb video bb sp http t co c na cc dk',\n",
       " 'too excited to spend my halloween night in the pit with sigmonmakenzie amp chrisyoungmusic',\n",
       " 'at steidl amp steinberg we understand that owing money to the irs or the state is scary we can help http t co ric ohcd a',\n",
       " 'amazing follower in the last week and there will be more tomorrow growing with http t co mijn phyly',\n",
       " 'drug greed and kidnapping plague dani and liz bluewater ganja th of the bluewater thriller ian sailing http t co brkidlap',\n",
       " 'isi launch bizarre new weapon in war against the infidel floating condom bomb video bb sp http t co ffjxmicet',\n",
       " 'nataliaa caspar lee my phone and ipad are going out the window in a minute omg i cant breathe joe faved caspar said that and i met joe',\n",
       " 'the sky is making weird as noise',\n",
       " 'mt nytimesarts the longest running play in america is set to open in nyc for the st time http t co oiqvi m http t co wify anm',\n",
       " 'voteonedirection onedirection amas artist of the year http t co pndv mycvy',\n",
       " 'alysha is half mom and half world greatest friend of the group',\n",
       " 'the creep again cocom z http t co ztkjxon v',\n",
       " 'and that i m apparently in a contract despite the whole spiel about no contract when i got my phone verizon',\n",
       " 'the one you fall in love with you should feel like nothin else matter fr',\n",
       " 'the fate of europe s net neutrality will be decided tomorrow http t co zgqa d qx http t co qk zdnpqq',\n",
       " 'got the job',\n",
       " 'selling the recruiting process isn t a gamble http t co qbsl ix dy hr thecandes tchat hrtechconf',\n",
       " 'i just bought ticket for post war glamour girl at the cookie leicester from http t co bp thghf http t co efu v cn via ents',\n",
       " 'crowmatriarchy suzuyin breadfuck the likeness of your face is purely disgusting i mean honestly look at yourself in the mirror for mor',\n",
       " 'the role of the hippocampus in long term memory http t co srcxtbyrmc',\n",
       " 'stats for the day have arrived new unfollower stats via http t co dzu hx yb',\n",
       " 'october and the apostrophe http t co mhng f w publishing author',\n",
       " 'p option is the best',\n",
       " 'artistoftheyear onedirection amas from all the four album we heard mm is my fav but it could be changed rly fast when i hear the fift',\n",
       " 'fantastic launch by snapdeal all apps now run smoothly on oneplus one thanks to the quad core processor http t co yma r pcu',\n",
       " 'new unfollowers and new follower hello hello in the last week via http t co wl crq dv',\n",
       " 'except for a couple of broken play the jet did a really good job countering what new england doe well on o and exploiting d weakness',\n",
       " 'look at ken barlow putting it on audrey robert the old rascal',\n",
       " 'amandadybwad the fact is that i don t need want anyone',\n",
       " 'be in the lookout http t co dfzqv kjbh',\n",
       " 'lindsaylkin you know there is a squirrel emoji oh wait your not part of the iphone family',\n",
       " 'tombertram no way you re going to be the opening act aren t you',\n",
       " 'nba im hyped bc im so excited for the new season play offs and who s team will win and who ll be the star thisiswhyweplay sweepstakes',\n",
       " 'photo the chronicle of emerland solitaire game adventure mac app http t co xcjnfyapvw http t co jrlgh fnsg',\n",
       " 'hey guy i ve decided i ll be on maybe for minute the most each day',\n",
       " 'axeslasher metalshayne i wa super hooked on the woodland tortuary talk',\n",
       " 'coming in here with the worst attitude while i m trying to help them',\n",
       " 'hot of the press http t co fzk fjswej',\n",
       " 'stloto any update when you can use the site again',\n",
       " 'thanks winkmartindale for the shout out i m looking pretty good for famousname http t co umrfoswy u',\n",
       " 'also where are all of steven s interview emily did about million after beth died amp so did all the other actor afterwards so',\n",
       " 'bethneilson happy birthday beth hope you had the best day',\n",
       " 'this is still the sweetest thing ever to me and you two made my night http t co nm uverj',\n",
       " 'savagejaspy i like the purple but you seem more of a green person',\n",
       " 'i am fairly normal for someone who could ve died the other night tho',\n",
       " 'people saying nice thing about this game in particular make me feel like maybe i m doing the right thing after all http t co zrbuy fy',\n",
       " 'at a kid s party and we were the one getting fun out of the balloon we can never take any http t co mtdf cmgr',\n",
       " 'now you re already have the one appreciate him a well',\n",
       " 'via jewish voice for peace analysis of racist blame the victim argument which dehumanize palestinian and http t co ftku rmqn',\n",
       " 'congrats enjoy the gc and new phone thedomesticexec dmthoma treatyourfamily',\n",
       " 'if the game tonight can hit total point or more scratch offs will be coming my way',\n",
       " 'gala bingo club bought for m the uk s largest high street bingo operator gala is being taken over by http t co t uojvqqjt',\n",
       " 'josefranco daily caller always win the contest to most quickly take my joking tweet entirely too seriously',\n",
       " 'onedirection artist of the year amas http t co dsjn gzs',\n",
       " 'rightwerk musicnews fact isn t she the one that hated on a dude for wearing a suit',\n",
       " 'remember when esteban wa calling the dead but got put on hold http t co xj tjd d z',\n",
       " 'cinebroughton more hour until spectre red bull at the ready',\n",
       " 'do american find it weird to eat fry with mayo co we do it all the time',\n",
       " 'thanks dj polish sausage for the follow',\n",
       " 'a sample of the fall color we encountered during our day hike to mount leconte this picture wa http t co qlz fookm',\n",
       " 'when u find out ur advisor put u in all the wrong class this semester so ur a year behind',\n",
       " 'i m loving the harrypotter sky channel',\n",
       " 'tell senatedems to stand up to monsanto and protect gmo labeling sign the petition http t co sl i iqh p righttoknow darkact',\n",
       " 'fitstar i just sent you a dm describing the issue and the email address associated with my account',\n",
       " 'last week a teacher said that going to an hbcu doesn t give you an accurate perception of what the world is like and i m still not over it',\n",
       " 'ican turn from side to side in this damn bed w o havin to sit all the way up',\n",
       " 'win the fight kns pushawardskathniels',\n",
       " 'news amazon celebrates new vinyl store in unveiling the day vinyl http t co olkfmammtc edm followback http t co z cq di sp',\n",
       " 'mdeedoubleyou the fact that i miss you so much make me want to cry i m dropping out just so i can move to cali',\n",
       " 'bekkimarshall haaa just put your lipstick over it you ll have the perfect pout',\n",
       " 'rose to play without minute restriction in season opener the chicago bull will open a new era under coach f http t co ec ndjw w',\n",
       " 'holiday candy course learn the art of gourmet candy making and make gourmet chocolate in your own kitchen http t co j bkkeiqba',\n",
       " 'starting to like the new conner family a little coronationstreet',\n",
       " 'colt here be sure to nicole amp colt edward group we will start our fun and game for the release of reckless',\n",
       " 'new unfollower in the last day via http t co k sasmdleb',\n",
       " 'that s the way you drop em bigtits boob tit http t co wv mjvxxd http t co h p exmwqx',\n",
       " 'when i m working out amp i m so exhausted i feel like breaking down any sec listening to hall of fame always give me the kick i need to go on',\n",
       " 'men shirt breakingbad walt i am the danger white tshirt size medium new http t co d zl iodk bestseller auction',\n",
       " 'literally looking up old song for the rest of the day',\n",
       " 'prestigediesels yeah i had to nail my mat to the floor leahrebeccauk',\n",
       " 'the ada and you how doe this regulation affect your office askhcsi http t co i clomkemd',\n",
       " 'katheintellect easy af that you left the pencil huh lol',\n",
       " 'would the affair be easier to watch if the kid weren t such brat spoiler the showtime series the affa http t co pzu g ado',\n",
       " 'preparing for the worst but still praying for the best',\n",
       " 'maxschrems check out work on the consent receipt and safe harbour via consent analysis http t co r shghcsxe',\n",
       " 'im never goin find the right girl',\n",
       " 'dude the jamaican http t co e mdvu pqn',\n",
       " 'scotthoying we could be king of the world',\n",
       " 'd bbach yes and no they were bad last night but bradford also ha the nd worst off target in the nfl go both way',\n",
       " 'massimolandi newyork newyorkcity nyc the wall street bull economia economics http t co rqkg q ab',\n",
       " 'hi harry style thank you for being so nice you re my fave art but even the best artist couldn t draw you follow me please',\n",
       " 'quad and a half kill to start off the round block party play on pc slip into my http t co fecwouecfu',\n",
       " 'now back to this bitch that think it s okay to that the n word dinahfatty what s good',\n",
       " 'trey wingo just did a jim halpert look to the camera when herm edward wa talking',\n",
       " 'let not forget the running back too if you can even stop the pas game they have a pretty skilled lineman at fullback bruh',\n",
       " 'i want the new and old i want the f i want a rehaul i want what vanneka want',\n",
       " 'wondering how to grow on twitter i gained follower in the past week this is the app http t co eucgj sjxk',\n",
       " 'photo elite squad the enemy within jos padilha action amp adventure elite squad is a http t co hajijeg oj',\n",
       " 'i just finished htgawm and so much wa revealed in the last minute i think dying',\n",
       " 'who is going to be the first one to say goodbya',\n",
       " 'side nikka of the year',\n",
       " 'review notorious rbg the life and time of ruth bader ginsburg http t co be ex r',\n",
       " 'im a huge fan of the patriot but some of you are just ignorant',\n",
       " 'leonardo davinci just a iron rust from disuse even so doe inaction spoil the intellect',\n",
       " 'photo the future of the internet stanford continuing study program computer science the http t co ob plwd du',\n",
       " 'photo persian circle the university of chicago middle eastern study persian circle the http t co tsbvgrt ep',\n",
       " 'view from the west stand is pretty much going to write itself when we play staines perfect draw for me lofc',\n",
       " 'hoarding voiture be possessed of the benefit together with commbus ljfxuqxrp',\n",
       " 'wles soa maravilhosp d p se d verdads onedirection artist of the year amas',\n",
       " 'new tweep followed me in the last day i find relevant people to follow with the copyfollowers feature of http t co wtkuzzjhz',\n",
       " 'dwts interesting thanks for the read http t co uw vnuzw',\n",
       " 'all of the computer hacking technique described are real social engineer is currently free http t co rctwv bpy kindle mystery',\n",
       " 'put away for the plain style in order to the greenpoison afnxwkg',\n",
       " 'thanks vincent r photog for the follow',\n",
       " 'photo raabs an der thaya holiday in the waldviertel raabs an der thaya raabs an der http t co b p zbmh p',\n",
       " 'likeimtayha ight got you about to dm you the credit thing hold on real quick driving real quick got to log in my bmi',\n",
       " 'dharma bum better than on the road making the bold statement today so brave of me http t co riy hpzvdd',\n",
       " 'following wwehiac and ahead of raw tonight here s how i d book wwebraywyatt to be a monster by wrestlemania http t co hzaoqcvsm',\n",
       " 'for the best vpn exponent in order to yours crew want ocqgih',\n",
       " 'photo the back of the pumpkin me and lily did halloween pumpkin pumpkin carving http t co rpq akbwbh',\n",
       " 'mlg time on the bus http t co t re avycm',\n",
       " 'listen harry square the pig hunter burakandemre rmx on renaissancepodcast http t co b dfvbpiv dj edm madeinitaly',\n",
       " 'i added a video to a youtube playlist http t co jtvsol jk jem reacts to the new jem and the hologram trailer',\n",
       " 'seems a though someone ha something in the work http t co bccwhs xbd',\n",
       " 'in the history http t co y brtwmf c',\n",
       " 'get in the outdo c preliminary turn on so a to yours need stpikn',\n",
       " 'the house science committee is worse than the benghazi committee http t co khdezwhpvg',\n",
       " 'the best thing in the world is knowing i m yours and you re mine',\n",
       " 'samd and we have to listen to christmas carol the whole way there',\n",
       " 'harley b x the little smiley face',\n",
       " 'oomf is so cute without the e i swear boy',\n",
       " 'sheeb moni peep me in the back',\n",
       " 'hunterfsu i say it cap bcus it s simple and being made complicated actually performing is a big part of winning all of the above',\n",
       " 'where wa i when the good one were being taken',\n",
       " 'mcg cmk the movement fr and stop all this fake claiming yall ain t with the gang',\n",
       " 'i wish it wa valkyrie law um sure the feeling is no mutual lol http t co n ohz bxl',\n",
       " 'you ll pull back when a man say our out of line but when the woman your dissing doe you don t care',\n",
       " 'happy happy happy belated birthday to the one and only dirtydonniedamnit kristian bruun thebruun http t co idwuehee',\n",
       " 'our table mate in the beautiful room barnstaplehotel for ndjournal fooddrinkandtourismawards http t co yrqx zf w',\n",
       " 'allthingsnice i wa actually going to make a calendar from all the cat pic i had from my time in greece i had so many travelpics',\n",
       " 'week to the day since i had one of the best day with dickiewelch it absolutely can not be month before the next time',\n",
       " 'triggered email the killer conversion app marketer have been using spray and pray tactic for decade th http t co nyxhrmml p',\n",
       " 'moratwe lol so you ll hit the low note',\n",
       " 'http t co qidhip tzl one of the greatest unsolved mystery of all time thezodiackiller http t co alttzu itv',\n",
       " 'the most badass car to date http t co ki dd va w',\n",
       " 'pqp onedirection artist of the year amas http t co akjznrhcmc',\n",
       " 'the revelation re the mp pugilist yet whichever in order to attend since continuity buy conjoint mbcqovo',\n",
       " 'mosdef famousass cj go to the one in clinton',\n",
       " 'photo the news from lake wobegon from a prairie home companion august garrison keillor http t co zfmmfx sx',\n",
       " 'kjinwoos tru but tbh they all left for pretty much the same reason so ppl should either be against all of them or with all of them like',\n",
       " 'remember the time you wanted u to race in mexico but the police pulled up you decided to burn out in their face so they d chase you',\n",
       " 'i liked a youtube video http t co up wgjyapp artist reveal the satanic industry',\n",
       " 'gala bingo club bought for m the uk s largest high street bingo operator gala is being taken over by http t co ufcwkdyenj',\n",
       " 'andddd i ve lost count of how many time i ve already watched the almostadultsmov trailer someone help meeeeeeeeee',\n",
       " 'the most likely next president is hillary clinton http t co nozhchfmzy',\n",
       " 'photo the case for christ lee strobel christianity the case for christ lee strobel genre http t co n uegh enm',\n",
       " 'the rest of these worker are hating cause i do is chill and listen to music lol',\n",
       " 'mjsdirtydiana what if that person s fear of the outcome stop his or hers action and word',\n",
       " 'mattuktweets let s be honest if she went to the average working class college they d just tell her to piss off',\n",
       " 'http t co hgpollvmfq one of the greatest unsolved mystery of all time thezodiackiller http t co erxlc ubw',\n",
       " 'elliexcastle fuck that just stick the weeknd on repeat',\n",
       " 'photo the graveyard book unabridged neil gaiman kid amp young adult neil richard gaiman http t co xmbpwuv ux',\n",
       " 'vinod khosla step off square s board in advance of it ipo vinod khosla ha stepped down a director on the http t co fuosn q sk',\n",
       " 'godjoeyy limit the carbs damn',\n",
       " 'this would be the day that a permanent valencia filter on my face would come in handy yiza nosleep',\n",
       " 'blog me http t co wk hxd hst even fat cat hate the twin city commute morninggrind http t co ebq sghkb',\n",
       " 'a flash of light the photograph of e j kelty will kelty classic see kelty company http t co u nw k i',\n",
       " 'just agree on custody for the real dad and leave the kid alone for now he hasn t been clean long enough drphil custodydrama',\n",
       " 'cant wait for wednesday game',\n",
       " 'http t co silseuvxea one of the greatest unsolved mystery of all time thezodiackiller http t co w jtudvbc',\n",
       " 'photo hover disc the essential multiplayer game game family ipad app http t co pitapstzbj',\n",
       " 'this the only day i came to work without getting mad',\n",
       " 'why do colour dying advert always have young woman in it saying see no grey hair who the hell ha grey hair at that age anyways',\n",
       " 'number crunching for the past day new follower and no unfollowers stats via http t co ka hbpnqx',\n",
       " 'if you don t ask or try the answer will always be no',\n",
       " 'my header i swear it the truth',\n",
       " 'what i would have given to been in the underground club scene in the s',\n",
       " 'number crunching for the past day new follower and no unfollowers stats via http t co elopdbfe b',\n",
       " 'girl of the month http t co pf nqgvq z',\n",
       " 'zbierband yo zbb played our last seasonal gig at st jude good time had by all remember the more you drink the better we sound',\n",
       " 'tv scooty quintessential featured the two wheeler jptsx',\n",
       " 'i wish the real world would just stop hassling me',\n",
       " 'thesmithminute i just googled it the gum look like big white sheet of paper',\n",
       " 'wheres the th man knickfan life',\n",
       " 'i hope pierre neuville win the wsop me love the way stand there like he s waiting for the guy he just busted to high five him',\n",
       " 'why they had to be grimy amp not count the apple stream how dear they',\n",
       " 'fall is just across the street http t co calsfk rnl',\n",
       " 'total fail the funniest people at walmart http t co vez al v http t co kqdi u wei',\n",
       " 'should only be disseminated where the express consent of all the party involved ha been obtained',\n",
       " 'animated gif number http t co iebklzsqz for the best busty boob click here or on image bustyfriends hardcore http t co wfr ak ar',\n",
       " 'recreate your turnout near the pitching performance in relation to dj stuttgart aymzsj http t co lievo pynx',\n",
       " 'acroasdell do you really like to answer the oncers you re amazing',\n",
       " 'the taming of the queen unabridged philippa gregory romance philippa gregory kenya http t co dmy uvct i',\n",
       " 'let the boy live http t co ghnmahzrpk',\n",
       " 'yeah work is not the move',\n",
       " 'chilling on cubecraftgames in the selfie area been sweating out on eggwars all day bestgamemodever http t co a jbozenr',\n",
       " 'what if there wa a winter version of the yamaka',\n",
       " 'thomo grant same situation with how many time the big club play each other twice',\n",
       " 'thanks for the retweets this week sovereignplc adfresco print much appreciated',\n",
       " 'jk im angry all the time about it hint why i never hang out with you guy',\n",
       " 'katsuraptor i really liked the first ovas but then the third ha hour long rape scene in hell and i wa like uhhhh i think im out',\n",
       " 'huh supergirl air today aaand now i got disturbing image of jeb sitting in a snuggy in front of the tv with a box of kleenex ready d',\n",
       " 'when you get your english classwork all done in the first day it s released',\n",
       " 'me when i take selfies v me when i look at the mirror http t co uqyhcui mu',\n",
       " 'katlouvain eternally grateful for the woo woos and missing my grubby puffle',\n",
       " 'lauren holiday retiring is going to hit me the most when they play the next game and she s not in the starting line up',\n",
       " 'no one win in the misery olympics lvanderkam on tip from highly successful woman percentconf',\n",
       " 'when the homies won t let you out of the group chat http t co sszplkoun',\n",
       " 'rodimusprime is the site down for maintenance',\n",
       " 'attcares any way to get the phone shipped faster',\n",
       " 'sometimes to get away from my family i just sit on the loo for four hour straight',\n",
       " 'this company want to sponsor me and i ve been putting them on hold with the promo work not because i don t like them i m just busy rn',\n",
       " 'but why do those easy exam cost so much the praxis is cheaper and to top it off i have to pay extra just to get certified lol',\n",
       " 'askhobo because i told him you were telling the truth',\n",
       " 'how inflict cbse school modern kolkata noida and kochi staff the relocating parent eyb http t co k s winuh',\n",
       " 'tsmtheoddone shoutout to the crt',\n",
       " 'bigevvy agreed it s also the last thing the cowboy need right now considering how this season ha gone thus far',\n",
       " 'love leaving my shopping on the top of my van and driving off seeing a loaf of bread and grape rolling off my windscreen is a great laugh',\n",
       " 'justmalcom m i need the herb',\n",
       " 'i live for the night i can t remember with people i won t forget sherman oak los angeles http t co xrsynhf n',\n",
       " 'a magnificent test flight of the scaled worldviewvoyage capsule the entire test flight went perfectly amp landing http t co dlzi npyg',\n",
       " 'there isn t ever enough time in the day for all of the homework they give you',\n",
       " 'lizziecaakes yeah ill send you the flier when i do it today costume party',\n",
       " 'the ambassador you can t miss me lol http t co vytoiv c',\n",
       " 'onedirection favorite duo or group pop rock at the amas',\n",
       " 'drivendiabetic he said it because of my age technically he s right i m no spring chicken but still bounced back after my section',\n",
       " 'miraclecharlie take those bag of candy and stick them in the freezer it will take you much longer to eat them',\n",
       " 'business and my own bos day in a year what a difference it make we all get the same hr what are you doing with yours',\n",
       " 'alhenasmile markgatiiss spectre premiere at the royal albert hall in london',\n",
       " 'me and the goodman going fuck flower homecoming up',\n",
       " 'don t do something for someone who ain t gon na do the same for you',\n",
       " 'hi angel niallofficial i love all the track from madeintheam so far they re amazing i m so proud mind following lifesaver',\n",
       " 'dirtysocks or ask the jet a they blew a minute by not calling timeouts',\n",
       " 'the four most important symptom concentrationproblems http t co w lp ke ii http t co tppgtvdoo',\n",
       " 'using fresh herb for cooking fantastic tea healing ailment grow your own herb garden and enjoy the reward http t co np gapudc',\n",
       " 'for me for the people in line after me keep calm and rakattack on yeg http t co mqx tgi',\n",
       " 'the cooky look amazing',\n",
       " 'why don t all seventeen year old boy look like this is the real question http t co kytkxox di',\n",
       " 'http t co erogwtftyo sissy s on the job train sissy secretary http t co yrn spstry',\n",
       " 'some guy who look like milton from office space just walked through the office i couldn t control my laughter',\n",
       " 'realdiscodonnie because we got one from something not so wonderful getting cancelled a well so we just gon na get the original refund',\n",
       " 'httph started from the bottom known you for year',\n",
       " 'bestcoast what size is the one you re wearing i m trying to figure the right size for me',\n",
       " 'i love the man god blessed me with to call daddy because he s the best father and husband to my mom',\n",
       " 'spectrepremiere dublin can t believe they didn t check the download nothing in the file savoycinema joke',\n",
       " 'go to the sixer game on my birthday debate',\n",
       " 'victoriafalls g i can t promise all the gossip',\n",
       " 'eminem brought mom s spaghetti back for this strange basketball commercial eminem help the detroit piston http t co crcb rcux',\n",
       " 'you hearing lie everyday all you got ta do is turn on the tv',\n",
       " 'expert split on likely long range strike bomber winner the u air force is poised to deliver the decision of http t co tnzsdbcz',\n",
       " 'onedirection favorite duo or group pop rock at the amas',\n",
       " 'onedirection favorite duo or group pop rock at the amas',\n",
       " 'ashkeeline amp i have absolutely the perfect girlfriend that i can possibly dream of',\n",
       " 'on me amp it s hotter then the sun',\n",
       " 'onedirection favorite duo or group pop rock at the amas',\n",
       " 'lpnorthover aurum bos libdems we will at a point remember with fondness the liberal impact on tory measure',\n",
       " 'that s really all the explanation i need',\n",
       " 'the worst thing about liking someone is having to read their horoscope too',\n",
       " 'onedirection favorite duo or group pop rock at the amas',\n",
       " 'eggelletion with all due respect sir puerto rico is part of the u albeit not willingly but pr people are u citizen',\n",
       " 'dumbcreationist there s nothing new in the paper or it would be pasted on every tv screen worldwide it s the same unsubstantiated rot',\n",
       " 'linzsportsit with the exception on janesports and cbrennansports the sport reporter i follow have been quiet which is disappointing',\n",
       " 'of star to the rosie project by graeme simsion http t co pd if ytc',\n",
       " 'meacher s motion to delay ha been voted through the content have it',\n",
       " 'we gone show the world the definition of real',\n",
       " 'check out the largest pink diamond to ever be auctioned price tag start at m http t co dr vcvezv',\n",
       " 'onedirection favorite duo or group pop rock at the amas',\n",
       " 'onedirection favorite duo or group pop rock at the amas',\n",
       " 'the only nude he ll be getting are the colour scheme for my art',\n",
       " 'why are there so many plant and animal specie book the mystery of origin of the universe http t co jc vgn qsw',\n",
       " 'the odds of you being born the exact time place to your specific parent your dna structure etc is in trillion you re lucky',\n",
       " 'cuestionmarque don t forget billion in subsidy given wealthy farmer at the same time slashing benefit starving child',\n",
       " 'pedro saying he s finding it hard at chelsea because the football is different from barca s everyone know chelsea bus parking football',\n",
       " 'seems like the closer i get to flying home it get further away mannnnn',\n",
       " 'first basketball season with a high school that s not navarre',\n",
       " 'hunned for the coat',\n",
       " 'strifechaospain the way of the nugget if your a nugget can i eat you',\n",
       " 'all the b in my life i should be writing down',\n",
       " 'steve uk i think it even more shocking that talktalk didn t feel the need to encrypt their data regardless of whether they re obliged to',\n",
       " 'always let the people who got to the bus stop before you get on first',\n",
       " 'flxwashington im bout to be by yu at the stu',\n",
       " 'the counselor is in god is good dream job http t co micko rvgv',\n",
       " 'wan na wear my real hair but the fact that it naturally curly kill me',\n",
       " 'harry style your beautiful voice never fails to amaze me i m so excited for the new album mind following me please i love you',\n",
       " 'top independent watch of the year http t co a zhpr yaa http t co nwon cioe',\n",
       " 'evey gallardo youre pushing away the one who actually gave a shit about you i ll stop though don t even got ta trip but hey i ll be around',\n",
       " 'ride the pipe like a bike make sure you going the distance',\n",
       " 'eme rnb singer come through with yet another catchy tune but this time around is the remix of his previously http t co jcjje p ux',\n",
       " 'their is an urgent matter dat need the sincere attention of kano our struggle is finally coming tru we hv meet moro either b or aft',\n",
       " 'can t fight the moonlight with lyric http t co rix s ky',\n",
       " 'i recorded myself singing clock it a bad a you think it ll go up when i capture the ic title',\n",
       " 'wevansmusic trevorhallmusic loved having you and trevorhallmusic in columbia mo soulful evening the blue note indeed happy trail',\n",
       " 'so hard to convince someone to watch hollyoaks when the acting is a bad a tonight',\n",
       " 'longevity secret from around the globe http t co ikkypzn hk',\n",
       " 'prayer go out to oklahoma state university cause last week ppl died and injured during the shooting at osu homecoming parade',\n",
       " 'tim muma ramieistweeting people are choosing to eliminate the season with the largest sample size also jordan comment wa sarcasm',\n",
       " 'the manobos of mindanao by john m garvan http t co umeiapox h http t co hcsohcyo z',\n",
       " 'the house of lord ha voted to delay the cut to taxcredits',\n",
       " 'nokesy no head phone nokes think he can dj without headphone bringing in the next track high hat everywhere',\n",
       " 'andray blatche playin ball in china amp still got me blocked i gave up the right to the domain andrayblatchesucks dot com yr ago',\n",
       " 'wen i try too sign in it say unable too sign in but i wa just told that i needed the play station plus askeasupport',\n",
       " 'no matter the cost i will preach gospel void of african belief and man made doctrine i will refuse to put http t co z hlkbt',\n",
       " 'realjerryjones greg hardy is disrespectful and thuggish it doesn t matter how good he is you are damaging your rep and the team rep',\n",
       " 'someone give me plan for the daaaaaay',\n",
       " 'katmele ya get the fuck out my mention',\n",
       " 'advertisement flyer for the unit first song e p art by tom bonauro available a a reissue on fdh http t co nsruppgyct',\n",
       " 'repost kd brand the queen gq giftedqueen kdbrand wolfpackjacket shop http t co dnonlxxlqa dab http t co az g ippaa',\n",
       " 'wait no this is the last episode of futurama oh no',\n",
       " 'i m super sensitive over the internet if you call me silly via msn i will die etc',\n",
       " 'paul ryan and the fight for the gop s soul if ryan can co opt half or more of the freedom http t co fdzxoa',\n",
       " 'amazing see igbo village in the united state of america http t co xwwbkapww http t co kbzom ypnm',\n",
       " 'the digital entrepreneur the dream of building a business around digital product and service is a old a t http t co mopqrr cpb',\n",
       " 'nba i play basketball to escape reality between the exercise and the diff personality memory are made',\n",
       " 'the back of the pumpkin me and lily did halloween pumpkin pumpkin carving http t co csiaw zvz',\n",
       " 'harry style the word will never be strong enough for describe all the love respect and admiration i feel for you follow me pls x',\n",
       " 'the best picture ive ever took otrabirmingham otra onedirection http t co xobnhww pw',\n",
       " 'here are the apple watch face ranked worst to best applewatchbands http t co elrniztwnv http t co l qmsjipp',\n",
       " 'mungaab and his district leader are gone i hope the new mayor get rid of those thug and there is a wider representation',\n",
       " 'allanschumacher extralife kid of the donation received go to the hospital being supported absolutely fantastic',\n",
       " 'fzschools all thanks to the freshman of the nh band creditwhereitsdue',\n",
       " 'using fresh herb for cooking fantastic tea healing ailment grow your own herb garden and enjoy the reward http t co c jffml s',\n",
       " 'ugh everytime the main lead is with her i want them to end up together but when the second lead show up too i like him just a much',\n",
       " 'the tackle against our player you d swear somebody sent these team to sabotage u',\n",
       " 'yknow what i m so damn done want me don t want me i don t care miss me or don t don t care cya later',\n",
       " 'out of all the jackass in the world i chose you have an amazing day babe troystickitin love black bird http t co tb fbujqbc',\n",
       " 'i have this crazy as headache don t think i m gon na hit the gym tonight',\n",
       " 'the secret lie in our sense of wonder and beauty',\n",
       " 'lol time warner cable is literally the worst',\n",
       " 'unbiasedsprtsfn hosmer is the other guy i wa thinking too i agree with you',\n",
       " 'sometimes the wrong thing lead u to the right place',\n",
       " 'z newyork please let me attend the future now vip party tonight i love demi and nick z futurenow x',\n",
       " 'natalia lach oh i know it s not the first time that i drink it i m just out of most of my reserve bottle of alcohol p d',\n",
       " 'he s played the game the whole year and still doesn t have a sausage of what s going on iclovah',\n",
       " 'okay yr is giving me a headache one minute they hate adam amp the next minute they are treating adam like he is a saint make up you mind',\n",
       " 'the a n t i c i p a t i o n livecalmafrica we ll be dropping some fine image tomorrow noon',\n",
       " 'the giant slow',\n",
       " 'onebadmac billycorben he want the job he s said it already and practically begs for it',\n",
       " 'playboy s really stepped up the content now that they re not showing tit http t co zr g jlu',\n",
       " 'i cant spot the b a mile away',\n",
       " 'people at my school believe anything they hear which kill me the most',\n",
       " 'davidfrum ont libs unpopular trudeau won ont ont voter wudn t have cared just the same tripe coming from poor loser con cdnpoli',\n",
       " 'the honeymoon tour wa a massive success proud proud proud',\n",
       " 'dead state remnant teen friend survive the future shtf teotwawki survival iartg snrtg http t co yar gtpdm',\n",
       " 'when i wa young the world it wa smaller the city were vast the building were taller',\n",
       " 'lifestyle the line up wa officially announced on december',\n",
       " 'http t co erogwtftyo sissy attendant preparing the attendant http t co df oexpbia',\n",
       " 'ivandontcareh amanda shelton menninists don t respond to getting punched in the face very well',\n",
       " 'sometimes someone will ask how i ve lost even more weight lately and i m always torn between lying to them and telling the truth',\n",
       " 'maskinen whateven russiansnowball i meant on the website like before we had access',\n",
       " 'lactose free milk really doe go bad when the date on the box say especially if you re using it for pasta',\n",
       " 'onedirection artist of the year amas',\n",
       " 'the history of the hmmwv humvee ha tie with jeep watch',\n",
       " 'miedoyficcion superherofeed people always want to see the negative lol it s just a film no need to make assumption',\n",
       " 'the new yorker all access magazine http t co uj xc emob for month today on amazon',\n",
       " 'lmao this is fucking hilarious where is the popcorn',\n",
       " 'making the descent marine hone fast roping skill http t co rhvvvlohny press release http t co xgslsgqox usmc',\n",
       " 'hey nerdheardben nerd point for nerding it out in ww dogfight while listening to the show http t co ey gggbxwa',\n",
       " 'dunno wats worse me waking into my son room and he s doing waist movement for the tl or this http t co bowkey',\n",
       " 'mastering the art of french cooking julia child volume illust sid coryn http t co puk g x http t co ib hhzeyd',\n",
       " 'sibling abuse can hurt the identity and confidence of an adult special therapy is need to recover http t co nk hw werz',\n",
       " 'the second reading wa okay could ve been better but some people said that it wouldn t be enough time for the teacher',\n",
       " 'it feel like winter in the morning summer in the middle of the day and fall at night so how tf am i supposed to dress',\n",
       " 'the moonlight era start in day daystilfocus http t co y eimyhl w',\n",
       " 'police upset technology mean their dirt is now exposed for the world to see',\n",
       " 'stu howe jacklopan jgrog i know not sure on exact date yet over the th th november hopefully sunday th daysesh',\n",
       " 'ashton so don t pretend like it s not the best thing to happen to you',\n",
       " 'tafe s construction teacher face the axe despite building boom http t co enq pv oi',\n",
       " 'the thunder wa so hectic last night shook my house soooo much',\n",
       " 'it s week of round of the dfx for me i am happy to say i have lost another inch for a http t co gjjwqqurz',\n",
       " 'jerkyxp thanks for the motivational monday s',\n",
       " 'is julian apologizing tomorrow for the new year sex lol',\n",
       " 'the body language',\n",
       " 'tom brady again make the exceptional seem routine in patriot victory over jet if you want to tell me it http t co vieq wf hd',\n",
       " 'nicolebrooks option go to the student bar',\n",
       " 'bucksexton i remember the day when i would party too hard on the weekend and call in sick on monday',\n",
       " 'i can t wait friday when i get the whip',\n",
       " 'sochaux s jong and valenciennes pslidja both in the france football team of the week two young ligue player with big future',\n",
       " 'and to mom reading this don t worry bout them gettin sent to war their better off in the army than policing these street believe that',\n",
       " 'i m not rockin with the spider that decide to make their web and hang right by my garage keypad',\n",
       " 'http t co p bd jxklj young ali nail em to the cross slim jesus dis',\n",
       " 'you re putting in quite the effort aren t you then i guess i should enjoy myself ahahahaha',\n",
       " 'the amount of people who think i m thibaut on my other acc',\n",
       " 'victory over the darkness realizing the power of your identity in christ by an http t co evaxlsufi http t co pi oiaowa',\n",
       " 'new blog post featuring showoffdolls campdelcorazon elixirshow romacostume http t co jsgulqqb q',\n",
       " 'photo http t co e jambr um for the best busty boob click here or on image bustyfriends bignaturals bigtits b http t co lm yfsrlhu',\n",
       " 'kc kush what can i say chingobling is the shit aye lol',\n",
       " 'demi is a fat flop and now the whole world know it',\n",
       " 'rodriguesmatt i hope you mean the other way off the track away from the train riiiight',\n",
       " 'idk why no one brings attention to this fucking bullshit fuck the nfl http t co ymrmgvq i',\n",
       " 'tweep followed me in the past day feel great do you also want to feel awesome check out http t co qpxtr gdlk',\n",
       " 'catch fire ha the same first word a the star spangled banner',\n",
       " 'campbell ha built his reputation and put his stamp on the team however will it be enough to win the job he ha to win this week',\n",
       " 'port you ve got no fan port utb should get a selfie with him in november then if porter score we re on the pitch',\n",
       " 'stevia in the raw a low a at kroger via kroger krazy we have a new coupon that can be http t co zuucoqsfeo',\n",
       " 'i have the best bf',\n",
       " 'triggered email the killer conversion app marketer have been using spray and pray tactic for http t co qmojeajkkm valpopescu',\n",
       " 'forget unfollowers i believe in growing new follower in the last day stats via http t co lndlndzbg',\n",
       " 'enjoy man jerusalem by alpha blondy amp the wailer http t co qpmwcgznmk',\n",
       " 'i wa doing on the northern state at am i just lied and said i left everything at home idk how that shit worked',\n",
       " 'now we ve won the cup the record amount of time they ve decided to name the competition after our stadium facup',\n",
       " 'i passed the class lol nice',\n",
       " 'the only a i have right now is in drawing',\n",
       " 'i m in the new james bond film btw http t co qigqbde jw',\n",
       " 'ok with prudent spending cut too debt jacob j lew honor our obligation raise the debt limit http t co jhrnpoznw via usatoday',\n",
       " 'just wan na go to the chicago aquarium is that too much to ask',\n",
       " 'your never at home on the weekend im always at my house wym',\n",
       " 'the international space station is passing over the sf bay area wave october at pm',\n",
       " 'this guy literally just ran in front of me to hold the door open for me like wow thank you kind human',\n",
       " 'pandapsu you need guy who have skill amp contribute offensively i m not saying hit or being isn t needed but the game is changing',\n",
       " 'rcxas excuse you yata would annihilate sukuna with or without the damn monkey s help lol',\n",
       " 'shepnewsteam why do you always give find the most redneck peep to interview in sc nc we do have very intelligent people interview them',\n",
       " 'musicmonday sumthin sumthin mellosmooth have you heard the snippet of iii he previewed a short while ago from his upcoming summer',\n",
       " 'tolkien notated middle earth map found in copy of the lord of the ring http t co jeakdh psd',\n",
       " 'the prophet of allah s a w said the person who is two faced will have two tongue of fire on the day of judgement abu dawood',\n",
       " 'if failure were celebrated more i believe the world would be a magical place via danemaxwell',\n",
       " 'found a transponder snail execution are these the straw hat final moment trecru http t co qmljesazad',\n",
       " 'the idea of growing old sound whack a fuck i wan na die young',\n",
       " 'asapmikeyyy he hasn t been in the game a long a any of them give it time',\n",
       " 'everything hinge on the narrative of your work by pauljun via helpscout http t co ioqdx lgxt',\n",
       " 'currently plottin watching sosa the movie',\n",
       " 'jamesdoleman i didn t realise it had broken the and they ve a cheek to say this country life beyond it s mean',\n",
       " 'young people hold the key to mobilizing climate action support them we left this damn mess http t co pzzxbmoniz',\n",
       " 'praying for the victim of the afghanistan earthquake may god bring peace and healing',\n",
       " 'i don t see why they would kill off a main character who s been there since season one in some random episode in the middle of the season',\n",
       " 'q why did the lone ranger kill tonto a he found out what kimosabe really mean',\n",
       " 'neafcy wafc bury away in the cup what have they ever achieved wafc buryfc facup won the fa cup more than your once bankrolled club',\n",
       " 'these are the dumbest relationship goal ever http t co s itcrbah',\n",
       " 'no i hate being on the phone that s all',\n",
       " 'tluvgolf theblaze glennbeck the clintonian w a sweet combover',\n",
       " 'northjerseybrk this is just poor all afternoon cop were trying to keep the photographer away from the kid but you had to sneak one in',\n",
       " 'what is the craziest thing you ve done in public oh you don t wan na know http t co eygecxs zu',\n",
       " 'the world can pull you down with all it gravity',\n",
       " 'alright damzadeleye keneamazu just having fun with the harsh tag marketmemonday',\n",
       " 'did you smell him allie asked creepily after the waiter filled my water glass',\n",
       " 'uk car dealer fear the fallout of volkswagen scandal http t co fx eszetgp',\n",
       " 'why the hell do i have to get information about my school lockdown through the news wtf',\n",
       " 'christinehodge well he won t do that sat in the stand with his mate will he doubt anyone is pinning our future on this guy fitness',\n",
       " 'danielsolis suzanne what s funny is he just had the idea this morning and it s already a done game daniel is amazing p',\n",
       " 'and stop saying ur the person being called when ur not u dick i hate ignorant ppl',\n",
       " 'looking forward to seeing the new bond film tonight excited spectre',\n",
       " 'i understand people who are mentally ill are more likely to be victim than perps i also know the amount of abuse they endured in asylum',\n",
       " 'hey brad hope you smash the show tonight can t wait to see you and the boy on tour next year ily thevampsbrad please follow me x',\n",
       " 'namaikilips maiyanee he can t do that or else his mom will kick him out of the house',\n",
       " 'officialtaz do we still have blading in the wwe pg era',\n",
       " 'cofe bigjames meemichie mestasenesta imdatchick i don t know why these woman agree to some in the first place stupid',\n",
       " 'the rolling stone miss you http t co cokcmfqcte',\n",
       " 'i never really take the bus but i am today lol',\n",
       " 'i drove on the bridge i swear it s the longest bridge ever lol http t co bbspscoukl',\n",
       " 'this musictech panel look amaaaazing heavy hitter across the board w flipagram fender machineshopco http t co youwa onmc',\n",
       " 'vibetickets ticket to one direction on the th lmao been looking age',\n",
       " 'rayascoop at the spectrepremiere http t co yfxgwoxspo',\n",
       " 'nadia ali xxx beautiful princess with the devil',\n",
       " 'lowkey have the juice right now',\n",
       " 'jdsussman men s journal i ll tweet the link',\n",
       " 'love what the rain doe to my hair',\n",
       " 'new idea scrub daddy in the shape of a halloween pumpkin write me a check',\n",
       " 'holy shit naomie harris at the bondpremiere',\n",
       " 'it s such a prefect day to go to the beach',\n",
       " 'everyone take a breathe they have made in to the dance where anything is possible so let wait to dissect once elimanated giovinco',\n",
       " 'damn if you can t eat bacon what the hell can you eat http t co nmzfjdw oh',\n",
       " 'tanyahuntington yes please and yes d can see crimson peak chaperoned i asked all the critic',\n",
       " 'i think lancome s me incontournables de parisienne makeup essential palette is the smartest palette http t co vx fhfzrhw',\n",
       " 'larrypurgatory de novembro onedirection artist of the year amas',\n",
       " 'mystified just spinning round in circle drowning in the silent screaming with nothing left to say hadenough lifehouse',\n",
       " 'triggered email the killer conversion app marketer have been using spray and pray tactic for decade th http t co jge ofs ii',\n",
       " 'now that i think of it when i wa i definitely got caught in the middle of giving myself a haircut',\n",
       " 'alicia m i know it s annoying it s cold for a couple minute then it s like the sahara',\n",
       " 'i hate the walking dead no i don t believe he is dead',\n",
       " 'kolatrl i dont see his sec on rih s song a his meanwhile abel already ha cfmf and the hill',\n",
       " 'the woman on theweeknd s angel sound similar halsey and now i m eagerly awaiting a collab between those two',\n",
       " 'the most likely next president is hillary http t co izfquwbsrf',\n",
       " 'bjork then the cranberry then natalie imbruglia',\n",
       " 'local version of insideout playing the tig theme to retell a story of local codebreakers',\n",
       " 'i m currently playing the th player on http t co vezny come and join me http t co djzfwo',\n",
       " 'it s heartbreaking to know the one you love no longer love you',\n",
       " 'hornicole the real dylan counting down the day but i ll have you so i won t need booty pic to make me happy',\n",
       " 'dwkputsyouaway nod and run to the room',\n",
       " 'how to play the need for speed reboot five day early after some time away ea s need for speed franchise ret http t co ltzsn tld',\n",
       " 'to the marine the mall that made me smile amp laugh today thank you',\n",
       " 'floating jack o lantern create the perfect spooky lighting for an outdoor halloween party http t co ycgr kq kv',\n",
       " 'acai bowl are honestly the best thing ever',\n",
       " 'listening to the same song i used to listen to year ago but the only difference is that listening to them now i understand the lyric',\n",
       " 'so come on baby let rock n roll get a little lost on these old back road later on we ll count the star',\n",
       " 'it wa the most memorable and lovable bday i had bcuz of you',\n",
       " 'hestiahdruid it wa on the news back in or some aid fiv research http t co pb gjp fwn',\n",
       " 'morrissey s debut novel list of the lost is about a s relay team cursed by the http t co olprh a e',\n",
       " 'to realize the value of one hour ask the lover who are waiting to meet',\n",
       " 'waiting to be checked in at one of the most luxurious hotel in abu dhabi happyanniversary top http t co gg gpdqdvz',\n",
       " 'idk the doctor wa like wth let me check your height rt baddie pee mscomplicatedtk but y u thought u wa that tall',\n",
       " 'word of the day favor',\n",
       " 'bah zoom http t co ktbjkbzbap for the best busty boob click here or on image bustyfriends bignaturals bigtit http t co nif iervis',\n",
       " 'and the final the piece wa painted from a recent sketch the idea is for you work out c http t co wcawfcqgie http t co aytlyzjpa',\n",
       " 'time people use selfie stick the wrong way http t co hq k hspp',\n",
       " 'the weeknd wicked game',\n",
       " 'the weight of grace http t co g ux smfqj',\n",
       " 'femaleslikeus aliceavizandum so you have to deny the very fact that science work to keep hating trans people congratulation',\n",
       " 'greeting all webmythical thanks for the follow happymonday',\n",
       " 'the only thing better than chilli is bacon chilli baconwithanything http t co afanpdxjfr',\n",
       " 'seem like the only move worth making',\n",
       " 'mexiplier your gon na make me screamm penguin for the win jerome come back to u',\n",
       " 'erlking haha maybe and admittedly i will always be invested in seeing how the human soap opera unfolds but i dunno sleep sound nice too',\n",
       " 'the digital entrepreneur the dream of building a business around digital product and service is a old a t http t co jara uduq',\n",
       " 'planned u s patrol to raise stake with beijing in disputed south china sea the japan time http t co iypbi gtvm',\n",
       " 'hayleyatwell mmdogrescue if you can get a cute puppy to join you on a dubsmash u are the greatest woman alive',\n",
       " 'clarification on the cancer news of today http t co pm um xx',\n",
       " 'alphy alphine moose jaw is one of the cheaper city i m living in regina and it s a month plus utility and it s in the new area',\n",
       " 'emanuel think i m sad today he talking about you still sad about the walking dead i am but still',\n",
       " 'gee put the icing on the cake when he said we down here smoking smart car fuel',\n",
       " 'i pity the girl who are still stuck in high school',\n",
       " 'conor breslin is the real bresy',\n",
       " 'i fully agree with todd bowles assessment of the timeout situation at the end of the game why r people having trouble understanding it',\n",
       " 'untranslatable love word from around the world http t co r b bwrqk',\n",
       " 'the shit just not for me',\n",
       " 'lovin the vibe on our personal tour of jungle cat world gratitude love animal http t co crez exu u',\n",
       " 'okay so since it s the new quarter i think i m gon na deactivate my twitter until thanksgiving break if you wan na talk to me ask for my',\n",
       " 'lost girl the making of an episode hair and make up http t co uudqywdhh via youtube',\n",
       " 'the d photo of my daughter gt gt gt',\n",
       " 'in the worst mood ever',\n",
       " 'i added a video to a youtube playlist http t co pya zaltco walking the dog lifecast',\n",
       " 'paulwesleyshair shadesofdeml werkvato stonecolddeluxe she wa in brazil for the promo week your faves had to bust there ass',\n",
       " 'me i ve always wanted my name to be desirae samaria i ll call you desirae if you call me sunshine star what the',\n",
       " 'i just won another point by playing the superlucky button on superpoints http t co tahq e glp',\n",
       " 'ima just stay out the way',\n",
       " 'i took so many selfies this weekend it ll take age to post them all let s start with the german http t co u ovthw k',\n",
       " 'check out original art manga anime blonde girl poster wall art home decor made in the usa asian http t co uemmbqxgby via ebay',\n",
       " 'doods are public university in the u completely for free or do you have to pay for something',\n",
       " 'i ve witnessed a wedding in the winn dixie parking lot but this this is alabama http t co osfbtqqgei',\n",
       " 'the internet taught me that most men are outrageously fucking gross when they think therell be no reprecussions for expressing the grossness',\n",
       " 'laurenfennis goldxxxdust not a much for the vocal a for the production',\n",
       " 'bwprimary fancy a trip to orkney if you enter and win could you take shanice http t co mwa s euxg',\n",
       " 'i added a video to a youtube playlist http t co gcnlhc jx rockin around the christmas tree lyric',\n",
       " 'the saddest thing is to watch someone you love turn into everything you hate',\n",
       " 'damn i might not listen to the album now lmfao http t co tkok y jm',\n",
       " 'going to get some weed and probably hit the strip club bigbootymoms culonasputas juxcallmedash active dick http t co tka dolw',\n",
       " 'stop talking about how busy you are no one win in the misery olympics lvanderkam percentconf',\n",
       " 'agshowcase climate adaptive agriculture data driven innovation in the field http t co odc lf r via youtube',\n",
       " 'rac we ve been getting those for over a year now i m just ignoring them until we need it i don t want to deal with the hassle',\n",
       " 'patrickcoffee pirate s loot necco wafer dum dums the candy that spends eternity in our grandparent candy bowl',\n",
       " 'problem is when the mass feel like they have a controlled democracy monitoring is a totally different issue',\n",
       " 'hiiiijac kbombdotcom we come out of the room still drunk trying to figure out what day it is there s kristina in the window',\n",
       " 'kdugdalemsp meanwhile your lord just allowed the tory cut to tax credit to go ahead shameful',\n",
       " 'life changed in month and here s the proof http t co c onfulats exercise rule',\n",
       " 'the advantage of dating after forty http t co uyjqtohmqa',\n",
       " 'starting the gym for serious',\n",
       " 'since being back from zante i just want to drink all the time passmethejager',\n",
       " 'who decided the way we should live our life is based around a piece of green fabric',\n",
       " 'kaylaessence the yogurt section',\n",
       " 'theleapz once it s done could be an option not the first goal for it but who know',\n",
       " 'jahovaswitniss thats the unactivated phone that your dad would let you use when he got a new phone and all it had wa the snake game on it',\n",
       " 'all the kid and parent who wa ca football beaversbrook skysports will be showing the feature from am onwards tomorrow',\n",
       " 'dgodfathermoody can t wait to get back in the truck maro did oink call in yet aka steve in idaho lol',\n",
       " 'mdaisey the fish don t look at each other',\n",
       " 'even when he happy he doe the face http t co yizyfpk yl',\n",
       " 'impossible to capture the beauty of the full moon everything that wa http t co ltvkrsawiz',\n",
       " 'sorry tku the rts monica most carmenthespy jlumo windsordw savethedolphin advaita wild orca http t co ry vuyxwo orcazine',\n",
       " 'msanitaganja ticket for the ny show go on sale to the reg public the th it s on ticketmaster',\n",
       " 'better to fight to democratize than to abolish the institution that regulate transnational interaction in a globalizing world n fraser',\n",
       " 'what they fail to report is the overall diet and lifestyle of the people studied',\n",
       " 'the empire strike back hillary s empire that is http t co iuex i cah',\n",
       " 'i actually don t think these idiot get the joke http t co woie t oyy',\n",
       " 'ugly barbie literally the best thing i ve heard all week',\n",
       " 'netjeretkhau if only we could convince the chinese that asswipe spleen make the yang hard we could hunt them to extinction for profit',\n",
       " 'life is better at the beach instaquote quote http t co cd z gociy',\n",
       " 'monkey with smaller testicle scream louder to compensate study find the beauty of science nowweknow http t co uahanvdx x',\n",
       " 'the title of the party say it all miss my lob crew http t co eeeudnhnj',\n",
       " 'dobbiamo votare i ragazzi onedirection artist of the year amas',\n",
       " 'i feel the tear going down my check im trying so hard not to think of what the doctor keep saying but it hard',\n",
       " 'time to take my anger out on the gym',\n",
       " 'quality fubu the collection men shirt side vent check print cotton xxxl http t co vkdhtx li http t co gueyiks',\n",
       " 'the always awesome laura hudson nail it the walking dead is good again http t co qpxkgj l',\n",
       " 'i only have one question have you been asleep all through the concert and made that all up or were you on drug http t co mtnwmrasbj',\n",
       " 'stark in the street dothraki in the sheet',\n",
       " 'that ll put me in a great mood for the rest of the day',\n",
       " 'we have friend coming to stay this week so we ve cracked open the halloween dec although oscar http t co rk mg pu',\n",
       " 'noah s sister just called him a fucking brat because she s the best theaffair',\n",
       " 'kenna pas class captain dude is the principal',\n",
       " 'top independent watch of the year feat our exclusive laurentferrier http t co aqx sodjux via hautetime http t co y mw idd',\n",
       " 'have you been following the imperfect mom confessional love this from yourvibrantfamily amp busybeingblessed http t co jxgxl ft n',\n",
       " 'am i the only one who see yunho in hoya',\n",
       " 'if i stop tweeting my battery ha died or the lab ha exploded',\n",
       " 'cammeekins the fuck man what happened to the lamp city day you sold out faster than i expected',\n",
       " 'it s gotten to the point where i love taylor swift so much a a person that i forget that she can actually sing too',\n",
       " 'eliminate the risk amp attain higher achievement by avoiding the deadly sin of project mgmt join u here pmot http t co i udl aky',\n",
       " 'like the old cartoon song say don t ya put it your mouth say the wto about everything living will kill you i guess',\n",
       " 'sometimes the depth we find in others make it impossible to hide our damage but instead force u to refine it into definition',\n",
       " 'is the movie watching paranormalactivity',\n",
       " 'people say im stupid for what i do but im suppose to be on hush when yall do the same shit fuck no',\n",
       " 'walking with the best person ever kaileimadison',\n",
       " 'melosmuse i wa just about to say that my stomach is not sensitive but the bug i had this weekend is making me look at everything sideways',\n",
       " 'yelp review for barber shop are the most unhelpful thing every review is a or star no in between',\n",
       " 'look of the day pastel colour http t co i nq d gok on bloglovin',\n",
       " 'lukeisnotsexy i wish you would notice me bc i know you and we went to the same primary school and it so exciting im cry',\n",
       " 'what the actual fuck is this http t co wb dih kv',\n",
       " 'a sabre tooth tiger by daniel age and a half inspired by our trip to the natural history museum http t co hyhynqiylx',\n",
       " 'on page of of the martian by andy weir http t co j o qlnwc',\n",
       " 'majonoshison i i see like this following her word crona would do a instructed stumbling only slightly when it came to the pivoting',\n",
       " 'the boy manner came out letting girl get food first',\n",
       " 'generate lead with the new twitter app http t co bu o kjagc homebusinessentrepreneur workfromhome mlm http t co bk avstry',\n",
       " 'mgsisk this should be on their about page the whole question that s it',\n",
       " 'where do you even find the time http t co koc awcgff',\n",
       " 'when the booty dont taste good callum dickson http t co ntthsxzzaa',\n",
       " 'doctor think you got all the time in the world to sit in a small dry as room',\n",
       " 'morggray i know like srsly what one day the special wa mile high meat loaf sandwich wtf is that',\n",
       " 'odin dex nah because you making it out like we are the bad guy we did nothing wrong',\n",
       " 'baseball is in quote there because it s the name of a wkrp episode not because it s an alien term to me even though it kind of is',\n",
       " 'nnakitty i feel it i d do the same',\n",
       " 'barstooljj keegs doe janice s situation change if the gender were reversed asking for a friend',\n",
       " 'the struggle of trying to slow dance with your boyfriend when he s like and your only is to real',\n",
       " 'everyone come out to cbac to witness the rd edition of the olathe derby sweepsouth',\n",
       " 'everydaydayiloveyou forevermore weep with the heroine s desperation pushawardslizquens',\n",
       " 'pg esam what s his best air move is it reliable against character with good air game i get juggled in the air way too much',\n",
       " 'just whipped up the fye blackened fish salad',\n",
       " 'dc with dc and the gottenburg youtube http t co wwgpzmvubi',\n",
       " 'everydaydayiloveyou forevermore weep with the heroine s desperation pushawardslizquens',\n",
       " 'this wan an improvement from all the other roasting video http t co pti nvcmdf',\n",
       " 'shannon better hop the fuck up out those feeling',\n",
       " 'everydaydayiloveyou forevermore weep with the heroine s desperation pushawardslizquens',\n",
       " 'everydaydayiloveyou forevermore weep with the heroine s desperation pushawardslizquens',\n",
       " 'there s nothing to indicate that s how thing will play out over the course of the season and through the playoff',\n",
       " 'nbaseason is back let the lion roar amp roster stay healthy kingjames http t co ektptp kgc',\n",
       " 'teganrich the only thing that make u the same is the subscription sampling we can t be any more different we do not focus on retail',\n",
       " 'vintageannie never mind her i want some bloody whisky if it carry on haha thank god for the vibrating bouncy chair is all i can say',\n",
       " 'everydaydayiloveyou forevermore weep with the heroine s desperation pushawardslizquens',\n",
       " 'everydaydayiloveyou forevermore weep with the heroine s desperation pushawardslizquens',\n",
       " 'the fucking ignorance of people at school actually make me sick http t co dqrk vasw',\n",
       " 'julienickart the student loan must be ridiculous',\n",
       " 'when you have no plan for halloween oh wait netflix is the plan',\n",
       " 'the million that realdonaldtrump got from his dad would be worth a gazillion today with inflation he s lost trillion trump',\n",
       " 'run bring me the horizon',\n",
       " 'stats for the day have arrived new follower and no unfollowers via http t co vhlxf ucct',\n",
       " 'didn t keep up with tech news last week here are the five biggest thing you missed http t co wlolzyyn businesstech',\n",
       " 'what a waste it is to feel good about yourself if no one think you are worth the time',\n",
       " 'how the hell doe a pikachu damage arceus',\n",
       " 'the real rick ross is not rapper http t co egcm boxmh',\n",
       " 'when you see the booty http t co rq sqimm',\n",
       " 'somedays you spend the majority of your day in bed with christmas light on while attempting homework atleastishowered',\n",
       " 'strigoibolivar for the right moment to strike',\n",
       " 'i m finna have the whole hood wearing dickie suit again',\n",
       " 'broseffdylan ahh well you are associating with the bestie therefore interview get excited',\n",
       " 'ugh i can imagine all the krashlyn shipper going wild after seeing this http t co ackz bqpek',\n",
       " 'nourryz i love the boy but their music doesn t dominate all other artist',\n",
       " 'bbclaurak now lady hollis if she win this it will scupper the bill',\n",
       " 'late night shout out to m cobbler aka malpapadam if she s not already passed out from all the barley and cupcake',\n",
       " 'colt revolver the world s right arm rustic nostalgic tin metal sign new http t co xg a p y c http t co oqnppouszm',\n",
       " 'gym is the best therapy',\n",
       " 'i ve called dinner time and no one ha appeared wondering whether to disconnect the wifi or trip all the upstairs socket',\n",
       " 'oh it s u onedirection artist of the year amas onedirection favorite duo or group pop rock amas',\n",
       " 'them hoe clean http t co sz kopide',\n",
       " 'who built the pyramid why were they built and whats their purpose right now light questionz',\n",
       " 'discover seven of the best doggy style position http t co h mmplfa http t co zjl skrvgi',\n",
       " 'mondesi s lhb and position flexibility would be a strength over rhb colon v heavy rhp mets a huge huge test this last in the game though',\n",
       " 'wvvvxs it s the best feeling ever bro lol',\n",
       " 'which bond took out the most martinied the most and seduced the most here s a fun graph lazenby wa a hound http t co lf xmdouk',\n",
       " 'i remember dongho is the one who fought with seungho in a game that caused him to have a problem with his back sigh my panda grandpa',\n",
       " 'the gannet of muriwai nz with nisicarol great place to visit when in localauckland auckland nz http t co v hl i rfe',\n",
       " 'theclemreport that look a little dark they skimped you on the cream',\n",
       " 'spencerhuntosu undertaking the monumental task of confirming my attendance with only character of possible communication lanternclass',\n",
       " 'amazingsivan livelysugg dxbrevsmolder oakleysnutella joe sugg the shade the drag',\n",
       " 'there is an amazing looking igbo village located in staunton virginia usa the washington http t co oroweb x',\n",
       " 'qmd ir ao rock in rio para ver the weeknd',\n",
       " 'one day no maintenance will happen and all the stored database information will be sold tadah i might really try journal now',\n",
       " 'notjoshearnest when i went to college you had to have an above standard gpa to get in isn t that the case anymore or do the go by color',\n",
       " 'hot off the grille vintage automotive hotrod http t co qfpr jlqcj',\n",
       " 'still probably not going to the super bowl',\n",
       " 'maddisont justindbvoter the lyric video or the mv i m not sure but he held your record for the fastest video to reach m like',\n",
       " 'jackyalcine rent all of moscone get a permit to shut down the street in between the different building fill it with k people',\n",
       " 'enaml woow plz don t ask me to violate the rule',\n",
       " 'maddydiemer woah we tweeted the same thing twin',\n",
       " 'adele hit you right in the feel',\n",
       " 'girlonutd i still don t know there wa definite movement of the arm but can t tell whether it wa more arm or chest',\n",
       " 'tmfansupport what is the presale code for the u bank arena emotional roadtour',\n",
       " 'i dont understand how a passport wa issued by the indian official for one of the most wanted criminal since year chotarajan',\n",
       " 'lunar mana the polished renewable mastery remedial of realm power wkyoe',\n",
       " 'the main strength relative to that be a elfdom shopper kck',\n",
       " 'excited to see kevinwatson at the bishop s symposium this week johnwesley classmeeting discipleship holylife',\n",
       " 'english mustard is the best condiment in the world discus',\n",
       " 'supremeproducts check out the new saddlery now open westmidsaddlery everday bargain in store and online',\n",
       " 'nba we play for that moment when the game tied up and time s running down we do it for the big play thisiswhyweplay sweepstakes',\n",
       " 'i almost got ran over by the valet',\n",
       " 'the invisible superhero http t co hremu ae z',\n",
       " 'non spoiler alert i can t believe that thing happened to my favorite character in last night s episode of that popular show',\n",
       " 'easy easy pull out your heart to make the being alone easy easy',\n",
       " 'everybody s got nice pretty eye these day is that the only thing we can ever compliment people with smh',\n",
       " 'tisanb who sang the jagaban song',\n",
       " 'rodbelgrave pabmanjo the worker the supplier the local business all reliant on that steelworks they can all move eh wanker',\n",
       " 'if impl of a compassion strategy becomes about the we ve missed the point lsbucip this is heart amp mind juneinhe http t co rmfytadt y',\n",
       " 'uhohmamamia i m coming to see her soon the next time you have her awh omg',\n",
       " 'when people used to say woke i just assumed they just woke up stfu with the gay slang',\n",
       " 'breaking renton motorcycle officer hit by a car on the way to harborview in critical condition kiro seattle',\n",
       " 'irisleah just showing everybody the true side of you',\n",
       " 'haggisadele seemed to be under control and he wa talking to the paramedic finger crossed',\n",
       " 'the leverage in re utilization the transcendently fortunate organ sign manchester bqa',\n",
       " 'onlybignaturals titfuckingheaven big breasted hotties looking to hookup http t co w q de xk for the best b http t co pviik r wy',\n",
       " 'click to win hellraiser the scarlet box on blu ray with heyuguys http t co afsq qgb q http t co hmq wzl g',\n",
       " 'kiimboog throw the kim',\n",
       " 'discreetlatino it s like min from mine i m going to start hanging out with your brother on the reg',\n",
       " 'jack and jack maybe i can not be the best fan but i love you so much and i will always support you',\n",
       " 'here is the only secret that can make you succesful on and with social medium http t co pyfi awr',\n",
       " 'nicorafa thanks for the unkind word signed guy you follow on twitter',\n",
       " 'the invisible superhero http t co dfqo jhal gameinsight android androidgames ipad ipadgames openfollow teamfollowback',\n",
       " 'bloody hell i try leave later and i m still the first one here',\n",
       " 'sadelain what is next new target increased potency combinatorial therapy and a next gen car coming to the clinic next year tmm',\n",
       " 'also super grateful i ve never drawn su fanart because lord know the world would be over if i used the wrong skin shade or hair texture',\n",
       " 'cherokee syllabary wikipedia the free encyclopedia http t co ypmtp jj s',\n",
       " 'if i wa in o brien s presser i d ask why he wa running arian foster in the fourth quarter of a blowout loss texan',\n",
       " 'just messed up my chance of having a potential plug for the weekend',\n",
       " 'enter the http t co hlh lyh st giveaway to win a visa gift card giveaway sweepstakes http t co e wkrtx wt',\n",
       " 'senbookerofc senatormenendez stopcisa keep our private data out of the hand of insecure government agency http t co dnzrqdihdo',\n",
       " 'withthemoonblog i m not at the spectre premiere either just so you know',\n",
       " 'i hope i m not the only girl who wake up one morning and none of my jean fit',\n",
       " 'you always got ta be prepared for the twitter video that start moaning',\n",
       " 'stormin the castle with jeffthebrotherhood jeffbrotherhood infinitycat infinitycat vinyl http t co ij o bbwy',\n",
       " 'i have a blister the size of a quarter on the bottom of my foot',\n",
       " 'join the labour party and become a lord get good at abstaining spineless tosser only vermin wear ermine taxcredits',\n",
       " 'klaus is gon na be leering at them from across the street kengoku that s not weird theoriginals',\n",
       " 'i ll be thinking about you every night disappointed cause the shit you did the last day',\n",
       " 'whatsapp s co founder exlpains how the iconoclastic app got huge while staying so small http t co zjp y obi',\n",
       " 'the one spanish class i need is all filled up',\n",
       " 'dyn porn id follow that shit to the end of the earth',\n",
       " 'where the hell is lolisa',\n",
       " 'happy birthday to my oga at the top ukenyatta mypresident',\n",
       " 'pick the piece watch out other seem touching teak computerized typesetting xiyqmj',\n",
       " 'assuming donald trump got his m loan when he wa it s the equivalent of today',\n",
       " 'finally getting round to watching the lesmisofficial th anniversary finale so excited',\n",
       " 'so hard to be positive when life isn t going the way you planned',\n",
       " 'unclutching aweeeee well then how in the world did i end up in your following list',\n",
       " 'prepaid mobile the phoenix decoction on mark down expense anent prepaid service cjl',\n",
       " 'z newyorkif i got the z futurenow chance to hang w demilovato amp nickjonas would be amazing i love them both',\n",
       " 'return a verdict the overwhelm step forward jar for yours preferred curtain near the tunk anent high mortise gkq',\n",
       " 'justinjwelch the struggle hahaha i have a skinner and guy hook in my truck all the time',\n",
       " 'the amount of money that i am blowing this month brb kill myself',\n",
       " 'rt well since we work the bar and hotel together you might want to follow me improves communication and my drink order lol',\n",
       " 'the inside story of how chicago built the dearborn street bike lane http t co oemvnybqkn',\n",
       " 'presenting mastership annual other self washroom claim macrocosm in point of the benefit pertinent to present',\n",
       " 'capygames microsoft banned you speaking about below coming to p why can t you answer beyond the robotic simultaneous to pc amp xbone',\n",
       " 'davidbraben what about your not a impressive effort of porting the game to o x classic fd',\n",
       " 'my ex gave the best morning text or maybe i just got so use to them',\n",
       " 'ekpegaur haha next time gift the person half a joint who scold you and ask him her to come office on time the next day p anubomb',\n",
       " 'getting so sick in the bathroom and the girl in the stall beside me is eating carrot or an apple like you re so nasty',\n",
       " 'jeff gluck i m in that group i guess the good news is i ll wait five year to be disappointed again a opposed to my annual disappointment',\n",
       " 'the mining married love a for online tissue store inflowing latter year ngl',\n",
       " 'photo by kikeo a great white shark smile for the camera while swimming off the coast of mexico by natgeocreat http t co bcnfwaphro',\n",
       " 'thank you hardfightingsoldier for the top you even guessed my favorite color love http t co tuorama zz',\n",
       " 'marinasdiamonds redefined the word performing last night http t co fc ky bkk',\n",
       " 'feeling in the mood for a bit of writing vellum pilot back on track elliotmphotos sgfgee marinalouisax ghostmedialtd tvseries',\n",
       " 'w me it s different let me show you the difference',\n",
       " 'everything in the past wa better stronger and more efficient take me back bdib',\n",
       " 'the inside story of surface book microsoft s next big thing http t co ivhg nuxth via wired',\n",
       " 'tomlinhxrry hope you have the most amazing night tonight amp im praying the boy notice you amp your sign you truly deserve it',\n",
       " 'the moon tonight though',\n",
       " 'connecticut i will be at comixmohegansun this friday amp saturday i will be the one in costume telling dick joke',\n",
       " 'time people use selfie stick the wrong way http t co hog zgnyuw',\n",
       " 'when you have the best cousin ever arleneaguero',\n",
       " 'this is the second to last shot of the swamp i loved this spot so much and i can t wait to go back http t co nccmbkp qk',\n",
       " 'chitlesh i m thinking more of the vendor perspective a in they have the switch feature support etc are they using them',\n",
       " 'how i get the weekend off',\n",
       " 'dawg this really the last week of october',\n",
       " 'what are the most common mistake made by venture capitalist http t co e k yb uug',\n",
       " 'make my heart happy when both the cat and dog cuddle with me while i m laying in bed',\n",
       " 'it s been minute and there s still no one in the electronics department to help',\n",
       " 'the best look from paris fashion week fall http t co tkvlzgmffx via harpersbazaarus',\n",
       " 'fantastic launch by snapdeal all apps now run smoothly on oneplus one thanks to the quad core processor http t co yma r pcu',\n",
       " 'nyrrvirtualtrainer i truly wan na be there and enjoy the most',\n",
       " 'iphone apple deal http t co grr esiurt belkin wemo switch the iphone home remote nib new http t co qh ojgkzwo',\n",
       " 'the big sleazy s insane governor s race http t co wm pxicedt via thedailybeast',\n",
       " 'cpd would you kill me for see the scene would be obscene to see someone of my color shot down in cold blood no one would say so what',\n",
       " 'lovely model mast urabting outdoors in the backyard http t co qkxpbwlw o',\n",
       " 'glamwalker thanks for the follow',\n",
       " 'don arabieila can i see the pic',\n",
       " 'chrissyatc by the way you can obviously also dm me the more detailed the more detailed ill be in yours if that even make sense',\n",
       " 'i hate when i m looking threw twitter and i come upon someone i m following but never hit the follow button for immediate unfollow',\n",
       " 'teamprincen the option should b mandana n prince instead of digangana n prince',\n",
       " 'harry style your beautiful voice never fails to amaze me i m so excited for the new album mind following me please i love you',\n",
       " 'subdued the current archwitch parentalia http t co gyv ta aic valkyrie crusade',\n",
       " 'i don t have the outfit picked out but i do have my hairstyle picked out',\n",
       " 'i just entered the quality time instant win game amp sweepstakes from landsend http t co gjatpzqirp',\n",
       " 'twitter just changed the live tweeting game forever my primetime outlet http t co psmkk ttne',\n",
       " 'the impudence of rabiu kwakwanso and his fulani brother by ffk written by femi fani kayode read below i http t co cdmmlhzgbe',\n",
       " 'why are most of the dk cover just the same old scene from original dark knight over amp over instead of reflecting the new series content',\n",
       " 'the collection is growing no of course i don t listen to them i just keep em on my wall bc yolo http t co ogeehwgy v',\n",
       " 'a saudi prince is a florida man with money allegedly http t co xyq xtwax',\n",
       " 'but either way we re literally exploiting the poor to produce more vanity',\n",
       " 'when i drive i like to look at my defender in the eye and say and',\n",
       " 'i need you the most',\n",
       " 'so excited for the weekend',\n",
       " 'madeleine this aint the time hope is goin on a journey',\n",
       " 'dnastysack yung teejay i don t get the joke',\n",
       " 'definitely the smell of green and orange on this train that s a fragrance glade hasn t cornered in the market',\n",
       " 'maximize the fun on the akumal beach with kid http t co koc xqihf',\n",
       " 'oh my the thing that regyates had to deal with and hear whilst in russia wa unbelievable that country need to reevaluate their view',\n",
       " 'can it just be the weekend already',\n",
       " 'visited the beautiful normanton church today and decided to test out the double exposure feature on my d http t co teta nmk q',\n",
       " 'the mr g x hotline bling is definitely the best',\n",
       " 'listening to the jojo disney mix to get hype b wdw o',\n",
       " 'kingfisher kban ha added a photo to the pool http t co ipccx zuda',\n",
       " 'emmacmodel hello babygirl i miss you are you going to the prpawards next week x',\n",
       " 'even if the medium doesn t give his campaign a proper coverage they seem to only be concerned with clinton',\n",
       " 'having slight feeling for people you shouldn t is the worst',\n",
       " 'i d cut him some slack give him a chance to redeem himself pay for the meal and be on my way http t co w h loat w',\n",
       " 'to tell you the truth that is an awful lie on number at copper creek golf course in farmington http t co h qthkvui',\n",
       " 'rockyroark it doesn t seem to matter since they select what is featured on the site it all depends on when you promote it via social medium',\n",
       " 'i saw the boy for the second time and it s nearly coming up to that date',\n",
       " 'check out the largest pink diamond to ever be auctioned price tag start at m it s called a rare fancy v http t co njxezxpxey',\n",
       " 'i need help guy which page wa the costume party when mara wa wearing the green emerald dress in mara dyer',\n",
       " 'do all thing through love even if it hurt or seems unfair for in the end love will conquer all',\n",
       " 'you know when you come n see d n you re front row and they don t let you over the white line http t co hubxwwxwx',\n",
       " 'kaijday haha i wouldn t panic sheffield united on the other hand should be quaking in their boot',\n",
       " 'iambella ayo go to the exposure page',\n",
       " 'michaelnorman oh wow keen eye any pic of the product up close interested in his choice haha',\n",
       " 'in my dream the next superhero show is lead by a woman of colour and the flarrow producer have nothing to do with it',\n",
       " 'i hope my mom recorded the new treehouse of horror i also just hope that it s a good one',\n",
       " 'pied wagtail chrispenrice ha added a photo to the pool pied wagtail morecambe bay http t co eqmjvhslyn',\n",
       " 'get off the man dick sheesh http t co yqf lx h',\n",
       " 'the walking dead be having me like how the hell did that when where did those zombie come from',\n",
       " 'a plan to reintroduce blackfish morgan is submitted by the freemorgan foundation http t co whbzsvqpvl http t co dy d mjs',\n",
       " 'never had a bitch or nigga that wa down for the kid that s so straight tho',\n",
       " 'the natural enemy of the robot is hippy',\n",
       " 'i get uncomfortable if more than people in the room shop at whole food and only whole food',\n",
       " 'wa sorely disappointed when i arrived for the great south african bake off and no one even had rizla had to maul on a cake tray tf',\n",
       " 'minhazmerchant there s a palpable improvement in the economy amp no scam at all will strongly disagree with mr shourie here',\n",
       " 'vote so who s right who s wrong who really care the fault the blame the pain s still there',\n",
       " 'vfinch sternshow the show be called howard and friend',\n",
       " 'the may i fix your computer headshot actorslife nycactor headshot http t co b xmffrms',\n",
       " 'where the hell did october go halloween is already this weekend',\n",
       " 'hellooooo from the outsiiiiiiide',\n",
       " 'saturday can t come soon enough can t wait for the rwcfinal to hopefully see the allblacks lift that cup teamallblacks rugbyworldcup',\n",
       " 'i don t mess around with people from the thumb of namibia fuck around and wake up next to a crocodile',\n",
       " 'mcnarnia judecomputer ban the east coast',\n",
       " 'the twin of table mountain and other story by bret harte http t co mmkfe ynd http t co gcebnm cfe',\n",
       " 'there is not enough coffee in the world to make today manageable',\n",
       " 'jacksonkjr okay that s right i wa wondering why if we were the higher seed that we played at home first instead of second',\n",
       " 'blood on the money by future http t co tislg xhj',\n",
       " 'i m hoping the five year sanctioning agreement will help nascar make the schedule more diverse after http t co frpmtnvk',\n",
       " 'some lesson are only delivered in the form of pain',\n",
       " 'selling theta not seeing the day to exp vix weekly yet on tos are you',\n",
       " 'st cathrine s church hamburg the shaft of the tower is the second oldest upstanding building of http t co zxostxgt g',\n",
       " 'money tsa get the fuck out here',\n",
       " 'robertbuckley googlefacts you always have the best answer',\n",
       " 'help me escape the pain',\n",
       " 'the happiness stand http t co hxrijjvy via youtube health soda',\n",
       " 'starting the new episode of the walking dead i m not ready for this not ready',\n",
       " 'i can always count on the pat for earning me a free dunk coffee every monday',\n",
       " 'what the hell thewalkingdead season episode',\n",
       " 'tenacious woolyboy ha added a photo to the pool blue tit photographed at wetland wildlife trust aru http t co m hlsbroh',\n",
       " 'this th grader just mugged me and i wa just sitting on the chair eating',\n",
       " 'goonerificshen it make me uncomfortable knowing that he is an aspiring politician and therefore the future of jamaica',\n",
       " 'when you re still annoyed about the tennant big finish news http t co xbtmneke',\n",
       " 'riotlouism dcyph rayq lol fam like do that to me whilst i m ripping the playstation nation',\n",
       " 't tq nxcgsosfpz great to meet you here is the link to my new song get to know ya http t co mqmmzjnxzt',\n",
       " 'yasirshah ha now taken test wicket the most by a spinner in his first test and the third most by any bowler worldclass pakveng',\n",
       " 'messy bun short short when i pull up http t co zxidddbgqh',\n",
       " 'kellyfury just think you can spoil the crap out of our firstborn pudding may have to wait half a year but still there s a positive',\n",
       " 'bickley marotta how about the card beat the er worse then the seachickens',\n",
       " 'harry style i love you very much and you mean so much to me i can t wait to hear made in the a m i am so so excited x',\n",
       " 'maddyrenda tell her julian is looking for some female',\n",
       " 'so clearly we both have thing that are unfair to each other this is going to be fun and evil at the same time http t co cakhf zpy',\n",
       " 'mistaphill tomleykis cumulusmedia when last trading one medium stock in the green is ticker out outfrontmediaus',\n",
       " 'we all get to the level of feeling fed up thats how i feel',\n",
       " 'the new oracle golden gate cloud service integrates public cloud with private cloud oow fr oow leoff easyblogs',\n",
       " 'negro senpai while i believe adaptation and change is now required in the day and age i don t believe in all out anarchy',\n",
       " 'news pro golfer nail himself in the groin with shot gone horribly wrong video http t co tmbidvhxgl',\n",
       " 'when the hairdresser asks u what product you normally use in your hair but you suspect just saying shampoo is not the acceptable answer',\n",
       " 'cptfussybuckets seriously the struggle is real treatyourfamily',\n",
       " 'another fun question who the fuck business commute to adelaide i m so confused',\n",
       " 'daniel purvis in th on floor paul ruggeri th on vault will draggy bump them from the final',\n",
       " 'can someone send a pic of the ela worksheet',\n",
       " 'mrpr sid nt oh definitely something definitely changed it wa partly the company swallowing their pride and him needing money',\n",
       " 'starling chrispenrice ha added a photo to the pool starling morecambe bay http t co k ezmkjxwd',\n",
       " 'djrdman thats good just keep on trucking slow and steady win the race let me know when you get home sending you a hug just because',\n",
       " 'just announced houston tx dec at the bull s ten man jam http t co kdnvz xjaf',\n",
       " 'chinkichun lool yeah he wa satisfied with the service',\n",
       " 'richardjixon you sir have upset the pfeif god by not replying to my text now im going to the nun plan again',\n",
       " 'i need to make a run to the beauty supply',\n",
       " 'sitting in mcdonald s deciding if i should get food or make the healthy alternative and go home and eat a slice of toast',\n",
       " 'olivianuzzi bpolitics try the veal',\n",
       " 'hi harry style thank you for being so nice you re my fave art but even the best artist couldn t draw you follow me please',\n",
       " ...]"
      ]
     },
     "execution_count": 43,
     "metadata": {},
     "output_type": "execute_result"
    }
   ],
   "source": [
    "text_list"
   ]
  },
  {
   "cell_type": "markdown",
   "metadata": {},
   "source": [
    "### Bag of words"
   ]
  },
  {
   "cell_type": "code",
   "execution_count": 44,
   "metadata": {},
   "outputs": [],
   "source": [
    "from sklearn.feature_extraction.text import CountVectorizer\n",
    "\n",
    "most_used = 5000 # Most used 5000 words\n",
    "cv = CountVectorizer(max_features=most_used,stop_words='english') "
   ]
  },
  {
   "cell_type": "code",
   "execution_count": 45,
   "metadata": {},
   "outputs": [
    {
     "data": {
      "text/plain": [
       "array([[0, 0, 0, ..., 0, 0, 0],\n",
       "       [0, 0, 0, ..., 0, 0, 0],\n",
       "       [0, 0, 0, ..., 0, 0, 0],\n",
       "       ...,\n",
       "       [0, 0, 0, ..., 0, 0, 0],\n",
       "       [0, 0, 0, ..., 0, 0, 0],\n",
       "       [0, 0, 0, ..., 0, 0, 0]], dtype=int64)"
      ]
     },
     "execution_count": 45,
     "metadata": {},
     "output_type": "execute_result"
    }
   ],
   "source": [
    "sparce_matrix = cv.fit_transform(text_list).toarray()\n",
    "sparce_matrix"
   ]
  },
  {
   "cell_type": "code",
   "execution_count": 46,
   "metadata": {
    "scrolled": false
   },
   "outputs": [
    {
     "name": "stdout",
     "output_type": "stream",
     "text": [
      "most frequently used words:['ab', 'abc', 'ability', 'able', 'abortion', 'absolute', 'absolutely', 'abt', 'abuja', 'abuse', 'ac', 'accept', 'acceptable', 'accepted', 'access', 'accident', 'accidentally', 'accomplishment', 'according', 'account', 'accurate', 'accused', 'ace', 'ache', 'acoustic', 'act', 'acting', 'action', 'active', 'activist', 'activity', 'actor', 'actress', 'actual', 'actually', 'ad', 'adam', 'add', 'added', 'addition', 'address', 'adele', 'admiration', 'admire', 'admit', 'adonissuperman', 'adorable', 'adult', 'advance', 'advantage', 'adventure', 'advice', 'af', 'affair', 'affect', 'afford', 'afghanistan', 'afifest', 'afraid', 'africa', 'african', 'afternoon', 'age', 'agency', 'agent', 'ago', 'agree', 'agreed', 'agreement', 'ah', 'ahead', 'ahh', 'aid', 'ain', 'aint', 'air', 'airport', 'ak', 'aka', 'al', 'alan', 'alarm', 'album', 'alcohol', 'aldubpredictions', 'alert', 'alex', 'alexis', 'ali', 'alicia', 'alien', 'alison', 'alive', 'allah', 'allblacks', 'allen', 'allergy', 'alliance', 'allie', 'allow', 'allowed', 'allowing', 'ally', 'aloe', 'alongside', 'alot', 'alpha', 'alright', 'alternative', 'amanda', 'amara', 'amas', 'amateur', 'amaze', 'amazing', 'amazon', 'ambassador', 'amber', 'ambiguity', 'amen', 'amendment', 'america', 'american', 'amp', 'amy', 'analysis', 'anatomy', 'anc', 'ancient', 'andre', 'andrew', 'android', 'angel', 'anger', 'angle', 'angry', 'animal', 'animated', 'anime', 'anna', 'anniversary', 'announce', 'announced', 'announcement', 'annoyed', 'annoying', 'annual', 'answer', 'answered', 'anti', 'anxiety', 'anybody', 'anymore', 'anyways', 'ao', 'ap', 'apart', 'apartment', 'apology', 'app', 'apparently', 'appear', 'appearance', 'apple', 'application', 'applied', 'apply', 'appointment', 'appreciate', 'appreciated', 'approach', 'approve', 'apps', 'apush', 'ar', 'arab', 'arc', 'architecture', 'area', 'aren', 'arena', 'argue', 'arguing', 'argument', 'argyle', 'arianagrande', 'aristotle', 'arm', 'army', 'arrested', 'arrival', 'arrived', 'arsenal', 'art', 'article', 'artist', 'artistoftheyear', 'asap', 'asf', 'ash', 'ashamed', 'ashleymadison', 'ashton', 'asia', 'asian', 'ask', 'asked', 'asking', 'asks', 'asleep', 'aspect', 'ass', 'assembly', 'assessment', 'asshole', 'assignment', 'assume', 'assuming', 'ate', 'athlete', 'atlanta', 'atleast', 'atmosphere', 'attached', 'attack', 'attacked', 'attempt', 'attempting', 'attend', 'attending', 'attention', 'attitude', 'attractive', 'au', 'auction', 'auctioned', 'audrey', 'august', 'austin', 'australia', 'australian', 'author', 'authority', 'auto', 'automatically', 'autumn', 'av', 'available', 'average', 'avi', 'avoid', 'aw', 'awake', 'award', 'awareness', 'away', 'awesome', 'awful', 'awhile', 'awkward', 'aww', 'ax', 'aye', 'az', 'babe', 'baby', 'bachelor', 'background', 'backpack', 'backstage', 'backwards', 'bacon', 'bad', 'badass', 'baddie', 'badge', 'badly', 'bae', 'bag', 'baileemadison', 'bait', 'baker', 'baking', 'balance', 'ball', 'ballet', 'bam', 'ban', 'banana', 'bancodeseries', 'band', 'bang', 'banjo', 'bank', 'banking', 'banned', 'bar', 'barber', 'barca', 'barely', 'barlow', 'baron', 'baroness', 'base', 'based', 'basement', 'basic', 'basically', 'basis', 'basketball', 'bath', 'bathroom', 'batman', 'battery', 'battle', 'bay', 'baylor', 'bb', 'bbc', 'bbclaurak', 'bbcnews', 'bbq', 'bc', 'bd', 'bday', 'beach', 'bean', 'bear', 'beard', 'beast', 'beat', 'beating', 'beautiful', 'beauty', 'bed', 'bedroom', 'bee', 'beef', 'beer', 'beetlejuice', 'began', 'begin', 'beginning', 'belief', 'believe', 'bell', 'belly', 'ben', 'benefit', 'benghazi', 'benjamin', 'bernie', 'best', 'bestfriend', 'bestfriends', 'bet', 'better', 'beyonc', 'bf', 'bfbexh', 'bff', 'bi', 'bias', 'bible', 'bieber', 'big', 'bigger', 'biggest', 'biglari', 'bike', 'billion', 'bin', 'binge', 'bingo', 'biology', 'bird', 'birthday', 'bishop', 'bispak', 'bit', 'bitch', 'bitcoin', 'bite', 'bitter', 'bizarre', 'bk', 'black', 'blade', 'blair', 'blame', 'blanket', 'blast', 'bleeding', 'bless', 'blessed', 'blessing', 'blew', 'blind', 'bling', 'blink', 'block', 'blocked', 'blog', 'blogging', 'blond', 'blonde', 'blood', 'bloody', 'blow', 'blowing', 'blue', 'blunt', 'blushing', 'bm', 'bn', 'bo', 'board', 'boat', 'bob', 'bobby', 'body', 'boil', 'bokep', 'boko', 'bomb', 'bond', 'bone', 'bonus', 'boo', 'boob', 'book', 'booked', 'booking', 'boom', 'booster', 'boot', 'booth', 'booty', 'booze', 'bored', 'boredom', 'boring', 'born', 'bos', 'boston', 'bot', 'bother', 'bothered', 'bottle', 'bought', 'bout', 'bow', 'bowl', 'bowles', 'box', 'boy', 'boyfriend', 'bra', 'brad', 'bradford', 'brady', 'brag', 'brain', 'bran', 'brand', 'brandon', 'brat', 'brave', 'brazil', 'bread', 'break', 'breakfast', 'breaking', 'breath', 'breathe', 'breed', 'brian', 'brick', 'bride', 'bridge', 'bright', 'brilliant', 'bring', 'bringing', 'brings', 'british', 'bro', 'brock', 'broke', 'broken', 'brooklyn', 'brother', 'brotherhood', 'brought', 'brow', 'brown', 'bruh', 'brunch', 'brush', 'bryant', 'bt', 'btw', 'bu', 'bubble', 'buddy', 'budget', 'buffalo', 'buffy', 'bug', 'buggy', 'bugil', 'build', 'building', 'built', 'bull', 'bullshit', 'bum', 'bummed', 'bump', 'bumpin', 'bun', 'bunch', 'bundle', 'bunny', 'burger', 'burn', 'burned', 'burnt', 'burrito', 'bus', 'bush', 'business', 'bust', 'busty', 'bustyfriends', 'busy', 'butt', 'butter', 'butterfly', 'button', 'butwemaystill', 'buy', 'buying', 'buzzfeed', 'bv', 'bw', 'bye', 'bz', 'ca', 'cable', 'cafe', 'cage', 'caitlyn', 'cake', 'caleb', 'calendar', 'cali', 'california', 'called', 'caller', 'calling', 'callum', 'calm', 'calum', 'cam', 'cambridge', 'camcorder', 'came', 'camera', 'cameron', 'camerondallas', 'camgirl', 'campaign', 'campbel', 'campbell', 'campus', 'canada', 'canadian', 'cancel', 'cancelled', 'cancer', 'candid', 'candidate', 'candle', 'candy', 'canvas', 'canyon', 'cap', 'capacity', 'capital', 'captain', 'caption', 'capture', 'car', 'carcinogenic', 'card', 'care', 'cared', 'career', 'careful', 'caring', 'carlos', 'carol', 'carpet', 'carry', 'carson', 'cartoon', 'carving', 'case', 'casey', 'cash', 'caspar', 'cast', 'casual', 'cat', 'catch', 'catching', 'caught', 'cause', 'caused', 'causing', 'cavs', 'cb', 'cbs', 'cc', 'cd', 'cdc', 'cdnpoli', 'ce', 'celebrate', 'celebrated', 'celebrating', 'celebration', 'celebrity', 'cell', 'center', 'central', 'centre', 'century', 'ceo', 'cereal', 'certain', 'certainly', 'cf', 'cg', 'ch', 'chain', 'chair', 'challenge', 'challenging', 'chamber', 'champ', 'champagne', 'champion', 'championship', 'chance', 'change', 'changed', 'changing', 'channel', 'chaos', 'chapter', 'character', 'charge', 'charged', 'charger', 'charging', 'charity', 'charlie', 'charlotte', 'chart', 'chase', 'chasing', 'chat', 'cheap', 'cheaper', 'cheat', 'cheated', 'check', 'checked', 'checking', 'checkout', 'cheek', 'cheer', 'cheese', 'cheesy', 'chef', 'chelsea', 'chem', 'chemical', 'chemistry', 'chest', 'chew', 'chi', 'chicago', 'chick', 'chicken', 'chief', 'child', 'childhood', 'childish', 'chili', 'chill', 'chilli', 'chilling', 'china', 'chinese', 'chip', 'chloe', 'chocolate', 'choice', 'choked', 'choose', 'chop', 'chore', 'chose', 'chosen', 'chris', 'christ', 'christian', 'christie', 'christina', 'christmas', 'christy', 'church', 'chy', 'chyna', 'ci', 'ciara', 'cigarette', 'cinema', 'circle', 'cisco', 'city', 'civil', 'cj', 'ck', 'cl', 'claim', 'claiming', 'clara', 'clark', 'class', 'classic', 'classmate', 'classy', 'clean', 'clear', 'clearly', 'click', 'client', 'clifford', 'climate', 'clinton', 'clip', 'clock', 'close', 'closed', 'closely', 'closer', 'closet', 'closing', 'clothes', 'clothing', 'cloud', 'club', 'clue', 'cm', 'cnn', 'coach', 'coast', 'coat', 'cock', 'cocktail', 'code', 'coffee', 'coincidence', 'coke', 'cold', 'cole', 'collab', 'collaboration', 'collect', 'collection', 'college', 'color', 'colour', 'colt', 'columbia', 'column', 'com', 'combined', 'combo', 'come', 'comedy', 'comfortable', 'comic', 'coming', 'command', 'comment', 'commercial', 'commit', 'commitment', 'committee', 'common', 'communication', 'community', 'commute', 'como', 'company', 'compare', 'compared', 'comparing', 'comparison', 'compelled', 'competition', 'competitive', 'complain', 'complaining', 'complete', 'completely', 'complex', 'complicated', 'compliment', 'computer', 'concept', 'concern', 'concerned', 'concert', 'condition', 'condom', 'conference', 'confidence', 'confident', 'conflict', 'confused', 'confusing', 'congrats', 'congratulation', 'congress', 'connect', 'connected', 'connection', 'consent', 'consider', 'considered', 'consistently', 'constant', 'constantly', 'contact', 'content', 'contest', 'context', 'continue', 'continues', 'contract', 'control', 'controlled', 'convenient', 'conversation', 'conversion', 'convince', 'convinced', 'convo', 'cook', 'cooked', 'cookie', 'cooking', 'cooky', 'cool', 'coolest', 'cooper', 'cop', 'cope', 'copy', 'corbin', 'core', 'corey', 'corn', 'corner', 'corporate', 'correct', 'corrie', 'corruption', 'corset', 'cosplay', 'cost', 'costume', 'cottage', 'cotton', 'couch', 'cough', 'couldn', 'council', 'count', 'countdown', 'counted', 'counter', 'counting', 'country', 'county', 'couple', 'coupon', 'courage', 'course', 'court', 'courtesy', 'cousin', 'cover', 'coverage', 'covered', 'cow', 'cowboy', 'coworker', 'coworkers', 'coz', 'crack', 'cracked', 'cracker', 'cracking', 'craft', 'craig', 'crap', 'crappy', 'crash', 'craving', 'crawl', 'craziest', 'crazy', 'cre', 'cream', 'create', 'created', 'creating', 'creative', 'creativity', 'creature', 'credit', 'creep', 'creepy', 'crew', 'cricket', 'cried', 'crime', 'criminal', 'crisis', 'crisp', 'critic', 'critical', 'criticism', 'crochet', 'crop', 'cross', 'crossed', 'crowd', 'crown', 'crucial', 'cruel', 'cruise', 'crunching', 'crush', 'crushed', 'cruz', 'cu', 'cub', 'cuddle', 'cultural', 'culture', 'cunt', 'cup', 'cupcake', 'cure', 'curious', 'curl', 'current', 'currently', 'curse', 'custom', 'customer', 'cut', 'cute', 'cuter', 'cutest', 'cutie', 'cuz', 'cw', 'cx', 'cyber', 'cybersecurity', 'cycle', 'cywjsz', 'cz', 'da', 'dab', 'dad', 'daddy', 'daftlimmy', 'daily', 'dallas', 'dallasxford', 'damage', 'damn', 'dan', 'dance', 'danced', 'dancer', 'dancing', 'danger', 'dangerous', 'dani', 'daniel', 'dare', 'dark', 'darkness', 'darling', 'daryl', 'dashboard', 'dat', 'data', 'date', 'dating', 'daughter', 'dave', 'david', 'davido', 'dawg', 'day', 'daytime', 'db', 'dc', 'dd', 'dead', 'deadly', 'deaf', 'deal', 'dealing', 'dean', 'dear', 'death', 'debate', 'debating', 'debbie', 'debt', 'debut', 'dec', 'decade', 'december', 'decent', 'decide', 'decided', 'decides', 'decision', 'deck', 'decline', 'decor', 'decorateyourhome', 'dedicated', 'dedication', 'dee', 'deep', 'deeply', 'deer', 'def', 'defeat', 'defence', 'defend', 'defender', 'defense', 'definitely', 'definition', 'degree', 'delay', 'delayed', 'delete', 'deleted', 'delicious', 'deliver', 'delivery', 'demand', 'demanding', 'demi', 'demigod', 'demo', 'democracy', 'demon', 'dems', 'dentist', 'denver', 'deny', 'deo', 'department', 'depends', 'depressed', 'depressing', 'depression', 'dept', 'depth', 'der', 'derby', 'derek', 'described', 'describing', 'desert', 'deserve', 'deserves', 'deserving', 'design', 'designed', 'designer', 'designing', 'desk', 'desperate', 'desperation', 'despite', 'destiny', 'destroy', 'destroyed', 'detailed', 'detective', 'develop', 'developing', 'development', 'device', 'devil', 'dey', 'dez', 'df', 'dfs', 'di', 'diabetes', 'diamond', 'diane', 'dick', 'did', 'didn', 'didnt', 'die', 'died', 'diego', 'diet', 'diff', 'difference', 'different', 'difficult', 'dig', 'digging', 'digital', 'dinner', 'dinosaur', 'dip', 'dire', 'direct', 'direction', 'director', 'dirt', 'dirty', 'dis', 'disagree', 'disappointed', 'disappointment', 'disaster', 'discipline', 'disco', 'discount', 'discover', 'discovered', 'discovery', 'discus', 'discussing', 'discussion', 'disease', 'disgusting', 'dish', 'disick', 'dislike', 'disney', 'display', 'disrespectful', 'distance', 'district', 'ditch', 'ditto', 'diverse', 'diversity', 'divine', 'division', 'divorce', 'diy', 'dizzy', 'dj', 'dk', 'dm', 'dn', 'dna', 'doc', 'doctor', 'document', 'documentary', 'dodgy', 'doe', 'doesn', 'dog', 'doing', 'dollar', 'dolphin', 'dolphineret', 'domain', 'domestic', 'dominating', 'domino', 'don', 'donald', 'donate', 'dont', 'doodle', 'door', 'dope', 'dorm', 'dorsethour', 'dot', 'double', 'doubt', 'doubting', 'douche', 'download', 'downloads', 'dozen', 'dq', 'dr', 'draft', 'drag', 'dragon', 'drake', 'drama', 'dramatic', 'draw', 'drawing', 'dread', 'dream', 'dress', 'dressed', 'dressing', 'drew', 'dried', 'drink', 'drinking', 'drive', 'driver', 'driving', 'drop', 'dropped', 'dropping', 'drove', 'drowning', 'drr', 'drug', 'drunk', 'dry', 'dt', 'du', 'dubai', 'dublin', 'duck', 'dude', 'duh', 'duke', 'dum', 'dumb', 'dumbass', 'dumbest', 'dumped', 'dumpster', 'dungeon', 'dunno', 'duo', 'dust', 'dutch', 'duty', 'dv', 'dvd', 'dwts', 'dy', 'dye', 'dyed', 'dying', 'dz', 'ea', 'eagerly', 'eagle', 'ear', 'earlier', 'earliest', 'early', 'earned', 'earning', 'earnings', 'earth', 'earthquake', 'ease', 'easier', 'easily', 'east', 'eastenders', 'eastern', 'easy', 'eat', 'eaten', 'eating', 'eats', 'ebay', 'echo', 'eclipse', 'economic', 'economy', 'ed', 'eddie', 'edge', 'edinburgh', 'edit', 'editing', 'edition', 'edm', 'education', 'edward', 'ee', 'effect', 'effective', 'effort', 'efx', 'egg', 'ego', 'eh', 'ej', 'ek', 'el', 'elected', 'election', 'electricity', 'elementary', 'elevator', 'elf', 'eliminate', 'elite', 'ella', 'em', 'email', 'emas', 'embrace', 'emily', 'emilycanham', 'eminem', 'emma', 'emo', 'emoji', 'emojis', 'emotion', 'emotional', 'emotionally', 'empire', 'employee', 'employment', 'empower', 'en', 'encounter', 'encourage', 'end', 'ended', 'ending', 'endlessly', 'endorsement', 'enemy', 'energy', 'engage', 'engaged', 'engagement', 'engaging', 'engineer', 'england', 'english', 'enjoy', 'enjoyable', 'enjoyed', 'enjoying', 'enlightenment', 'enter', 'entered', 'enterprise', 'entertainment', 'entire', 'entitled', 'entrepreneur', 'entry', 'ep', 'epic', 'episode', 'eq', 'equal', 'er', 'era', 'eric', 'erica', 'erogwtftyo', 'error', 'escape', 'esp', 'especially', 'espn', 'essay', 'essential', 'established', 'establishment', 'esteem', 'et', 'eternal', 'ethnic', 'etsy', 'eu', 'europe', 'european', 'evaluate', 'evans', 'eve', 'evening', 'event', 'eventually', 'everybody', 'everyday', 'everydaydayiloveyou', 'everydayiloveyou', 'everytime', 'evidence', 'evil', 'ew', 'ex', 'exact', 'exactly', 'exam', 'example', 'excellent', 'exception', 'excited', 'excitement', 'exciting', 'exclusive', 'excuse', 'exercise', 'exeter', 'exhausted', 'exist', 'existence', 'exit', 'expansion', 'expect', 'expectation', 'expected', 'expecting', 'expects', 'expense', 'expensive', 'experience', 'expert', 'explain', 'explaining', 'explanation', 'exploded', 'exposed', 'exposure', 'express', 'extended', 'extra', 'extraordinary', 'extremely', 'ey', 'eye', 'eyebrow', 'eyeliner', 'ez', 'fa', 'fab', 'fabric', 'fabulous', 'face', 'facebook', 'facial', 'fact', 'factor', 'faculty', 'facup', 'fade', 'faded', 'faggot', 'fail', 'failed', 'failing', 'fails', 'failure', 'faint', 'fair', 'fairy', 'faith', 'fake', 'falive', 'fall', 'falling', 'fallout', 'false', 'fam', 'fame', 'family', 'famous', 'fan', 'fanart', 'fancy', 'fandom', 'fani', 'fantastic', 'fantasy', 'far', 'farm', 'farmer', 'fascinating', 'fashion', 'fast', 'faster', 'fat', 'fatal', 'father', 'fault', 'fav', 'fave', 'faves', 'favor', 'favorite', 'favourite', 'fb', 'fbloggers', 'fc', 'fear', 'feat', 'feature', 'featured', 'fed', 'federal', 'fee', 'feed', 'feedback', 'feel', 'feelin', 'feeling', 'fell', 'felt', 'female', 'femi', 'feminism', 'feminist', 'ferg', 'fest', 'festival', 'ff', 'ffk', 'ffs', 'fi', 'fic', 'fiction', 'field', 'fifa', 'fight', 'fighter', 'fighting', 'figure', 'figured', 'file', 'filled', 'film', 'filter', 'final', 'finale', 'finally', 'finance', 'financial', 'finding', 'fine', 'finger', 'finish', 'finished', 'finishing', 'finna', 'fir', 'fired', 'firework', 'fish', 'fit', 'fitness', 'fitting', 'fix', 'fixed', 'fixing', 'fj', 'fl', 'flag', 'flame', 'flannel', 'flash', 'flat', 'flawless', 'fleet', 'flesh', 'flexible', 'flick', 'flight', 'flip', 'floating', 'floor', 'flop', 'florida', 'flow', 'flower', 'flu', 'fly', 'flyer', 'flying', 'fm', 'fml', 'fn', 'fo', 'focus', 'focused', 'focusing', 'folk', 'follow', 'followed', 'follower', 'following', 'follows', 'food', 'fool', 'foot', 'football', 'forbes', 'force', 'ford', 'forest', 'forever', 'forevermore', 'forex', 'forget', 'forgetting', 'forgive', 'forgot', 'forgotten', 'form', 'format', 'formula', 'forth', 'forward', 'foster', 'foto', 'fought', 'foundation', 'fountain', 'fox', 'fp', 'fq', 'fr', 'frame', 'france', 'franchise', 'frank', 'franklin', 'fraud', 'freak', 'freaking', 'free', 'freedom', 'freezer', 'freezing', 'french', 'fresh', 'freshman', 'friday', 'fridge', 'friend', 'friendly', 'friendship', 'fringe', 'frozen', 'fruit', 'frustrated', 'frustrating', 'fry', 'ft', 'fu', 'fuck', 'fucked', 'fuckin', 'fucking', 'fuckyou', 'fud', 'fulani', 'fully', 'fumble', 'fun', 'function', 'functional', 'fund', 'funding', 'funeral', 'funk', 'funniest', 'funny', 'future', 'futurenow', 'fx', 'fy', 'ga', 'gag', 'gaga', 'gaiman', 'gain', 'gained', 'gal', 'gala', 'galaxy', 'gallery', 'gamble', 'game', 'gameinsight', 'gaming', 'ganar', 'gap', 'garage', 'garbage', 'garden', 'gary', 'gas', 'gate', 'gather', 'gave', 'gavin', 'gay', 'gb', 'gc', 'gcpr', 'gd', 'ge', 'gear', 'gee', 'gem', 'gen', 'gender', 'general', 'generation', 'genius', 'genre', 'gentleman', 'gently', 'genuine', 'genuinely', 'george', 'german', 'germany', 'gesture', 'gettin', 'getting', 'gf', 'gg', 'gh', 'ghost', 'gi', 'giant', 'gif', 'gift', 'gig', 'giggle', 'gimmick', 'gin', 'girl', 'girlfriend', 'giveaway', 'given', 'giving', 'gl', 'glad', 'glass', 'glen', 'glenn', 'global', 'glow', 'gluten', 'gm', 'gn', 'goal', 'goat', 'god', 'goddamn', 'goddess', 'goin', 'going', 'gold', 'golden', 'goldfish', 'golf', 'gon', 'gone', 'good', 'goodbye', 'goodvibes', 'google', 'goose', 'gop', 'gorgeous', 'gosh', 'gospel', 'gossip', 'got', 'gotham', 'gotten', 'gourmet', 'gov', 'government', 'govt', 'gown', 'gp', 'gpa', 'gq', 'gr', 'grab', 'grabbing', 'grace', 'grade', 'grader', 'graduate', 'grammy', 'grand', 'grandad', 'grandma', 'grandpa', 'granger', 'grant', 'grape', 'graph', 'graphic', 'grass', 'grateful', 'gratitude', 'gray', 'great', 'greater', 'greatest', 'greatness', 'greed', 'greek', 'green', 'greet', 'greg', 'grew', 'grey', 'grief', 'grime', 'grimezsz', 'grocery', 'groom', 'gross', 'ground', 'group', 'grow', 'growing', 'grown', 'growth', 'gsi', 'gt', 'gta', 'gu', 'guarantee', 'guard', 'guardian', 'gucci', 'guess', 'guessed', 'guessing', 'guest', 'guide', 'guilty', 'guitar', 'gun', 'gunit', 'gunna', 'guy', 'gw', 'gym', 'ha', 'hack', 'hacker', 'hacking', 'haha', 'hahaha', 'hahahaha', 'hai', 'hair', 'haircut', 'half', 'halfway', 'hall', 'hallmark', 'halloween', 'hallway', 'halo', 'halsey', 'ham', 'hamilton', 'hammer', 'hand', 'handed', 'handle', 'handled', 'handsome', 'handy', 'hang', 'hanging', 'hangout', 'hangover', 'hanna', 'hannah', 'happen', 'happened', 'happening', 'happens', 'happier', 'happiest', 'happily', 'happiness', 'happy', 'happymonday', 'harbor', 'hard', 'hardcore', 'harder', 'hardest', 'hardly', 'hardy', 'harley', 'harm', 'harris', 'harrison', 'harry', 'hashtag', 'hasn', 'hat', 'hate', 'hated', 'hater', 'hating', 'hatred', 'haul', 'haunted', 'haven', 'havent', 'having', 'hbd', 'hc', 'hchat', 'hd', 'head', 'headache', 'headed', 'header', 'headline', 'headphone', 'headshot', 'heal', 'healing', 'health', 'healthy', 'hear', 'heard', 'hearing', 'heart', 'heat', 'heath', 'heaven', 'heavily', 'heavy', 'hebrew', 'heck', 'heel', 'heh', 'hehe', 'height', 'held', 'hell', 'hella', 'hello', 'help', 'helped', 'helpful', 'helping', 'henderson', 'herb', 'hero', 'heroine', 'hey', 'hf', 'hi', 'hiac', 'hick', 'hide', 'high', 'higher', 'highlight', 'hii', 'hike', 'hilarious', 'hill', 'hillary', 'hillaryclinton', 'hilton', 'hint', 'hip', 'hire', 'hiring', 'history', 'hit', 'hitman', 'hj', 'hk', 'hl', 'hmm', 'hmu', 'ho', 'hockey', 'hoe', 'hold', 'holder', 'holding', 'hole', 'holiday', 'hologram', 'holy', 'home', 'homecoming', 'homeless', 'homework', 'homie', 'homies', 'homosexual', 'honest', 'honestly', 'honesty', 'honey', 'honor', 'hood', 'hook', 'hooked', 'hoop', 'hop', 'hope', 'hopefully', 'hoping', 'horizon', 'hormone', 'horn', 'horny', 'horrible', 'horror', 'horse', 'hospital', 'host', 'hosted', 'hot', 'hotel', 'hotline', 'hottest', 'hottie', 'hotties', 'hour', 'house', 'housing', 'houston', 'hover', 'hp', 'hq', 'hr', 'hrtechconf', 'http', 'hub', 'hug', 'huge', 'hugged', 'huh', 'hum', 'human', 'humble', 'humor', 'hun', 'hung', 'hunger', 'hungry', 'hunt', 'hunter', 'hunting', 'hurry', 'hurt', 'husband', 'hv', 'hw', 'hy', 'hype', 'hyped', 'ian', 'ib', 'ibm', 'ibminsight', 'ice', 'icon', 'icymi', 'id', 'idc', 'idea', 'ideal', 'identity', 'idgaf', 'idiot', 'idk', 'idol', 'ifs', 'igbo', 'ignorant', 'ignore', 'ignored', 'ignoring', 'ii', 'ik', 'ill', 'illegal', 'illinois', 'illness', 'illusion', 'ily', 'im', 'ima', 'image', 'imagine', 'imma', 'immediately', 'imo', 'impact', 'important', 'impossible', 'impressed', 'impression', 'impressive', 'improvement', 'impudence', 'inch', 'include', 'included', 'includes', 'including', 'income', 'increase', 'incredible', 'independent', 'india', 'indian', 'indiana', 'indie', 'individual', 'industry', 'influence', 'info', 'information', 'injured', 'injury', 'inner', 'innocent', 'innovation', 'insane', 'insecure', 'insert', 'inside', 'insight', 'inspiration', 'inspirational', 'inspire', 'inspired', 'inspiring', 'instagram', 'instant', 'instantly', 'instead', 'institution', 'integration', 'intelligent', 'intended', 'intense', 'intent', 'interaction', 'interested', 'interesting', 'international', 'internet', 'interval', 'interview', 'interviewer', 'interviewing', 'intro', 'introduced', 'invest', 'investing', 'investor', 'invisible', 'invite', 'invited', 'involved', 'io', 'ion', 'iowa', 'ipad', 'iphone', 'ipo', 'ipod', 'iq', 'ir', 'iran', 'iraq', 'irish', 'iron', 'ish', 'isi', 'islam', 'island', 'isn', 'isnt', 'israel', 'issue', 'issued', 'isupk', 'italian', 'italy', 'item', 'itsleehinchy', 'itunes', 'itv', 'iu', 'iv', 'ive', 'ix', 'ja', 'jace', 'jack', 'jacket', 'jail', 'jake', 'jakeboys', 'jam', 'james', 'jameson', 'japan', 'japanese', 'jared', 'jason', 'jaw', 'jay', 'jaymohr', 'jaymohrsports', 'jc', 'jd', 'je', 'jealous', 'jealousy', 'jean', 'jeb', 'jeff', 'jem', 'jenner', 'jensen', 'jeremy', 'jerry', 'jersey', 'jerusalem', 'jess', 'jessica', 'jesus', 'jet', 'jew', 'jewish', 'jg', 'jim', 'jingle', 'jk', 'jl', 'jm', 'jo', 'job', 'joe', 'joey', 'john', 'johnny', 'johnson', 'join', 'joined', 'joint', 'joke', 'joker', 'joking', 'jonathan', 'jones', 'jordan', 'jordyn', 'jose', 'josh', 'journal', 'journalism', 'journalist', 'journey', 'joy', 'jp', 'jpy', 'jr', 'judge', 'judging', 'juice', 'julia', 'julian', 'jump', 'jumper', 'jumping', 'junior', 'junk', 'jus', 'just', 'justin', 'justinbieber', 'jw', 'ka', 'kane', 'kansa', 'kanye', 'kardashian', 'karma', 'kat', 'kate', 'katie', 'katy', 'kayode', 'kc', 'kd', 'kdugdalemsp', 'ke', 'keeping', 'keerq', 'kelly', 'kelty', 'ken', 'kendrick', 'kenny', 'kent', 'kenya', 'kept', 'kevin', 'key', 'keyboard', 'kh', 'khamenei', 'khan', 'khosla', 'ki', 'kick', 'kicked', 'kicking', 'kid', 'kidding', 'kill', 'killed', 'killer', 'killing', 'kim', 'kind', 'kinda', 'kindle', 'kindness', 'king', 'kingdom', 'kiss', 'kissed', 'kit', 'kitchen', 'kitten', 'kitty', 'kj', 'km', 'kn', 'knee', 'knew', 'knife', 'knight', 'knock', 'knocked', 'knocking', 'knot', 'know', 'knowing', 'knowledge', 'known', 'ko', 'kobe', 'koc', 'kourtney', 'kp', 'kpop', 'kq', 'kris', 'krusherkovalev', 'kurt', 'kv', 'kwakwanso', 'ky', 'kyle', 'kylie', 'kz', 'la', 'lab', 'label', 'labor', 'labour', 'lace', 'lack', 'lad', 'ladder', 'lady', 'lagos', 'lair', 'lake', 'lamar', 'lame', 'land', 'lane', 'language', 'lantern', 'lap', 'laptop', 'large', 'larger', 'largest', 'larry', 'lash', 'late', 'lately', 'later', 'latest', 'latin', 'latte', 'laugh', 'laughable', 'laughed', 'laughing', 'laughter', 'launch', 'launching', 'laundry', 'laura', 'lauren', 'law', 'lawmaker', 'lawyer', 'lay', 'layer', 'laying', 'layout', 'lazy', 'lb', 'ld', 'le', 'lead', 'leader', 'leadership', 'leading', 'leaf', 'league', 'leak', 'lean', 'learn', 'learned', 'learning', 'lease', 'leather', 'leave', 'leaving', 'lecture', 'led', 'lee', 'leeds', 'leesqanda', 'left', 'leftover', 'leg', 'legacy', 'legal', 'legend', 'legendary', 'legislation', 'legit', 'lego', 'leigh', 'lem', 'lemon', 'length', 'lesnar', 'lesson', 'let', 'leto', 'letter', 'letting', 'level', 'lewis', 'lexi', 'lf', 'lfc', 'lg', 'lgbt', 'li', 'liam', 'liar', 'liberal', 'liberty', 'library', 'license', 'lick', 'lie', 'lied', 'life', 'lifehacker', 'lifeisstrange', 'lifestyle', 'lifetime', 'lift', 'light', 'lighter', 'lighting', 'lightning', 'like', 'liked', 'likely', 'liking', 'lil', 'lily', 'limit', 'limited', 'line', 'lingerie', 'link', 'lion', 'lip', 'lipstick', 'liquor', 'list', 'listed', 'listen', 'listened', 'listening', 'lit', 'literally', 'little', 'live', 'lived', 'liverpool', 'living', 'liz', 'lk', 'll', 'lm', 'lmao', 'lmfao', 'lo', 'load', 'loan', 'local', 'location', 'lock', 'locked', 'log', 'logo', 'lol', 'lolol', 'london', 'lonely', 'long', 'longer', 'longest', 'look', 'looked', 'looking', 'loool', 'loose', 'loosing', 'lord', 'los', 'lose', 'loser', 'loses', 'losing', 'loss', 'lost', 'lot', 'lottery', 'lottie', 'lottietommo', 'loud', 'louder', 'louis', 'lounge', 'lousy', 'love', 'loved', 'lovely', 'lover', 'lovin', 'loving', 'low', 'lower', 'lowest', 'lowkey', 'loyal', 'lp', 'lt', 'lu', 'lucas', 'luck', 'luckily', 'lucky', 'lucy', 'luke', 'lunar', 'lunch', 'lung', 'lush', 'lust', 'luv', 'lying', 'lyric', 'lz', 'ma', 'mac', 'machine', 'mad', 'maddie', 'madhurima', 'madison', 'madisonellebeer', 'madness', 'magazine', 'magic', 'magical', 'mail', 'mailman', 'main', 'mainstream', 'maintenance', 'majella', 'major', 'majority', 'make', 'maker', 'makeup', 'making', 'male', 'malik', 'mall', 'mama', 'man', 'managed', 'management', 'manager', 'managing', 'manchester', 'mane', 'manga', 'mansfield', 'map', 'mar', 'marc', 'march', 'margarita', 'marie', 'marine', 'mark', 'market', 'marketer', 'marketing', 'marquei', 'marriage', 'married', 'marry', 'martin', 'mary', 'mash', 'mask', 'mass', 'massage', 'massive', 'master', 'mata', 'match', 'mate', 'material', 'math', 'mathieu', 'matt', 'matter', 'matthew', 'max', 'maybe', 'mb', 'mc', 'mccann', 'mcdonald', 'mcm', 'md', 'meacher', 'meal', 'mean', 'meaning', 'meant', 'meat', 'medicine', 'medium', 'meek', 'meet', 'meeting', 'meh', 'member', 'meme', 'memek', 'memory', 'men', 'mental', 'mentally', 'mention', 'mentioned', 'menu', 'meow', 'merely', 'mess', 'message', 'met', 'metal', 'method', 'mets', 'mf', 'mg', 'mh', 'mi', 'mic', 'michael', 'michelledbeadle', 'michigan', 'microsoft', 'microwave', 'mid', 'middle', 'middlesbrough', 'midnight', 'midterm', 'migrant', 'mike', 'mikey', 'mild', 'mile', 'milf', 'military', 'milk', 'milkshake', 'miller', 'million', 'min', 'minaj', 'mind', 'minded', 'mindset', 'mini', 'minimum', 'ministry', 'minor', 'minute', 'miracle', 'mirror', 'miserable', 'misery', 'miss', 'missed', 'missing', 'mission', 'mississippi', 'mistake', 'misunderstanding', 'mix', 'mixed', 'mixtape', 'mj', 'mk', 'ml', 'mm', 'mmmm', 'mo', 'mobile', 'mode', 'model', 'modern', 'molly', 'mom', 'moment', 'momma', 'mon', 'monday', 'mondaymotivation', 'money', 'monica', 'monkey', 'monster', 'month', 'monty', 'mood', 'moon', 'moral', 'morgan', 'morning', 'mother', 'motion', 'motivation', 'mountain', 'mourinho', 'mouse', 'mouth', 'moved', 'movement', 'movie', 'moving', 'mp', 'mph', 'mr', 'msg', 'msnbc', 'mt', 'mtv', 'mtvema', 'mu', 'multi', 'multiplayer', 'multiple', 'mum', 'murder', 'murphy', 'muscle', 'museum', 'music', 'musical', 'musicmonday', 'muslim', 'mustang', 'mutual', 'mv', 'mvp', 'mw', 'myers', 'mystery', 'na', 'nah', 'nail', 'naked', 'named', 'nan', 'nap', 'nascar', 'nasty', 'nation', 'national', 'natural', 'nature', 'navy', 'nb', 'nba', 'nc', 'nd', 'near', 'nearly', 'necessarily', 'necessary', 'neck', 'necklace', 'need', 'needed', 'needle', 'negative', 'negativity', 'negro', 'neighbor', 'neighborhood', 'neighbourhood', 'neil', 'nerve', 'nest', 'net', 'netflix', 'network', 'new', 'newcastle', 'newest', 'news', 'newyork', 'nexus', 'nf', 'nfl', 'ng', 'ngentot', 'ngl', 'nh', 'niall', 'niallofficial', 'nice', 'nicest', 'nick', 'nicki', 'nickiminaj', 'nicole', 'niece', 'nigel', 'nigelrefowens', 'nigeria', 'nigerian', 'nigga', 'night', 'nightmare', 'nike', 'nikki', 'ninja', 'nipple', 'nk', 'nl', 'nm', 'nn', 'noah', 'nod', 'noise', 'non', 'nonsense', 'noodle', 'noon', 'nope', 'norm', 'normal', 'north', 'northern', 'nose', 'nosey', 'note', 'notebook', 'notice', 'noticed', 'nov', 'novel', 'november', 'nowplaying', 'np', 'nq', 'nt', 'ntaw', 'nuclear', 'nude', 'nugget', 'numb', 'number', 'nut', 'nutrition', 'nw', 'nxt', 'ny', 'nyc', 'nytimes', 'nz', 'oatmeal', 'obama', 'obsessed', 'obsession', 'obtaine', 'obvious', 'obviously', 'ocean', 'oct', 'october', 'odd', 'odds', 'offence', 'offense', 'offensive', 'offer', 'offered', 'offering', 'office', 'officer', 'official', 'officially', 'officialnichols', 'offline', 'offs', 'oh', 'oi', 'oil', 'oj', 'ok', 'okay', 'oklahoma', 'ol', 'old', 'older', 'oliver', 'olympics', 'omega', 'omg', 'onedirection', 'online', 'ont', 'oo', 'oops', 'oow', 'open', 'opened', 'opening', 'opera', 'operation', 'operator', 'opinion', 'opponent', 'opportunity', 'opposed', 'opposite', 'opposition', 'option', 'oq', 'oracle', 'orange', 'order', 'ordered', 'oreo', 'org', 'organic', 'organization', 'origin', 'original', 'orlando', 'osborne', 'otwolhappytimes', 'ou', 'outcome', 'outdoor', 'outdoors', 'outfit', 'outlet', 'outside', 'outta', 'overall', 'overcome', 'overheard', 'overrated', 'ow', 'owned', 'owner', 'oxygen', 'pa', 'pac', 'pace', 'pacific', 'pack', 'package', 'packed', 'packet', 'page', 'paid', 'pain', 'paint', 'painted', 'painting', 'pair', 'pal', 'palace', 'palestinian', 'palette', 'pan', 'panda', 'panic', 'pant', 'panther', 'paper', 'papi', 'parade', 'paradise', 'paragraph', 'paranoid', 'parent', 'paris', 'parish', 'park', 'parked', 'parking', 'parliament', 'particular', 'particularly', 'partner', 'partnership', 'party', 'pas', 'pass', 'passed', 'passing', 'passion', 'passionate', 'passport', 'password', 'past', 'pasta', 'paste', 'pastel', 'pastry', 'pat', 'patch', 'path', 'pathetic', 'patient', 'patrick', 'patriot', 'patrol', 'paul', 'paulicmyas', 'pause', 'pave', 'pay', 'paying', 'payment', 'pb', 'pc', 'pe', 'peace', 'peaceful', 'pee', 'peep', 'peer', 'pen', 'penalty', 'pencil', 'penis', 'pension', 'pentatonix', 'people', 'pepper', 'percent', 'perfect', 'perfectly', 'performance', 'period', 'periscope', 'permanent', 'persian', 'person', 'personal', 'personality', 'personally', 'perspective', 'pet', 'peter', 'petition', 'pg', 'ph', 'phase', 'phd', 'phil', 'philly', 'philosophy', 'phoenix', 'phone', 'photo', 'photobombs', 'photograph', 'photographer', 'photography', 'photoset', 'phrase', 'physic', 'physical', 'physically', 'pi', 'piano', 'pic', 'pick', 'picked', 'picking', 'pickle', 'picture', 'pie', 'piece', 'pierce', 'pig', 'pile', 'pill', 'pimpin', 'pin', 'ping', 'pink', 'pinterest', 'pipe', 'pirate', 'pirlo', 'piss', 'pissed', 'pit', 'pitch', 'pittsburgh', 'pizza', 'pj', 'pjnet', 'pjs', 'pk', 'place', 'plan', 'plane', 'planet', 'planned', 'planner', 'planning', 'plant', 'plastic', 'plasticbieber', 'plate', 'platform', 'platinum', 'play', 'played', 'player', 'playing', 'playlist', 'playoff', 'playstation', 'pleased', 'pleasure', 'plenty', 'plot', 'pls', 'plug', 'plus', 'plush', 'plz', 'pm', 'pmet', 'po', 'pocket', 'podcast', 'poetry', 'point', 'pointless', 'poke', 'polar', 'police', 'policeman', 'policy', 'political', 'politician', 'politics', 'poll', 'poo', 'poodle', 'pool', 'poop', 'poor', 'poorest', 'pop', 'popcorn', 'popped', 'poppy', 'popular', 'population', 'porch', 'pork', 'porn', 'port', 'portland', 'pose', 'position', 'positive', 'possible', 'possibly', 'post', 'posted', 'poster', 'posting', 'pot', 'potato', 'potential', 'potter', 'potus', 'pound', 'poverty', 'power', 'powerful', 'ppl', 'pq', 'pr', 'practice', 'praise', 'pray', 'prayed', 'prayer', 'praying', 'pre', 'prebreak', 'precious', 'predicted', 'prefer', 'pregnancy', 'pregnant', 'prejudice', 'premiere', 'premium', 'prep', 'preparation', 'prepare', 'prepared', 'preparing', 'presence', 'present', 'presentation', 'presenting', 'president', 'press', 'pressing', 'pressure', 'pretend', 'prettiest', 'pretty', 'previous', 'previously', 'price', 'pricing', 'pride', 'primary', 'prime', 'prince', 'princess', 'print', 'priority', 'prison', 'privacy', 'private', 'prize', 'pro', 'prob', 'probably', 'problem', 'probs', 'procedure', 'process', 'processed', 'processor', 'produce', 'produced', 'producer', 'product', 'production', 'productive', 'prof', 'professional', 'professor', 'profile', 'profit', 'profound', 'program', 'programme', 'progress', 'progressive', 'project', 'projection', 'promise', 'promised', 'promo', 'promos', 'promote', 'promoting', 'promotion', 'proof', 'proper', 'properly', 'property', 'proportion', 'protect', 'protected', 'protest', 'proud', 'prove', 'proved', 'provide', 'providing', 'psa', 'psalm', 'psych', 'psychology', 'pt', 'ptxofficial', 'pu', 'pub', 'public', 'puke', 'pull', 'pulled', 'pulling', 'pump', 'pumpkin', 'pun', 'punch', 'punched', 'pup', 'puppet', 'puppy', 'purchase', 'pure', 'purple', 'purpose', 'purse', 'push', 'pushawardsjadines', 'pushawardslizquens', 'pushed', 'pushing', 'pussy', 'putting', 'pv', 'px', 'python', 'qa', 'qb', 'qd', 'qg', 'qh', 'qk', 'ql', 'qn', 'qq', 'qr', 'qu', 'quad', 'quake', 'quality', 'quarter', 'queen', 'quest', 'question', 'questioning', 'quick', 'quickly', 'quiet', 'quietly', 'quit', 'quite', 'quiz', 'quote', 'quoteoftheday', 'qx', 'raabs', 'rabbit', 'rabble', 'rabiu', 'race', 'rachel', 'racing', 'racist', 'radar', 'radical', 'radio', 'rafa', 'rage', 'raider', 'rain', 'rainbow', 'raining', 'rainy', 'raise', 'raised', 'raising', 'rally', 'ram', 'ran', 'random', 'randomly', 'range', 'ranger', 'rank', 'ranked', 'ranking', 'rant', 'rap', 'rape', 'raped', 'rapper', 'rapping', 'rare', 'rarely', 'rat', 'rate', 'rating', 'rational', 'raven', 'raw', 'ray', 'rb', 'rbcfirsthome', 'rc', 'rd', 'reach', 'reached', 'react', 'reaction', 'read', 'reader', 'reading', 'ready', 'real', 'realdonaldtrump', 'realise', 'realised', 'realist', 'realistic', 'reality', 'realize', 'realized', 'realizing', 'really', 'reason', 'reasoning', 'receipt', 'receive', 'received', 'recent', 'recently', 'reception', 'recipe', 'recognise', 'recognition', 'recognize', 'record', 'recorded', 'recorder', 'recording', 'red', 'redo', 'reevaluate', 'ref', 'referee', 'reference', 'reflect', 'reflection', 'reform', 'refreshing', 'refugee', 'refuse', 'refusing', 'reg', 'regard', 'regardless', 'regina', 'region', 'register', 'regret', 'regular', 'regulation', 'rehab', 'rehearsal', 'reign', 'reject', 'relatable', 'relate', 'related', 'relation', 'relationship', 'relative', 'relax', 'release', 'released', 'relevant', 'reliant', 'religion', 'remain', 'remake', 'remember', 'remembered', 'remind', 'reminder', 'reminds', 'remix', 'remove', 'rendez', 'rent', 'rep', 'repeat', 'repeated', 'replace', 'replaced', 'replay', 'replied', 'reply', 'report', 'reported', 'reporter', 'reporting', 'repost', 'repostapp', 'represent', 'representation', 'republican', 'request', 'required', 'rescue', 'research', 'reserve', 'resource', 'respect', 'respected', 'respond', 'response', 'responsibility', 'responsible', 'rest', 'restaurant', 'result', 'rethink', 'retired', 'return', 'retweet', 'retweeted', 'retweets', 'reunion', 'reunited', 'reuters', 'revealed', 'revelation', 'revenge', 'revenue', 'reverbnation', 'reverse', 'review', 'revolution', 'reward', 'rh', 'rib', 'rice', 'rich', 'richard', 'richardbranson', 'richarddawkins', 'richmond', 'rick', 'rid', 'ride', 'ridiculous', 'riding', 'rifle', 'rift', 'right', 'ring', 'rip', 'ripped', 'rise', 'rising', 'risk', 'river', 'rk', 'rl', 'rm', 'rn', 'road', 'rob', 'robe', 'robert', 'robin', 'robot', 'rock', 'rocket', 'rockin', 'rocking', 'rod', 'role', 'roll', 'rolled', 'rolling', 'roman', 'romanatwood', 'romance', 'romantic', 'roof', 'room', 'rooney', 'root', 'rope', 'rose', 'rosol', 'ross', 'rossi', 'roster', 'rot', 'rough', 'round', 'route', 'routine', 'row', 'roy', 'royal', 'rp', 'rt', 'ru', 'rub', 'rubbed', 'ruby', 'rude', 'rugbyworldcup', 'ruin', 'ruined', 'ruining', 'rule', 'rumor', 'run', 'runner', 'running', 'rush', 'russell', 'russia', 'russian', 'rwc', 'rxaiuw', 'ry', 'ryan', 'sa', 'sack', 'sacrifice', 'sad', 'safe', 'safety', 'said', 'sailor', 'saint', 'sake', 'sale', 'salon', 'salute', 'sam', 'sample', 'san', 'sand', 'sander', 'sandwich', 'sandy', 'sang', 'sap', 'sara', 'sarah', 'sarcasm', 'sardar', 'sasha', 'sat', 'saturday', 'sauce', 'saudi', 'sausage', 'savage', 'save', 'saved', 'saving', 'saw', 'say', 'sayin', 'saying', 'sb', 'sc', 'scale', 'scam', 'scandal', 'scar', 'scare', 'scared', 'scarf', 'scary', 'scene', 'schedule', 'scheduled', 'scheme', 'school', 'science', 'scientist', 'scooped', 'scope', 'score', 'scored', 'scoring', 'scorpio', 'scot', 'scotland', 'scott', 'scout', 'scrap', 'scratch', 'scream', 'screaming', 'screen', 'screening', 'screenshot', 'scripture', 'scroll', 'scrub', 'se', 'sea', 'seal', 'search', 'season', 'seat', 'sec', 'second', 'secret', 'section', 'security', 'seed', 'seeing', 'seek', 'seen', 'select', 'selection', 'selena', 'selenagomez', 'self', 'selfie', 'selfies', 'selfish', 'selfless', 'sell', 'seller', 'selling', 'sem', 'semester', 'seminar', 'sen', 'send', 'sending', 'sends', 'senior', 'sensanders', 'sense', 'sensitive', 'sensor', 'sent', 'sentence', 'seo', 'separate', 'sept', 'series', 'seriously', 'serve', 'served', 'server', 'service', 'serving', 'session', 'set', 'setting', 'settle', 'settled', 'seven', 'sex', 'sexiest', 'sexist', 'sexual', 'sexy', 'sf', 'sh', 'sha', 'shade', 'shadow', 'shady', 'shake', 'shakespeare', 'shall', 'shame', 'shane', 'shape', 'shaped', 'share', 'sharing', 'shark', 'shawn', 'shawnmendes', 'sheet', 'sheffield', 'shelf', 'sherlock', 'shes', 'shesahoeif', 'shid', 'shift', 'shine', 'shiny', 'ship', 'shipping', 'shirt', 'shit', 'shitty', 'shld', 'shocked', 'shocking', 'shoe', 'shoot', 'shooting', 'shop', 'shopping', 'short', 'shortsleeve', 'shot', 'shoulder', 'shouldn', 'shouldnt', 'shout', 'shouting', 'shoutout', 'showed', 'shower', 'showing', 'shown', 'shrimp', 'shut', 'shutter', 'shy', 'si', 'sick', 'sigh', 'sight', 'sign', 'signal', 'signed', 'significant', 'signing', 'sigurdsson', 'silence', 'silent', 'silly', 'silver', 'similar', 'simon', 'simple', 'simply', 'sin', 'sinful', 'sing', 'singapore', 'singer', 'singing', 'single', 'sings', 'sink', 'sir', 'sissy', 'sister', 'sit', 'site', 'sits', 'sitting', 'situation', 'sixer', 'size', 'sized', 'sj', 'sk', 'skeleton', 'sketch', 'skill', 'skin', 'skinny', 'skip', 'skookerg', 'skrillex', 'skull', 'sky', 'skype', 'sl', 'slam', 'slang', 'slap', 'slapping', 'slave', 'slay', 'sleep', 'sleeping', 'sleepy', 'sleeve', 'slept', 'slice', 'slide', 'sliding', 'slightly', 'slim', 'slipknot', 'slipped', 'slow', 'slowly', 'slut', 'sm', 'smacked', 'small', 'smaller', 'smart', 'smarter', 'smash', 'smashed', 'smell', 'smh', 'smile', 'smiled', 'smiling', 'smirk', 'smith', 'smoke', 'smoked', 'smoking', 'smooth', 'smoothly', 'snack', 'snail', 'snake', 'snap', 'snapchat', 'snapdeal', 'sneak', 'snipeyhead', 'snitchwich', 'snoeren', 'snoring', 'snow', 'soap', 'sobbing', 'soccer', 'social', 'society', 'soda', 'soft', 'softly', 'software', 'sold', 'soldier', 'solid', 'solo', 'solution', 'solve', 'somebody', 'someday', 'son', 'song', 'soon', 'sooner', 'sooo', 'soooo', 'soooooo', 'sophie', 'sophisti', 'sore', 'sorry', 'sort', 'soul', 'sound', 'soundcloud', 'soundtrack', 'soup', 'sour', 'source', 'south', 'southern', 'sp', 'space', 'spanish', 'sparksflylarry', 'speak', 'speaker', 'speaking', 'speaks', 'special', 'specie', 'specific', 'spectre', 'spectrepremiere', 'speech', 'speed', 'spell', 'spelt', 'spend', 'spending', 'spent', 'spice', 'spider', 'spiked', 'spin', 'spinning', 'spiral', 'spirit', 'spit', 'split', 'spoil', 'spoiler', 'spoke', 'spoken', 'sponge', 'sponsor', 'spooky', 'spoon', 'sport', 'spot', 'spotify', 'spotted', 'spray', 'spread', 'spreading', 'spring', 'sprint', 'spy', 'sq', 'squad', 'square', 'sr', 'srsly', 'st', 'stab', 'stabbed', 'stable', 'stack', 'stadium', 'staff', 'stage', 'stair', 'stalk', 'stalking', 'stall', 'stamp', 'stand', 'standard', 'standing', 'stanford', 'star', 'starbucks', 'stare', 'starring', 'start', 'started', 'starting', 'startup', 'starving', 'state', 'statement', 'station', 'stats', 'status', 'stay', 'stayed', 'staying', 'steady', 'steak', 'steal', 'steelers', 'stella', 'step', 'stephen', 'stepped', 'stepping', 'stereotype', 'steve', 'steven', 'stfu', 'stick', 'stigma', 'stitch', 'stock', 'stocking', 'stoked', 'stole', 'stolen', 'stomach', 'stone', 'stonewalling', 'stood', 'stop', 'stopcisa', 'stopped', 'storage', 'store', 'storm', 'story', 'straight', 'strange', 'stranger', 'strangest', 'strategy', 'straw', 'stream', 'streaming', 'street', 'strength', 'stress', 'stressed', 'stressful', 'stressing', 'strike', 'striker', 'string', 'strip', 'stripper', 'strive', 'stroke', 'strong', 'stronger', 'strongest', 'structure', 'struggle', 'struggling', 'stu', 'stuck', 'student', 'studied', 'studio', 'study', 'studying', 'stuff', 'stuffed', 'stunning', 'stupid', 'style', 'su', 'sub', 'subject', 'submit', 'submitted', 'subscribe', 'subscription', 'subtweet', 'succeed', 'success', 'successful', 'suck', 'sucked', 'sucking', 'sudden', 'suddenly', 'suffer', 'suffering', 'sugar', 'sugg', 'suggestion', 'suicide', 'suit', 'suite', 'sum', 'summer', 'sun', 'sunday', 'sunny', 'sunset', 'sunshine', 'super', 'supergirl', 'superhero', 'supernatural', 'superstar', 'supplier', 'supply', 'support', 'supporting', 'suppose', 'supposed', 'sure', 'surely', 'surge', 'surgeon', 'surgery', 'surprise', 'surprised', 'surprising', 'survey', 'survive', 'survived', 'suspect', 'suspense', 'sv', 'sw', 'swag', 'swan', 'swansea', 'swear', 'sweat', 'sweater', 'sweatshirt', 'sweep', 'sweeper', 'sweepstakes', 'sweet', 'sweetest', 'sweetie', 'swift', 'swim', 'swing', 'switch', 'sword', 'sx', 'syria', 'sz', 'ta', 'tab', 'table', 'taco', 'tacoma', 'tactic', 'tag', 'tail', 'takeaway', 'taken', 'taker', 'taking', 'tale', 'talent', 'talented', 'talk', 'talked', 'talkie', 'talkin', 'talking', 'talkradio', 'talktalk', 'tall', 'tally', 'tamdeanburn', 'tampon', 'tan', 'tank', 'tap', 'tape', 'target', 'taste', 'tattoo', 'tattooed', 'taught', 'tax', 'taxcredits', 'taxi', 'taxpayer', 'taylor', 'tb', 'tbh', 'tc', 'td', 'te', 'tea', 'teach', 'teacher', 'teaching', 'team', 'teamvampettes', 'tear', 'tech', 'technically', 'technique', 'technology', 'ted', 'teen', 'teeth', 'telecom', 'tell', 'telling', 'telly', 'temp', 'temperature', 'temple', 'temporary', 'tempted', 'tend', 'tendency', 'term', 'terrible', 'terrified', 'terrifying', 'terrorist', 'test', 'testing', 'texan', 'texas', 'text', 'texted', 'texting', 'tf', 'tfw', 'th', 'thai', 'thank', 'thankful', 'thanks', 'thanksgiving', 'thankyou', 'thats', 'theater', 'theatre', 'theellenshow', 'theme', 'themed', 'theory', 'therapist', 'therapy', 'thermostat', 'thevampsbrad', 'thewalkingdead', 'theweeknd', 'theyre', 'thezodiackiller', 'thigh', 'thine', 'thing', 'think', 'thinking', 'thirsty', 'thisiswhyweplay', 'tho', 'thomas', 'thot', 'thought', 'thoughtful', 'thousand', 'thread', 'threat', 'threatening', 'threw', 'thrive', 'thriving', 'throat', 'throw', 'throwing', 'thrown', 'thug', 'thumb', 'thursday', 'thx', 'thy', 'ti', 'ticket', 'tie', 'tied', 'tiepod', 'tiger', 'tight', 'til', 'till', 'tim', 'time', 'timeline', 'tina', 'tiny', 'tip', 'tire', 'tired', 'tissue', 'tit', 'titan', 'titanic', 'title', 'titled', 'titty', 'tix', 'tj', 'tl', 'tmrw', 'tn', 'toast', 'today', 'toddler', 'toe', 'toilet', 'told', 'tolerate', 'tolkien', 'tom', 'tomorrow', 'ton', 'tone', 'tongue', 'tonight', 'tony', 'took', 'tool', 'topic', 'torikelly', 'torn', 'toronto', 'torus', 'tory', 'total', 'totally', 'tote', 'touch', 'touched', 'touching', 'tough', 'tour', 'tournament', 'towel', 'tower', 'town', 'toy', 'tq', 'tr', 'track', 'trade', 'trading', 'traditional', 'traffic', 'trafficking', 'tragedy', 'tragic', 'trail', 'trailer', 'train', 'trainer', 'training', 'trans', 'transformation', 'transformed', 'transforming', 'transponder', 'trap', 'trash', 'travel', 'traveller', 'travis', 'treason', 'treat', 'treated', 'treating', 'treatment', 'treatyourfamily', 'trecru', 'tree', 'trek', 'trend', 'trending', 'trial', 'tribunal', 'tribute', 'trick', 'tried', 'trigger', 'triggered', 'trip', 'triple', 'troll', 'trolling', 'trouble', 'tru', 'truck', 'true', 'truly', 'trump', 'trust', 'trusted', 'truth', 'try', 'trying', 'tryna', 'tshirt', 'tt', 'tu', 'tub', 'tube', 'tuesday', 'tumblr', 'tune', 'tunnel', 'turkey', 'turn', 'turned', 'turning', 'tutorial', 'tv', 'tvtelehit', 'twat', 'twd', 'tweep', 'tweeps', 'tweet', 'tweeted', 'tweeting', 'twice', 'twilight', 'twin', 'twist', 'twitter', 'tx', 'ty', 'tyler', 'type', 'typical', 'typing', 'typo', 'uber', 'uf', 'ug', 'ugh', 'ugly', 'uh', 'uk', 'ukhouseoflords', 'uklabour', 'ul', 'ultimate', 'um', 'umm', 'ummm', 'unbelievable', 'unc', 'uncle', 'uncomfortable', 'underground', 'understand', 'understanding', 'understood', 'undertaker', 'undertale', 'unethical', 'unfair', 'unfollow', 'unfollowed', 'unfollower', 'unfollowers', 'unfortunately', 'unhappy', 'unhealthy', 'uni', 'uniform', 'union', 'unique', 'unit', 'united', 'universe', 'university', 'universitychallenge', 'unknown', 'unless', 'unnecessary', 'unodc', 'unplugged', 'unsc', 'unsolved', 'unused', 'upcoming', 'update', 'updated', 'upgrade', 'uplifting', 'uploaded', 'uploading', 'upper', 'ups', 'upset', 'upside', 'upstairs', 'ur', 'urban', 'urge', 'url', 'usa', 'usd', 'use', 'used', 'useful', 'useless', 'user', 'username', 'using', 'usual', 'usually', 'ux', 'uy', 'va', 'vacation', 'value', 'vampire', 'van', 'variety', 'vd', 've', 'vega', 'vegan', 'vegetable', 'vegetarian', 'veil', 'velvet', 'venicemase', 'vent', 'venue', 'verizon', 'versa', 'verse', 'version', 'vet', 'veteran', 'vg', 'vh', 'vi', 'vibe', 'vic', 'vice', 'victim', 'victor', 'victoria', 'victorian', 'victory', 'vid', 'video', 'videomarketing', 'vids', 'view', 'viewer', 'viking', 'villa', 'village', 'vincent', 'vine', 'vinod', 'vintage', 'vinyl', 'violation', 'violence', 'violin', 'vip', 'viral', 'virgin', 'visa', 'vision', 'visit', 'visited', 'visiting', 'visitor', 'visto', 'visual', 'vital', 'vitamin', 'vj', 'vk', 'vlog', 'vm', 'vmb', 'vocal', 'voice', 'volume', 'vote', 'voted', 'voteonedirection', 'voting', 'vous', 'vt', 'vu', 'vulgar', 'vv', 'wa', 'wack', 'wage', 'waist', 'wait', 'waited', 'waiter', 'waiting', 'wake', 'wakeupamerica', 'waking', 'wale', 'walk', 'walked', 'walker', 'walking', 'wall', 'wallet', 'walmart', 'wan', 'wana', 'want', 'wanted', 'wanting', 'war', 'wardrobe', 'warm', 'warmer', 'warming', 'warmth', 'warning', 'warrior', 'wash', 'washed', 'washer', 'washing', 'washington', 'wasn', 'wasnt', 'wasp', 'waste', 'wasted', 'watch', 'watched', 'watching', 'water', 'watson', 'wave', 'way', 'wayne', 'wd', 'weak', 'weakness', 'wealth', 'weapon', 'wear', 'wearing', 'weather', 'web', 'webcam', 'website', 'wedding', 'wednesday', 'weed', 'week', 'weekend', 'weekly', 'weeknd', 'weep', 'weight', 'weird', 'weirdest', 'weirdo', 'welcome', 'welfare', 'wen', 'went', 'weren', 'west', 'wet', 'wetv', 'wf', 'whats', 'wheel', 'whichever', 'whilst', 'whip', 'whipped', 'white', 'whoop', 'whyimnotvotingforhillary', 'wi', 'wide', 'wife', 'wifi', 'wig', 'wild', 'william', 'willing', 'wilson', 'win', 'wind', 'window', 'wine', 'wing', 'wink', 'winner', 'winning', 'winter', 'wisdom', 'wise', 'wish', 'wit', 'witch', 'witness', 'witty', 'wizard', 'wizkid', 'wk', 'wn', 'woe', 'woke', 'wolf', 'woman', 'won', 'wonder', 'wondered', 'wonderful', 'wondering', 'wont', 'wood', 'word', 'wordbrain', 'wordpressdotcom', 'wore', 'work', 'workbench', 'worked', 'worker', 'working', 'workout', 'world', 'worldwide', 'worried', 'worry', 'worse', 'worst', 'worth', 'wouldn', 'wouldnt', 'wound', 'wow', 'wpe', 'wq', 'wr', 'wrap', 'wrapped', 'wrestling', 'write', 'writer', 'writing', 'written', 'wrong', 'wrote', 'wrs', 'wtf', 'wv', 'wvpmc', 'ww', 'wwe', 'wy', 'wyatt', 'xa', 'xbox', 'xc', 'xd', 'xf', 'xg', 'xh', 'xi', 'xj', 'xk', 'xl', 'xmas', 'xo', 'xx', 'xxx', 'ya', 'yacht', 'yall', 'yard', 'yay', 'yb', 'yc', 'yea', 'yeah', 'year', 'yeh', 'yell', 'yelled', 'yelling', 'yellow', 'yep', 'yes', 'yesterday', 'yh', 'yi', 'yl', 'ym', 'yma', 'ymyjapyvnk', 'yo', 'yoga', 'yogurt', 'yoquiero', 'york', 'yorker', 'youll', 'young', 'younger', 'youre', 'youth', 'youtube', 'yq', 'yr', 'yu', 'yummy', 'yung', 'yup', 'zc', 'zero', 'zg', 'zo', 'zombie', 'zv', 'zx', 'zz']\n"
     ]
    }
   ],
   "source": [
    "print(\"most frequently used words:{}\".format(cv.get_feature_names()))"
   ]
  },
  {
   "cell_type": "markdown",
   "metadata": {},
   "source": [
    "### Most common words used by Male and Females"
   ]
  },
  {
   "cell_type": "code",
   "execution_count": 47,
   "metadata": {},
   "outputs": [],
   "source": [
    "male_df = df2[df2['gender'] == 1]\n",
    "female_df = df2[df2['gender'] == 0]"
   ]
  },
  {
   "cell_type": "code",
   "execution_count": 48,
   "metadata": {},
   "outputs": [
    {
     "data": {
      "text/plain": [
       "((6194, 2), (6700, 2))"
      ]
     },
     "execution_count": 48,
     "metadata": {},
     "output_type": "execute_result"
    }
   ],
   "source": [
    "male_df.shape , female_df.shape"
   ]
  },
  {
   "cell_type": "code",
   "execution_count": 49,
   "metadata": {},
   "outputs": [],
   "source": [
    "male_words = pd.Series(' '.join(male_df['text'].astype(str)).lower().split(\" \")).value_counts()[:20]\n",
    "female_words = pd.Series(' '.join(female_df['text'].astype(str)).lower().split(\" \")).value_counts()[:20]"
   ]
  },
  {
   "cell_type": "code",
   "execution_count": 50,
   "metadata": {},
   "outputs": [],
   "source": [
    "male_words = male_words.iloc[1:]\n",
    "female_words = female_words.iloc[1:]"
   ]
  },
  {
   "cell_type": "code",
   "execution_count": 51,
   "metadata": {},
   "outputs": [
    {
     "data": {
      "text/plain": [
       "<matplotlib.axes._subplots.AxesSubplot at 0x2d74e407548>"
      ]
     },
     "execution_count": 51,
     "metadata": {},
     "output_type": "execute_result"
    },
    {
     "data": {
      "image/png": "[encoded data removed]",
      "text/plain": [
       "<Figure size 720x576 with 1 Axes>"
      ]
     },
     "metadata": {},
     "output_type": "display_data"
    }
   ],
   "source": [
    "fig = plt.figure(figsize=(10,8))\n",
    "fig.patch.set_facecolor('white')\n",
    "plt.title(\"Male Tweet Word Count\")\n",
    "plt.xlabel(\"Tweet Word\")\n",
    "plt.ylabel(\"Count\")\n",
    "male_words.plot.bar(color=\"royalblue\")"
   ]
  },
  {
   "cell_type": "markdown",
   "metadata": {},
   "source": [
    "#### From the above plot we can see that most words used by male is 'the'."
   ]
  },
  {
   "cell_type": "code",
   "execution_count": 52,
   "metadata": {},
   "outputs": [
    {
     "data": {
      "text/plain": [
       "<matplotlib.axes._subplots.AxesSubplot at 0x2d74e3eae48>"
      ]
     },
     "execution_count": 52,
     "metadata": {},
     "output_type": "execute_result"
    },
    {
     "data": {
      "image/png": "[encoded data removed]",
      "text/plain": [
       "<Figure size 720x576 with 1 Axes>"
      ]
     },
     "metadata": {},
     "output_type": "display_data"
    }
   ],
   "source": [
    "fig = plt.figure(figsize=(10,8))\n",
    "fig.patch.set_facecolor('white')\n",
    "plt.title(\"Female Tweet Word Count\")\n",
    "plt.xlabel(\"Tweet Word\")\n",
    "plt.ylabel(\"Count\")\n",
    "female_words.plot.bar(color=\"salmon\")"
   ]
  },
  {
   "cell_type": "markdown",
   "metadata": {},
   "source": [
    "#### From the above plot we can see that most words used by female is 'and'."
   ]
  },
  {
   "cell_type": "markdown",
   "metadata": {},
   "source": [
    "### Model Training"
   ]
  },
  {
   "cell_type": "markdown",
   "metadata": {},
   "source": [
    "Our bag of words is in sparse matrix.\n",
    "We are putting Sparse matrix as value of x for training as it takes lots of time to run"
   ]
  },
  {
   "cell_type": "code",
   "execution_count": 53,
   "metadata": {},
   "outputs": [],
   "source": [
    "from sklearn.model_selection import train_test_split\n",
    "from sklearn.metrics import confusion_matrix, accuracy_score\n",
    "\n",
    "x = sparce_matrix\n",
    "y = df2[['gender']].values\n",
    "\n",
    "x_train,x_test,y_train,y_test = train_test_split(x,y,train_size=0.8)"
   ]
  },
  {
   "cell_type": "code",
   "execution_count": 54,
   "metadata": {},
   "outputs": [
    {
     "data": {
      "text/plain": [
       "((10315, 5000), (2579, 5000))"
      ]
     },
     "execution_count": 54,
     "metadata": {},
     "output_type": "execute_result"
    }
   ],
   "source": [
    "x_train.shape, x_test.shape"
   ]
  },
  {
   "cell_type": "code",
   "execution_count": 55,
   "metadata": {},
   "outputs": [
    {
     "data": {
      "text/plain": [
       "((10315, 1), (2579, 1))"
      ]
     },
     "execution_count": 55,
     "metadata": {},
     "output_type": "execute_result"
    }
   ],
   "source": [
    "y_train.shape, y_test.shape"
   ]
  },
  {
   "cell_type": "markdown",
   "metadata": {},
   "source": [
    "### Applying Machine Learning Models :"
   ]
  },
  {
   "cell_type": "markdown",
   "metadata": {},
   "source": [
    "### Naive Bayes Classification"
   ]
  },
  {
   "cell_type": "code",
   "execution_count": 56,
   "metadata": {},
   "outputs": [
    {
     "name": "stderr",
     "output_type": "stream",
     "text": [
      "C:\\ProgramData\\Anaconda3\\lib\\site-packages\\sklearn\\utils\\validation.py:724: DataConversionWarning: A column-vector y was passed when a 1d array was expected. Please change the shape of y to (n_samples, ), for example using ravel().\n",
      "  y = column_or_1d(y, warn=True)\n"
     ]
    },
    {
     "data": {
      "text/plain": [
       "GaussianNB(priors=None, var_smoothing=1e-09)"
      ]
     },
     "execution_count": 56,
     "metadata": {},
     "output_type": "execute_result"
    }
   ],
   "source": [
    "from sklearn.naive_bayes import GaussianNB\n",
    "gnb=GaussianNB()\n",
    "gnb.fit(x_train,y_train)"
   ]
  },
  {
   "cell_type": "code",
   "execution_count": 63,
   "metadata": {},
   "outputs": [
    {
     "name": "stdout",
     "output_type": "stream",
     "text": [
      "Naive Bayes Accuracy:  57.3090345094998\n"
     ]
    }
   ],
   "source": [
    "y_pred=gnb.predict(x_test)\n",
    "print(\"Naive Bayes Accuracy: \",accuracy_score(y_test,y_pred)*100)\n",
    "nb_a=accuracy_score(y_test,y_pred)*100"
   ]
  },
  {
   "cell_type": "markdown",
   "metadata": {},
   "source": [
    "### Logistic Regression"
   ]
  },
  {
   "cell_type": "code",
   "execution_count": 58,
   "metadata": {},
   "outputs": [
    {
     "name": "stderr",
     "output_type": "stream",
     "text": [
      "C:\\ProgramData\\Anaconda3\\lib\\site-packages\\sklearn\\linear_model\\logistic.py:432: FutureWarning: Default solver will be changed to 'lbfgs' in 0.22. Specify a solver to silence this warning.\n",
      "  FutureWarning)\n",
      "C:\\ProgramData\\Anaconda3\\lib\\site-packages\\sklearn\\utils\\validation.py:724: DataConversionWarning: A column-vector y was passed when a 1d array was expected. Please change the shape of y to (n_samples, ), for example using ravel().\n",
      "  y = column_or_1d(y, warn=True)\n"
     ]
    },
    {
     "data": {
      "text/plain": [
       "LogisticRegression(C=1.0, class_weight=None, dual=False, fit_intercept=True,\n",
       "                   intercept_scaling=1, l1_ratio=None, max_iter=100,\n",
       "                   multi_class='warn', n_jobs=None, penalty='l2',\n",
       "                   random_state=None, solver='warn', tol=0.0001, verbose=0,\n",
       "                   warm_start=False)"
      ]
     },
     "execution_count": 58,
     "metadata": {},
     "output_type": "execute_result"
    }
   ],
   "source": [
    "from sklearn.linear_model import LogisticRegression\n",
    "lr=LogisticRegression()\n",
    "lr.fit(x_train,y_train)"
   ]
  },
  {
   "cell_type": "code",
   "execution_count": 62,
   "metadata": {},
   "outputs": [
    {
     "name": "stdout",
     "output_type": "stream",
     "text": [
      "Logistic Regression Accuracy: 57.696781698332686\n"
     ]
    }
   ],
   "source": [
    "y_pred2=lr.predict(x_test)\n",
    "from sklearn.metrics import accuracy_score\n",
    "print(\"Logistic Regression Accuracy:\",accuracy_score(y_test,y_pred2)*100)\n",
    "lr_a=accuracy_score(y_test,y_pred2)*100"
   ]
  },
  {
   "cell_type": "markdown",
   "metadata": {},
   "source": [
    "### Random Forest Classification"
   ]
  },
  {
   "cell_type": "code",
   "execution_count": 60,
   "metadata": {},
   "outputs": [
    {
     "name": "stderr",
     "output_type": "stream",
     "text": [
      "C:\\ProgramData\\Anaconda3\\lib\\site-packages\\ipykernel_launcher.py:3: DataConversionWarning: A column-vector y was passed when a 1d array was expected. Please change the shape of y to (n_samples,), for example using ravel().\n",
      "  This is separate from the ipykernel package so we can avoid doing imports until\n"
     ]
    },
    {
     "data": {
      "text/plain": [
       "RandomForestClassifier(bootstrap=True, class_weight=None, criterion='gini',\n",
       "                       max_depth=None, max_features='auto', max_leaf_nodes=None,\n",
       "                       min_impurity_decrease=0.0, min_impurity_split=None,\n",
       "                       min_samples_leaf=1, min_samples_split=2,\n",
       "                       min_weight_fraction_leaf=0.0, n_estimators=200,\n",
       "                       n_jobs=None, oob_score=False, random_state=None,\n",
       "                       verbose=0, warm_start=False)"
      ]
     },
     "execution_count": 60,
     "metadata": {},
     "output_type": "execute_result"
    }
   ],
   "source": [
    "from sklearn.ensemble import RandomForestClassifier\n",
    "rfc=RandomForestClassifier(n_estimators=200)\n",
    "rfc.fit(x_train,y_train)"
   ]
  },
  {
   "cell_type": "code",
   "execution_count": 61,
   "metadata": {},
   "outputs": [
    {
     "name": "stdout",
     "output_type": "stream",
     "text": [
      "Random Forest Accuracy: 59.20899573478092\n"
     ]
    }
   ],
   "source": [
    "y_pred3=rfc.predict(x_test)\n",
    "print(\"Random Forest Accuracy:\",accuracy_score(y_test,y_pred3)*100)\n",
    "rf_a=accuracy_score(y_test,y_pred3)*100"
   ]
  },
  {
   "cell_type": "markdown",
   "metadata": {},
   "source": [
    "### SVM Classification"
   ]
  },
  {
   "cell_type": "code",
   "execution_count": 64,
   "metadata": {},
   "outputs": [
    {
     "name": "stderr",
     "output_type": "stream",
     "text": [
      "C:\\ProgramData\\Anaconda3\\lib\\site-packages\\sklearn\\utils\\validation.py:724: DataConversionWarning: A column-vector y was passed when a 1d array was expected. Please change the shape of y to (n_samples, ), for example using ravel().\n",
      "  y = column_or_1d(y, warn=True)\n",
      "C:\\ProgramData\\Anaconda3\\lib\\site-packages\\sklearn\\svm\\base.py:193: FutureWarning: The default value of gamma will change from 'auto' to 'scale' in version 0.22 to account better for unscaled features. Set gamma explicitly to 'auto' or 'scale' to avoid this warning.\n",
      "  \"avoid this warning.\", FutureWarning)\n"
     ]
    },
    {
     "data": {
      "text/plain": [
       "SVC(C=1.0, cache_size=200, class_weight=None, coef0=0.0,\n",
       "    decision_function_shape='ovr', degree=3, gamma='auto_deprecated',\n",
       "    kernel='rbf', max_iter=-1, probability=False, random_state=None,\n",
       "    shrinking=True, tol=0.001, verbose=False)"
      ]
     },
     "execution_count": 64,
     "metadata": {},
     "output_type": "execute_result"
    }
   ],
   "source": [
    "from sklearn.svm import SVC\n",
    "svc = SVC()\n",
    "svc.fit(x_train, y_train)"
   ]
  },
  {
   "cell_type": "code",
   "execution_count": 65,
   "metadata": {},
   "outputs": [
    {
     "name": "stdout",
     "output_type": "stream",
     "text": [
      "SVM accuracy: 50.79488173710741\n"
     ]
    }
   ],
   "source": [
    "y_pred4 = svc.predict(x_test)\n",
    "print(\"SVM accuracy:\",accuracy_score(y_test, y_pred4)*100)\n",
    "svm_a=accuracy_score(y_test, y_pred4)*100"
   ]
  },
  {
   "cell_type": "markdown",
   "metadata": {},
   "source": [
    "### KNN Classification"
   ]
  },
  {
   "cell_type": "code",
   "execution_count": 66,
   "metadata": {},
   "outputs": [
    {
     "name": "stderr",
     "output_type": "stream",
     "text": [
      "C:\\ProgramData\\Anaconda3\\lib\\site-packages\\ipykernel_launcher.py:3: DataConversionWarning: A column-vector y was passed when a 1d array was expected. Please change the shape of y to (n_samples, ), for example using ravel().\n",
      "  This is separate from the ipykernel package so we can avoid doing imports until\n"
     ]
    },
    {
     "data": {
      "text/plain": [
       "KNeighborsClassifier(algorithm='auto', leaf_size=30, metric='minkowski',\n",
       "                     metric_params=None, n_jobs=None, n_neighbors=5, p=2,\n",
       "                     weights='uniform')"
      ]
     },
     "execution_count": 66,
     "metadata": {},
     "output_type": "execute_result"
    }
   ],
   "source": [
    "from sklearn.neighbors import KNeighborsClassifier\n",
    "knn=KNeighborsClassifier(n_neighbors = 5, metric = 'minkowski',p=2)\n",
    "knn.fit(x_train,y_train)"
   ]
  },
  {
   "cell_type": "code",
   "execution_count": 67,
   "metadata": {},
   "outputs": [
    {
     "name": "stdout",
     "output_type": "stream",
     "text": [
      "KNN Accuracy:  53.586661496704146\n"
     ]
    }
   ],
   "source": [
    "y_pred5 =knn.predict(x_test)\n",
    "print(\"KNN Accuracy: \",accuracy_score(y_test,y_pred5)*100)\n",
    "knn_a=accuracy_score(y_test,y_pred5)*100"
   ]
  },
  {
   "cell_type": "markdown",
   "metadata": {},
   "source": [
    "### Accuracy"
   ]
  },
  {
   "cell_type": "code",
   "execution_count": 68,
   "metadata": {},
   "outputs": [],
   "source": [
    "all_accuracy_model = {\n",
    "    'Models' : ['Naive Bayes','Logistic Regression','Random Forest','SVM','KNN'],\n",
    "    'Accuracy':[nb_a,lr_a,rf_a,svm_a,knn_a]\n",
    "}"
   ]
  },
  {
   "cell_type": "code",
   "execution_count": 69,
   "metadata": {},
   "outputs": [],
   "source": [
    "all_accuracy_model = pd.DataFrame(all_accuracy_model)"
   ]
  },
  {
   "cell_type": "code",
   "execution_count": 70,
   "metadata": {},
   "outputs": [
    {
     "data": {
      "text/html": [
       "<div>\n",
       "<style scoped>\n",
       "    .dataframe tbody tr th:only-of-type {\n",
       "        vertical-align: middle;\n",
       "    }\n",
       "\n",
       "    .dataframe tbody tr th {\n",
       "        vertical-align: top;\n",
       "    }\n",
       "\n",
       "    .dataframe thead th {\n",
       "        text-align: right;\n",
       "    }\n",
       "</style>\n",
       "<table border=\"1\" class=\"dataframe\">\n",
       "  <thead>\n",
       "    <tr style=\"text-align: right;\">\n",
       "      <th></th>\n",
       "      <th>Models</th>\n",
       "      <th>Accuracy</th>\n",
       "    </tr>\n",
       "  </thead>\n",
       "  <tbody>\n",
       "    <tr>\n",
       "      <td>0</td>\n",
       "      <td>Naive Bayes</td>\n",
       "      <td>57.309035</td>\n",
       "    </tr>\n",
       "    <tr>\n",
       "      <td>1</td>\n",
       "      <td>Logistic Regression</td>\n",
       "      <td>57.696782</td>\n",
       "    </tr>\n",
       "    <tr>\n",
       "      <td>2</td>\n",
       "      <td>Random Forest</td>\n",
       "      <td>59.208996</td>\n",
       "    </tr>\n",
       "    <tr>\n",
       "      <td>3</td>\n",
       "      <td>SVM</td>\n",
       "      <td>50.794882</td>\n",
       "    </tr>\n",
       "    <tr>\n",
       "      <td>4</td>\n",
       "      <td>KNN</td>\n",
       "      <td>53.586661</td>\n",
       "    </tr>\n",
       "  </tbody>\n",
       "</table>\n",
       "</div>"
      ],
      "text/plain": [
       "                Models   Accuracy\n",
       "0          Naive Bayes  57.309035\n",
       "1  Logistic Regression  57.696782\n",
       "2        Random Forest  59.208996\n",
       "3                  SVM  50.794882\n",
       "4                  KNN  53.586661"
      ]
     },
     "execution_count": 70,
     "metadata": {},
     "output_type": "execute_result"
    }
   ],
   "source": [
    "all_accuracy_model"
   ]
  },
  {
   "cell_type": "code",
   "execution_count": 71,
   "metadata": {},
   "outputs": [
    {
     "data": {
      "text/plain": [
       "<matplotlib.axes._subplots.AxesSubplot at 0x2d77489a708>"
      ]
     },
     "execution_count": 71,
     "metadata": {},
     "output_type": "execute_result"
    },
    {
     "data": {
      "image/png": "[encoded data removed]",
      "text/plain": [
       "<Figure size 864x576 with 1 Axes>"
      ]
     },
     "metadata": {
      "needs_background": "light"
     },
     "output_type": "display_data"
    }
   ],
   "source": [
    "plt.figure(figsize=(12, 8))\n",
    "sns.barplot(x='Models',y='Accuracy',data=all_accuracy_model)"
   ]
  },
  {
   "cell_type": "markdown",
   "metadata": {},
   "source": [
    "### Conclusion:"
   ]
  },
  {
   "cell_type": "markdown",
   "metadata": {},
   "source": [
    "#### We can see that Random Forest model performed well with 59.20% accuracy."
   ]
  }
 ],
 "metadata": {
  "kernelspec": {
   "display_name": "Python 3",
   "language": "python",
   "name": "python3"
  },
  "language_info": {
   "codemirror_mode": {
    "name": "ipython",
    "version": 3
   },
   "file_extension": ".py",
   "mimetype": "text/x-python",
   "name": "python",
   "nbconvert_exporter": "python",
   "pygments_lexer": "ipython3",
   "version": "3.7.4"
  }
 },
 "nbformat": 4,
 "nbformat_minor": 2
}
